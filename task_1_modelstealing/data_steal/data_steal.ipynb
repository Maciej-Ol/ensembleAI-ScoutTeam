{
 "cells": [
  {
   "cell_type": "code",
   "execution_count": null,
   "metadata": {},
   "outputs": [
    {
     "ename": "",
     "evalue": "",
     "output_type": "error",
     "traceback": [
      "\u001b[1;31mThe kernel failed to start due to the missing module '_sqlite3'. Consider installing this module.\n",
      "\u001b[1;31mClick <a href='https://aka.ms/kernelFailuresMissingModule'>here</a> for more info."
     ]
    }
   ],
   "source": [
    "import torch\n",
    "impo"
   ]
  },
  {
   "cell_type": "code",
   "execution_count": null,
   "metadata": {},
   "outputs": [],
   "source": [
    "data_path = \"../data/ExampleModelStealingPub.pt\"\n",
    "N = 100\n",
    "batch_size = 1\n",
    "\n",
    "dataloader_kwargs = {'batch_size': batch_size}"
   ]
  },
  {
   "cell_type": "code",
   "execution_count": null,
   "metadata": {},
   "outputs": [],
   "source": [
    "def prepare_dataloader():\n",
    "    # TODO Popracuj nad data augmentation\n",
    "    dataset = torch.load(data_path)\n",
    "    return torch.utils.data.DataLoader(dataset, dataloader_kwargs)\n",
    "\n",
    "# Przygotuj pierwsze 10 obrazków na state-of-art do sprawdzania noise\n",
    "def prepare_state_of_art(dataset):\n",
    "    # TODO\n",
    "    pass\n",
    "\n",
    "# Wysyłaj kolejne N obrazków po K razy, żeby zredukować szum\n",
    "# Następnie zapisuje wynik w wynikowym_datasecie\n",
    "def send_data(dataset, K):\n",
    "    \n",
    "    # TODO\n",
    "    pass\n",
    "\n",
    "# Wielokrotnie wysyłaj pliki ze state-of-art żeby oszacować noise\n",
    "def estimate_noise(state_of_art):\n",
    "    # TODO\n",
    "    pass\n"
   ]
  },
  {
   "cell_type": "code",
   "execution_count": null,
   "metadata": {},
   "outputs": [],
   "source": [
    "class DataStealer():\n",
    "    "
   ]
  },
  {
   "cell_type": "code",
   "execution_count": null,
   "metadata": {},
   "outputs": [],
   "source": [
    "def data_steal():\n",
    "    K = 1\n",
    "\n",
    "    # Spreparuj dataset do wykradania\n",
    "    dataset = prepare_dataset()\n",
    "\n",
    "    # Przygotuj pierwsze 10 plikow na state-of-the-art\n",
    "\n",
    "    # Wysyłaj kolejne 100 obrazków po K razy ze spreparowanego datasetu\n",
    "\n",
    "    # Oszacuj wariancję na podstawie state-of-art i zaktualizuj K"
   ]
  }
 ],
 "metadata": {
  "kernelspec": {
   "display_name": ".venv",
   "language": "python",
   "name": "python3"
  },
  "language_info": {
   "name": "python",
   "version": "3.11.7"
  },
  "orig_nbformat": 4
 },
 "nbformat": 4,
 "nbformat_minor": 2
}
