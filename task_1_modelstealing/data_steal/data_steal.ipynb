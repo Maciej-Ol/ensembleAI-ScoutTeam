{
 "cells": [
  {
   "cell_type": "code",
   "execution_count": null,
   "metadata": {},
   "outputs": [
    {
     "ename": "",
     "evalue": "",
     "output_type": "error",
     "traceback": [
      "\u001b[1;31mThe kernel failed to start due to the missing module '_sqlite3'. Consider installing this module.\n",
      "\u001b[1;31mClick <a href='https://aka.ms/kernelFailuresMissingModule'>here</a> for more info."
     ]
    }
   ],
   "source": [
    "import torch"
   ]
  },
  {
   "cell_type": "code",
   "execution_count": null,
   "metadata": {},
   "outputs": [],
   "source": [
    "data_path = \"../data/ExampleModelStealingPub.pt\"\n",
    "N = 100"
   ]
  },
  {
   "cell_type": "code",
   "execution_count": null,
   "metadata": {},
   "outputs": [],
   "source": [
    "\n",
    "def prepare_dataset():\n",
    "    # TODO Popracuj nad data augmentation\n",
    "    return torch.load(data_path)\n",
    "\n",
    "# Przygotuj pierwsze 10 obrazków na state-of-art do sprawdzania noise\n",
    "def prepare_state_of_art(dataset):\n",
    "    # TODO\n",
    "    pass\n",
    "\n",
    "# Wysyłaj kolejne N obrazków po K razy, żeby zredukować szum\n",
    "# Następnie zapisuje wynik w wynikowym_datasecie\n",
    "def send_data(dataset, K):\n",
    "    # TODO\n",
    "    pass\n",
    "\n",
    "# Wielokrotnie wysyłaj pliki ze state-of-art żeby oszacować noise\n",
    "def estimate_noise(state_of_art):\n",
    "    # TODO\n",
    "    pass\n"
   ]
  },
  {
   "cell_type": "code",
   "execution_count": null,
   "metadata": {},
   "outputs": [],
   "source": [
    "def data_steal():\n",
    "    K = 1\n",
    "\n",
    "    # Spreparuj dataset do wykradania\n",
    "    dataset = prepare_dataset()\n",
    "\n",
    "    # Przygotuj pierwsze 10 plikow na state-of-the-art\n",
    "\n",
    "    # Wysyłaj kolejne 100 obrazków po K razy ze spreparowanego datasetu\n",
    "\n",
    "    # Oszacuj wariancję na podstawie state-of-art i zaktualizuj K"
   ]
  }
 ],
 "metadata": {
  "kernelspec": {
   "display_name": ".venv",
   "language": "python",
   "name": "python3"
  },
  "language_info": {
   "name": "python",
   "version": "3.11.7"
  },
  "orig_nbformat": 4
 },
 "nbformat": 4,
 "nbformat_minor": 2
}
