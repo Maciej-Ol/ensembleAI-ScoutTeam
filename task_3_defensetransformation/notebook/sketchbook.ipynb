{
 "cells": [
  {
   "cell_type": "code",
   "execution_count": 385,
   "metadata": {},
   "outputs": [],
   "source": [
    "import numpy as np\n",
    "\n",
    "from sklearn.model_selection import train_test_split\n",
    "from sklearn.svm import SVC\n",
    "from sklearn.metrics import accuracy_score\n",
    "from sklearn.neural_network import MLPClassifier\n",
    "\n",
    "import requests"
   ]
  },
  {
   "cell_type": "markdown",
   "metadata": {},
   "source": [
    "```\n",
    "accuracy = eval_clf_performance(args)\n",
    "    cosine_distance = eval_mapper_performance(args)\n",
    "    accuracy_score = (\n",
    "        0\n",
    "        if accuracy < BASE_ACCURACY - ACCURACY_DROP_THRESHOLD\n",
    "        else (\n",
    "            1\n",
    "            if accuracy > BASE_ACCURACY\n",
    "            else (accuracy - BASE_ACCURACY + ACCURACY_DROP_THRESHOLD)\n",
    "            / ACCURACY_DROP_THRESHOLD\n",
    "        )\n",
    "    )\n",
    "return accuracy_score + cosine_distance\n",
    "```"
   ]
  },
  {
   "cell_type": "code",
   "execution_count": 216,
   "metadata": {},
   "outputs": [
    {
     "name": "stdout",
     "output_type": "stream",
     "text": [
      "[7 8 5 ... 0 5 7] (5000, 192)\n",
      "(20250, 192)\n"
     ]
    }
   ],
   "source": [
    "data = np.load(\n",
    "    \"../data/DefenseTransformationEvaluate.npz\"\n",
    ")\n",
    "print(data[\"labels\"], data[\"representations\"].shape)\n",
    "\n",
    "data_sub = np.load(\"../data/DefenseTransformationSubmit.npz\")\n",
    "print(data_sub[\"representations\"].shape)"
   ]
  },
  {
   "cell_type": "code",
   "execution_count": 335,
   "metadata": {},
   "outputs": [
    {
     "name": "stdout",
     "output_type": "stream",
     "text": [
      "Accuracy on clean representations: 0.935\n"
     ]
    }
   ],
   "source": [
    "# Load data from the provided file\n",
    "data = np.load('../data/DefenseTransformationEvaluate.npz')\n",
    "X = data['representations']\n",
    "y = data['labels']\n",
    "\n",
    "# Split the data into training and testing sets\n",
    "X_train, X_test, y_train, y_test = train_test_split(X, y, test_size=0.2, random_state=42)\n",
    "\n",
    "# Train a classifier on clean representations\n",
    "classifier_clean = MLPClassifier()\n",
    "classifier_clean.fit(X_train, y_train)\n",
    "\n",
    "# Evaluate classifier performance on clean representations\n",
    "y_pred_clean = classifier_clean.predict(X_test)\n",
    "accuracy_clean = accuracy_score(y_test, y_pred_clean, normalize = True)\n",
    "print(\"Accuracy on clean representations:\", accuracy_clean)"
   ]
  },
  {
   "cell_type": "code",
   "execution_count": 221,
   "metadata": {},
   "outputs": [],
   "source": [
    "def apply_defense_transformation(X):\n",
    "    # random transformation\n",
    "    np.random.seed(0)\n",
    "    X = X + np.random.normal(0, 1, X.shape)\n",
    "    return X"
   ]
  },
  {
   "cell_type": "code",
   "execution_count": 222,
   "metadata": {},
   "outputs": [
    {
     "name": "stdout",
     "output_type": "stream",
     "text": [
      "Accuracy on transformed representations: 0.931\n"
     ]
    }
   ],
   "source": [
    "def evaluate_model(transformation_fuction, dataset, model):\n",
    "    # Apply defense transformation (e.g., your transformation)\n",
    "    transformed_X_train = apply_defense_transformation(X_train)\n",
    "    transformed_X_test = apply_defense_transformation(X_test)\n",
    "\n",
    "    # Train a classifier on transformed representations\n",
    "    classifier_transformed = MLPClassifier()\n",
    "    classifier_transformed.fit(transformed_X_train, y_train)\n",
    "\n",
    "    # Evaluate classifier performance on transformed representations\n",
    "    y_pred_transformed = classifier_transformed.predict(transformed_X_test)\n",
    "    accuracy_transformed = accuracy_score(y_test, y_pred_transformed)\n",
    "    print(\"Accuracy on transformed representations:\", accuracy_transformed)"
   ]
  },
  {
   "cell_type": "code",
   "execution_count": 262,
   "metadata": {},
   "outputs": [
    {
     "name": "stdout",
     "output_type": "stream",
     "text": [
      "Accuracy on transformed representations: 0.084\n"
     ]
    }
   ],
   "source": [
    "# Apply defense transformation (e.g., your transformation)\n",
    "transformed_X_train = apply_defense_transformation_2(X_train)\n",
    "transformed_X_test = apply_defense_transformation_2(X_test)\n",
    "\n",
    "# Train a classifier on transformed representations\n",
    "classifier_transformed = MLPClassifier()\n",
    "classifier_transformed.fit(transformed_X_train, y_train)\n",
    "\n",
    "# Evaluate classifier performance on transformed representations\n",
    "y_pred_transformed = classifier_transformed.predict(transformed_X_test)\n",
    "accuracy_transformed = accuracy_score(y_test, y_pred_transformed)\n",
    "print(\"Accuracy on transformed representations:\", accuracy_transformed)"
   ]
  },
  {
   "cell_type": "code",
   "execution_count": 223,
   "metadata": {},
   "outputs": [],
   "source": [
    "def rotate_vector(vector, angle):\n",
    "    \"\"\"\n",
    "    Rotate a 2D vector represented as [x, y] by a specified angle (in radians).\n",
    "    \n",
    "    Parameters:\n",
    "        vector (list or numpy.ndarray): Input vector [x, y].\n",
    "        angle (float): Angle of rotation in radians.\n",
    "        \n",
    "    Returns:\n",
    "        numpy.ndarray: Rotated vector [x', y'].\n",
    "    \"\"\"\n",
    "    # Convert angle to radians\n",
    "    cos_theta = np.cos(angle)\n",
    "    sin_theta = np.sin(angle)\n",
    "    \n",
    "    # Create rotation matrix\n",
    "    rotation_matrix = np.array([[cos_theta, -sin_theta],\n",
    "                                [sin_theta, cos_theta]])\n",
    "    \n",
    "    # Convert vector to numpy array if it's not already\n",
    "    vector = np.array(vector)\n",
    "    \n",
    "    # Apply rotation transformation\n",
    "    rotated_vector = np.dot(rotation_matrix, vector)\n",
    "    \n",
    "    return rotated_vector"
   ]
  },
  {
   "cell_type": "code",
   "execution_count": 263,
   "metadata": {},
   "outputs": [],
   "source": [
    "def apply_defense_transformation_2(X, padding_size=100):\n",
    "    # shuffle transformation\n",
    "    np.random.seed(51)\n",
    "    np.random.shuffle(X)\n",
    "\n",
    "    # rotate transformation X\n",
    "    random_angle_degrees = random.randint(-15, 15)\n",
    "\n",
    "    random_angle_radians = math.radians(random_angle_degrees)\n",
    "\n",
    "    # for every two rows, rotate them by random amount\n",
    "    for i in range(0, X.shape[0], 2):\n",
    "        rotated = rotate_vector([X[i],X[i+1]], random_angle_radians)\n",
    "        X[i] = rotated[0]\n",
    "        X[i+1] = rotated[1]\n",
    "\n",
    "    # add padding\n",
    "    padding = np.ones((X.shape[0], padding_size))\n",
    "    padding = np.random.normal(np.mean(X), np.std(X), X.shape[0]*padding_size).reshape(X.shape[0], padding_size)\n",
    "    X = np.hstack((X, padding))\n",
    "    \n",
    "    np.random.shuffle(X)\n",
    "\n",
    "\n",
    "    return X"
   ]
  },
  {
   "cell_type": "code",
   "execution_count": 375,
   "metadata": {},
   "outputs": [],
   "source": [
    "def apply_defense_transformation_3(X,padding_size=100):\n",
    "\n",
    "    data = np.load('../data/DefenseTransformationSubmit.npz')\n",
    "    X = data['representations']\n",
    "    n = X.shape[1]\n",
    "    print(X.shape)\n",
    "\n",
    "    matrix = np.random.rand(n,n)\n",
    "    matrix = matrix/np.linalg.norm(matrix)*0.3+np.eye(n)\n",
    "\n",
    "    X = np.dot(X, matrix)\n",
    "    # add padding\n",
    "    padding = np.ones((X.shape[0], padding_size))\n",
    "    padding = np.random.normal(np.mean(X), np.std(X), X.shape[0]*padding_size).reshape(X.shape[0], padding_size)\n",
    "    X = np.hstack((X, padding))\n",
    "    return X"
   ]
  },
  {
   "cell_type": "code",
   "execution_count": 376,
   "metadata": {},
   "outputs": [
    {
     "name": "stdout",
     "output_type": "stream",
     "text": [
      "(20250, 192)\n",
      "(20250, 292)\n"
     ]
    }
   ],
   "source": [
    "rep = apply_defense_transformation_3(data_sub[\"representations\"])\n",
    "print(rep.shape)"
   ]
  },
  {
   "cell_type": "code",
   "execution_count": 380,
   "metadata": {},
   "outputs": [
    {
     "name": "stdout",
     "output_type": "stream",
     "text": [
      "(20250, 192)\n",
      "(20250, 292)\n"
     ]
    }
   ],
   "source": [
    "data_sub = np.load(\"../data/DefenseTransformationSubmit.npz\")\n",
    "print(data_sub[\"representations\"].shape)\n",
    "rep = apply_defense_transformation_2(data_sub[\"representations\"])\n",
    "\n",
    "# Convert from float64 to float32                                \n",
    "rep = rep.astype(np.float32)\n",
    "print(rep.shape)\n",
    "                                  \n",
    "# Apply defense transformation (e.g., your transformation)\n",
    "np.savez(\n",
    "    \"../data/example_submission.npz\",\n",
    "    representations=rep\n",
    ")"
   ]
  },
  {
   "cell_type": "code",
   "execution_count": 378,
   "metadata": {},
   "outputs": [],
   "source": [
    "SERVER_URL = \"http://34.71.138.79:9090\"\n",
    "TEAM_TOKEN = \"l5pvMfL4ZID1QHmn\""
   ]
  },
  {
   "cell_type": "code",
   "execution_count": 379,
   "metadata": {},
   "outputs": [],
   "source": [
    "def defense_submit(path_to_npz_file: str):\n",
    "    endpoint = \"/defense/submit\"\n",
    "    url = SERVER_URL + endpoint\n",
    "    with open(path_to_npz_file, \"rb\") as f:\n",
    "        response = requests.post(url, files={\"file\": f}, headers={\"token\": TEAM_TOKEN})\n",
    "        if response.status_code == 200:\n",
    "            print(\"Request ok\")\n",
    "            print(response.json())\n",
    "        else:\n",
    "            raise Exception(\n",
    "                f\"Defense submit failed. Code: {response.status_code}, content: {response.json()}\"\n",
    "            )"
   ]
  },
  {
   "cell_type": "code",
   "execution_count": 386,
   "metadata": {},
   "outputs": [
    {
     "ename": "Exception",
     "evalue": "Defense submit failed. Code: 400, content: {'detail': 'Exceeded submissions. Only 1/h allowed.'}",
     "output_type": "error",
     "traceback": [
      "\u001b[0;31m---------------------------------------------------------------------------\u001b[0m",
      "\u001b[0;31mException\u001b[0m                                 Traceback (most recent call last)",
      "\u001b[0;32m/tmp/ipykernel_40827/3800599922.py\u001b[0m in \u001b[0;36m<module>\u001b[0;34m\u001b[0m\n\u001b[0;32m----> 1\u001b[0;31m \u001b[0mdefense_submit\u001b[0m\u001b[0;34m(\u001b[0m\u001b[0;34m\"../data/example_submission.npz\"\u001b[0m\u001b[0;34m)\u001b[0m\u001b[0;34m\u001b[0m\u001b[0;34m\u001b[0m\u001b[0m\n\u001b[0m",
      "\u001b[0;32m/tmp/ipykernel_40827/3371963324.py\u001b[0m in \u001b[0;36mdefense_submit\u001b[0;34m(path_to_npz_file)\u001b[0m\n\u001b[1;32m      9\u001b[0m         \u001b[0;32melse\u001b[0m\u001b[0;34m:\u001b[0m\u001b[0;34m\u001b[0m\u001b[0;34m\u001b[0m\u001b[0m\n\u001b[1;32m     10\u001b[0m             raise Exception(\n\u001b[0;32m---> 11\u001b[0;31m                 \u001b[0;34mf\"Defense submit failed. Code: {response.status_code}, content: {response.json()}\"\u001b[0m\u001b[0;34m\u001b[0m\u001b[0;34m\u001b[0m\u001b[0m\n\u001b[0m\u001b[1;32m     12\u001b[0m             )\n",
      "\u001b[0;31mException\u001b[0m: Defense submit failed. Code: 400, content: {'detail': 'Exceeded submissions. Only 1/h allowed.'}"
     ]
    }
   ],
   "source": [
    "defense_submit(\"../data/example_submission.npz\")"
   ]
  },
  {
   "cell_type": "markdown",
   "metadata": {},
   "source": [
    "Function 1: {'score': 0.1600179374217987} (noise)\n",
    "Function 2: {'score': 0.3573663830757141} (rotate + shuffle)\n",
    "Function 3: {'score': 0.35843199491500854} (rotate + shuffle + padding)"
   ]
  },
  {
   "cell_type": "markdown",
   "metadata": {},
   "source": [
    "Bag of ideas:\n",
    "- polyfit\n",
    "- mainfold"
   ]
  }
 ],
 "metadata": {
  "kernelspec": {
   "display_name": "scoutteam",
   "language": "python",
   "name": "python3"
  },
  "language_info": {
   "codemirror_mode": {
    "name": "ipython",
    "version": 3
   },
   "file_extension": ".py",
   "mimetype": "text/x-python",
   "name": "python",
   "nbconvert_exporter": "python",
   "pygments_lexer": "ipython3",
   "version": "3.7.12"
  }
 },
 "nbformat": 4,
 "nbformat_minor": 2
}
