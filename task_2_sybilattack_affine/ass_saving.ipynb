{
 "cells": [
  {
   "cell_type": "code",
   "execution_count": 2,
   "metadata": {},
   "outputs": [],
   "source": [
    "import pickle as pkl\n",
    "import numpy as np\n",
    "import os\n",
    "import torch"
   ]
  },
  {
   "cell_type": "code",
   "execution_count": 9,
   "metadata": {},
   "outputs": [
    {
     "name": "stdout",
     "output_type": "stream",
     "text": [
      "big loop: 0\n",
      "big loop: 1\n",
      "big loop: 2\n",
      "big loop: 3\n",
      "big loop: 4\n",
      "big loop: 5\n",
      "big loop: 6\n",
      "big loop: 7\n",
      "big loop: 8\n",
      "big loop: 9\n",
      "<class 'numpy.int64'>\n",
      "<class 'numpy.int64'>\n"
     ]
    },
    {
     "ename": "KeyError",
     "evalue": "101031",
     "output_type": "error",
     "traceback": [
      "\u001b[0;31m---------------------------------------------------------------------------\u001b[0m",
      "\u001b[0;31mKeyError\u001b[0m                                  Traceback (most recent call last)",
      "Cell \u001b[0;32mIn[9], line 29\u001b[0m\n\u001b[1;32m     25\u001b[0m \u001b[38;5;28mprint\u001b[39m(\u001b[38;5;28mtype\u001b[39m(dct[\u001b[38;5;124m'\u001b[39m\u001b[38;5;124mids\u001b[39m\u001b[38;5;124m'\u001b[39m][\u001b[38;5;241m0\u001b[39m]))\n\u001b[1;32m     27\u001b[0m id_rep_map \u001b[38;5;241m=\u001b[39m {\u001b[38;5;28mid\u001b[39m: rep \u001b[38;5;28;01mfor\u001b[39;00m \u001b[38;5;28mid\u001b[39m, rep \u001b[38;5;129;01min\u001b[39;00m \u001b[38;5;28mzip\u001b[39m(ids, preds)}\n\u001b[0;32m---> 29\u001b[0m representations \u001b[38;5;241m=\u001b[39m \u001b[43m[\u001b[49m\u001b[43mid_rep_map\u001b[49m\u001b[43m[\u001b[49m\u001b[38;5;28;43mid\u001b[39;49m\u001b[43m]\u001b[49m\u001b[43m \u001b[49m\u001b[38;5;28;43;01mfor\u001b[39;49;00m\u001b[43m \u001b[49m\u001b[38;5;28;43mid\u001b[39;49m\u001b[43m \u001b[49m\u001b[38;5;129;43;01min\u001b[39;49;00m\u001b[43m \u001b[49m\u001b[43mdct\u001b[49m\u001b[43m[\u001b[49m\u001b[38;5;124;43m\"\u001b[39;49m\u001b[38;5;124;43mids\u001b[39;49m\u001b[38;5;124;43m\"\u001b[39;49m\u001b[43m]\u001b[49m\u001b[43m]\u001b[49m\n\u001b[1;32m     31\u001b[0m np\u001b[38;5;241m.\u001b[39msavez(\u001b[38;5;124m\"\u001b[39m\u001b[38;5;124m./task2_submission2.npz\u001b[39m\u001b[38;5;124m\"\u001b[39m, ids\u001b[38;5;241m=\u001b[39mdct[\u001b[38;5;124m\"\u001b[39m\u001b[38;5;124mids\u001b[39m\u001b[38;5;124m\"\u001b[39m], representations\u001b[38;5;241m=\u001b[39mrepresentations)\n",
      "Cell \u001b[0;32mIn[9], line 29\u001b[0m, in \u001b[0;36m<listcomp>\u001b[0;34m(.0)\u001b[0m\n\u001b[1;32m     25\u001b[0m \u001b[38;5;28mprint\u001b[39m(\u001b[38;5;28mtype\u001b[39m(dct[\u001b[38;5;124m'\u001b[39m\u001b[38;5;124mids\u001b[39m\u001b[38;5;124m'\u001b[39m][\u001b[38;5;241m0\u001b[39m]))\n\u001b[1;32m     27\u001b[0m id_rep_map \u001b[38;5;241m=\u001b[39m {\u001b[38;5;28mid\u001b[39m: rep \u001b[38;5;28;01mfor\u001b[39;00m \u001b[38;5;28mid\u001b[39m, rep \u001b[38;5;129;01min\u001b[39;00m \u001b[38;5;28mzip\u001b[39m(ids, preds)}\n\u001b[0;32m---> 29\u001b[0m representations \u001b[38;5;241m=\u001b[39m [\u001b[43mid_rep_map\u001b[49m\u001b[43m[\u001b[49m\u001b[38;5;28;43mid\u001b[39;49m\u001b[43m]\u001b[49m \u001b[38;5;28;01mfor\u001b[39;00m \u001b[38;5;28mid\u001b[39m \u001b[38;5;129;01min\u001b[39;00m dct[\u001b[38;5;124m\"\u001b[39m\u001b[38;5;124mids\u001b[39m\u001b[38;5;124m\"\u001b[39m]]\n\u001b[1;32m     31\u001b[0m np\u001b[38;5;241m.\u001b[39msavez(\u001b[38;5;124m\"\u001b[39m\u001b[38;5;124m./task2_submission2.npz\u001b[39m\u001b[38;5;124m\"\u001b[39m, ids\u001b[38;5;241m=\u001b[39mdct[\u001b[38;5;124m\"\u001b[39m\u001b[38;5;124mids\u001b[39m\u001b[38;5;124m\"\u001b[39m], representations\u001b[38;5;241m=\u001b[39mrepresentations)\n",
      "\u001b[0;31mKeyError\u001b[0m: 101031"
     ]
    }
   ],
   "source": [
    "ids = []\n",
    "for i in range(10):\n",
    "    print(f\"big loop: {i}\")\n",
    "    folder = os.path.join('./data', 'submit', 'affine', str(1), f'partition_{i}')\n",
    "    with open(f'{folder}/A_train', 'rb') as f:\n",
    "        A_train_reps = pkl.load(f)\n",
    "    with open(f'{folder}/B_train', 'rb') as f:\n",
    "        B_train_reps = pkl.load(f)\n",
    "    with open(f'{folder}/B_test', 'rb') as f:\n",
    "        B_test_reps = pkl.load(f)\n",
    "    with open(f'{folder}/ids_train', 'rb') as f:\n",
    "        ids_train = pkl.load(f)\n",
    "    with open(f'{folder}/ids_test', 'rb') as f:\n",
    "        ids_test = pkl.load(f)\n",
    "\n",
    "    ids_iter = np.concatenate([ids_train, ids_test], axis=0)\n",
    "    ids.append(ids_iter)\n",
    "\n",
    "dct = np.load(\"./task2_submission.npz\")\n",
    "\n",
    "ids = np.concatenate(ids, axis=0)\n",
    "preds = dct['representations']\n",
    "\n",
    "print(type(ids[0]))\n",
    "print(type(dct['ids'][0]))\n",
    "\n",
    "id_rep_map = {id: rep for id, rep in zip(ids, preds)}\n",
    "\n",
    "representations = [id_rep_map[id] for id in dct[\"ids\"]]\n",
    "\n",
    "np.savez(\"./task2_submission2.npz\", ids=dct[\"ids\"], representations=representations)\n"
   ]
  },
  {
   "cell_type": "code",
   "execution_count": 15,
   "metadata": {},
   "outputs": [
    {
     "name": "stdout",
     "output_type": "stream",
     "text": [
      "big loop: 0\n"
     ]
    },
    {
     "name": "stderr",
     "output_type": "stream",
     "text": [
      "  0%|          | 0/7 [00:00<?, ?it/s]/tmp/ipykernel_99252/3203303094.py:26: UserWarning: To copy construct from a tensor, it is recommended to use sourceTensor.clone().detach() or sourceTensor.clone().detach().requires_grad_(True), rather than torch.tensor(sourceTensor).\n",
      "  return torch.tensor(x), torch.tensor(y)\n",
      "train | loss: 4.0051: 100%|██████████| 7/7 [00:00<00:00, 221.08it/s]\n"
     ]
    },
    {
     "name": "stdout",
     "output_type": "stream",
     "text": [
      "Epoch [1/70], Train Loss: 2.3871\n",
      "Epoch [1/70], Val Loss: 1.0651\n"
     ]
    },
    {
     "name": "stderr",
     "output_type": "stream",
     "text": [
      "train | loss: 1.4424: 100%|██████████| 7/7 [00:00<00:00, 183.59it/s]"
     ]
    },
    {
     "name": "stderr",
     "output_type": "stream",
     "text": [
      "\n"
     ]
    },
    {
     "name": "stdout",
     "output_type": "stream",
     "text": [
      "Epoch [2/70], Train Loss: 1.3906\n",
      "Epoch [2/70], Val Loss: 0.9275\n"
     ]
    },
    {
     "name": "stderr",
     "output_type": "stream",
     "text": [
      "train | loss: 1.3013: 100%|██████████| 7/7 [00:00<00:00, 172.44it/s]\n"
     ]
    },
    {
     "name": "stdout",
     "output_type": "stream",
     "text": [
      "Epoch [3/70], Train Loss: 1.2492\n",
      "Epoch [3/70], Val Loss: 0.7964\n"
     ]
    },
    {
     "name": "stderr",
     "output_type": "stream",
     "text": [
      "train | loss: 1.1253: 100%|██████████| 7/7 [00:00<00:00, 163.90it/s]\n"
     ]
    },
    {
     "name": "stdout",
     "output_type": "stream",
     "text": [
      "Epoch [4/70], Train Loss: 1.1084\n",
      "Epoch [4/70], Val Loss: 0.7436\n"
     ]
    },
    {
     "name": "stderr",
     "output_type": "stream",
     "text": [
      "train | loss: 1.0760: 100%|██████████| 7/7 [00:00<00:00, 80.10it/s]\n"
     ]
    },
    {
     "name": "stdout",
     "output_type": "stream",
     "text": [
      "Epoch [5/70], Train Loss: 1.0676\n",
      "Epoch [5/70], Val Loss: 0.6949\n"
     ]
    },
    {
     "name": "stderr",
     "output_type": "stream",
     "text": [
      "train | loss: 0.9466: 100%|██████████| 7/7 [00:00<00:00, 92.68it/s]\n"
     ]
    },
    {
     "name": "stdout",
     "output_type": "stream",
     "text": [
      "Epoch [6/70], Train Loss: 1.0142\n",
      "Epoch [6/70], Val Loss: 0.6767\n"
     ]
    },
    {
     "name": "stderr",
     "output_type": "stream",
     "text": [
      "train | loss: 1.0104: 100%|██████████| 7/7 [00:00<00:00, 157.38it/s]\n"
     ]
    },
    {
     "name": "stdout",
     "output_type": "stream",
     "text": [
      "Epoch [7/70], Train Loss: 0.9950\n",
      "Epoch [7/70], Val Loss: 0.6570\n"
     ]
    },
    {
     "name": "stderr",
     "output_type": "stream",
     "text": [
      "train | loss: 0.9617: 100%|██████████| 7/7 [00:00<00:00, 198.25it/s]"
     ]
    },
    {
     "name": "stdout",
     "output_type": "stream",
     "text": [
      "Epoch [8/70], Train Loss: 0.9378\n"
     ]
    },
    {
     "name": "stderr",
     "output_type": "stream",
     "text": [
      "\n"
     ]
    },
    {
     "name": "stdout",
     "output_type": "stream",
     "text": [
      "Epoch [8/70], Val Loss: 0.6461\n"
     ]
    },
    {
     "name": "stderr",
     "output_type": "stream",
     "text": [
      "train | loss: 0.9433: 100%|██████████| 7/7 [00:00<00:00, 151.87it/s]\n"
     ]
    },
    {
     "name": "stdout",
     "output_type": "stream",
     "text": [
      "Epoch [9/70], Train Loss: 0.9260\n",
      "Epoch [9/70], Val Loss: 0.6357\n"
     ]
    },
    {
     "name": "stderr",
     "output_type": "stream",
     "text": [
      "train | loss: 0.9486: 100%|██████████| 7/7 [00:00<00:00, 219.55it/s]\n"
     ]
    },
    {
     "name": "stdout",
     "output_type": "stream",
     "text": [
      "Epoch [10/70], Train Loss: 0.9120\n",
      "Epoch [10/70], Val Loss: 0.6310\n"
     ]
    },
    {
     "name": "stderr",
     "output_type": "stream",
     "text": [
      "train | loss: 0.9478: 100%|██████████| 7/7 [00:00<00:00, 172.69it/s]\n"
     ]
    },
    {
     "name": "stdout",
     "output_type": "stream",
     "text": [
      "Epoch [11/70], Train Loss: 0.8891\n",
      "Epoch [11/70], Val Loss: 0.6231\n"
     ]
    },
    {
     "name": "stderr",
     "output_type": "stream",
     "text": [
      "train | loss: 0.8802: 100%|██████████| 7/7 [00:00<00:00, 188.24it/s]\n"
     ]
    },
    {
     "name": "stdout",
     "output_type": "stream",
     "text": [
      "Epoch [12/70], Train Loss: 0.8733\n",
      "Epoch [12/70], Val Loss: 0.6156\n"
     ]
    },
    {
     "name": "stderr",
     "output_type": "stream",
     "text": [
      "train | loss: 0.9027: 100%|██████████| 7/7 [00:00<00:00, 174.29it/s]\n"
     ]
    },
    {
     "name": "stdout",
     "output_type": "stream",
     "text": [
      "Epoch [13/70], Train Loss: 0.8996\n",
      "Epoch [13/70], Val Loss: 0.6107\n"
     ]
    },
    {
     "name": "stderr",
     "output_type": "stream",
     "text": [
      "train | loss: 0.8505: 100%|██████████| 7/7 [00:00<00:00, 173.22it/s]\n"
     ]
    },
    {
     "name": "stdout",
     "output_type": "stream",
     "text": [
      "Epoch [14/70], Train Loss: 0.8422\n",
      "Epoch [14/70], Val Loss: 0.6078\n"
     ]
    },
    {
     "name": "stderr",
     "output_type": "stream",
     "text": [
      "train | loss: 0.8591: 100%|██████████| 7/7 [00:00<00:00, 212.00it/s]\n"
     ]
    },
    {
     "name": "stdout",
     "output_type": "stream",
     "text": [
      "Epoch [15/70], Train Loss: 0.8490\n",
      "Epoch [15/70], Val Loss: 0.6018\n"
     ]
    },
    {
     "name": "stderr",
     "output_type": "stream",
     "text": [
      "train | loss: 0.8234: 100%|██████████| 7/7 [00:00<00:00, 187.76it/s]\n"
     ]
    },
    {
     "name": "stdout",
     "output_type": "stream",
     "text": [
      "Epoch [16/70], Train Loss: 0.8197\n",
      "Epoch [16/70], Val Loss: 0.5974\n"
     ]
    },
    {
     "name": "stderr",
     "output_type": "stream",
     "text": [
      "train | loss: 0.9348: 100%|██████████| 7/7 [00:00<00:00, 192.56it/s]\n"
     ]
    },
    {
     "name": "stdout",
     "output_type": "stream",
     "text": [
      "Epoch [17/70], Train Loss: 0.8106\n",
      "Epoch [17/70], Val Loss: 0.5932\n"
     ]
    },
    {
     "name": "stderr",
     "output_type": "stream",
     "text": [
      "train | loss: 0.8708: 100%|██████████| 7/7 [00:00<00:00, 60.66it/s]\n"
     ]
    },
    {
     "name": "stdout",
     "output_type": "stream",
     "text": [
      "Epoch [18/70], Train Loss: 0.7979\n",
      "Epoch [18/70], Val Loss: 0.5889\n"
     ]
    },
    {
     "name": "stderr",
     "output_type": "stream",
     "text": [
      "train | loss: 0.8163: 100%|██████████| 7/7 [00:00<00:00, 208.12it/s]\n"
     ]
    },
    {
     "name": "stdout",
     "output_type": "stream",
     "text": [
      "Epoch [19/70], Train Loss: 0.7776\n",
      "Epoch [19/70], Val Loss: 0.5861\n"
     ]
    },
    {
     "name": "stderr",
     "output_type": "stream",
     "text": [
      "train | loss: 0.7707: 100%|██████████| 7/7 [00:00<00:00, 197.93it/s]\n"
     ]
    },
    {
     "name": "stdout",
     "output_type": "stream",
     "text": [
      "Epoch [20/70], Train Loss: 0.7844\n",
      "Epoch [20/70], Val Loss: 0.5820\n"
     ]
    },
    {
     "name": "stderr",
     "output_type": "stream",
     "text": [
      "train | loss: 0.8275: 100%|██████████| 7/7 [00:00<00:00, 191.23it/s]\n"
     ]
    },
    {
     "name": "stdout",
     "output_type": "stream",
     "text": [
      "Epoch [21/70], Train Loss: 0.7771\n",
      "Epoch [21/70], Val Loss: 0.5784\n"
     ]
    },
    {
     "name": "stderr",
     "output_type": "stream",
     "text": [
      "train | loss: 0.7191: 100%|██████████| 7/7 [00:00<00:00, 198.07it/s]\n"
     ]
    },
    {
     "name": "stdout",
     "output_type": "stream",
     "text": [
      "Epoch [22/70], Train Loss: 0.7611\n",
      "Epoch [22/70], Val Loss: 0.5751\n"
     ]
    },
    {
     "name": "stderr",
     "output_type": "stream",
     "text": [
      "train | loss: 0.7650: 100%|██████████| 7/7 [00:00<00:00, 200.29it/s]\n"
     ]
    },
    {
     "name": "stdout",
     "output_type": "stream",
     "text": [
      "Epoch [23/70], Train Loss: 0.7498\n",
      "Epoch [23/70], Val Loss: 0.5742\n"
     ]
    },
    {
     "name": "stderr",
     "output_type": "stream",
     "text": [
      "train | loss: 0.7683: 100%|██████████| 7/7 [00:00<00:00, 105.64it/s]\n"
     ]
    },
    {
     "name": "stdout",
     "output_type": "stream",
     "text": [
      "Epoch [24/70], Train Loss: 0.7485\n",
      "Epoch [24/70], Val Loss: 0.5689\n"
     ]
    },
    {
     "name": "stderr",
     "output_type": "stream",
     "text": [
      "train | loss: 0.7398: 100%|██████████| 7/7 [00:00<00:00, 183.75it/s]\n"
     ]
    },
    {
     "name": "stdout",
     "output_type": "stream",
     "text": [
      "Epoch [25/70], Train Loss: 0.7268\n",
      "Epoch [25/70], Val Loss: 0.5665\n"
     ]
    },
    {
     "name": "stderr",
     "output_type": "stream",
     "text": [
      "train | loss: 0.7212: 100%|██████████| 7/7 [00:00<00:00, 130.41it/s]\n"
     ]
    },
    {
     "name": "stdout",
     "output_type": "stream",
     "text": [
      "Epoch [26/70], Train Loss: 0.7532\n",
      "Epoch [26/70], Val Loss: 0.5668\n"
     ]
    },
    {
     "name": "stderr",
     "output_type": "stream",
     "text": [
      "train | loss: 0.8462: 100%|██████████| 7/7 [00:00<00:00, 166.67it/s]\n"
     ]
    },
    {
     "name": "stdout",
     "output_type": "stream",
     "text": [
      "Epoch [27/70], Train Loss: 0.7348\n",
      "Epoch [27/70], Val Loss: 0.5654\n"
     ]
    },
    {
     "name": "stderr",
     "output_type": "stream",
     "text": [
      "train | loss: 0.6938: 100%|██████████| 7/7 [00:00<00:00, 166.55it/s]\n"
     ]
    },
    {
     "name": "stdout",
     "output_type": "stream",
     "text": [
      "Epoch [28/70], Train Loss: 0.7204\n",
      "Epoch [28/70], Val Loss: 0.5620\n"
     ]
    },
    {
     "name": "stderr",
     "output_type": "stream",
     "text": [
      "train | loss: 0.6841: 100%|██████████| 7/7 [00:00<00:00, 184.57it/s]\n"
     ]
    },
    {
     "name": "stdout",
     "output_type": "stream",
     "text": [
      "Epoch [29/70], Train Loss: 0.7139\n",
      "Epoch [29/70], Val Loss: 0.5589\n"
     ]
    },
    {
     "name": "stderr",
     "output_type": "stream",
     "text": [
      "train | loss: 0.7842: 100%|██████████| 7/7 [00:00<00:00, 194.24it/s]\n"
     ]
    },
    {
     "name": "stdout",
     "output_type": "stream",
     "text": [
      "Epoch [30/70], Train Loss: 0.7105\n",
      "Epoch [30/70], Val Loss: 0.5559\n"
     ]
    },
    {
     "name": "stderr",
     "output_type": "stream",
     "text": [
      "train | loss: 0.7029: 100%|██████████| 7/7 [00:00<00:00, 193.03it/s]\n"
     ]
    },
    {
     "name": "stdout",
     "output_type": "stream",
     "text": [
      "Epoch [31/70], Train Loss: 0.7241\n",
      "Epoch [31/70], Val Loss: 0.5534\n"
     ]
    },
    {
     "name": "stderr",
     "output_type": "stream",
     "text": [
      "train | loss: 0.7157: 100%|██████████| 7/7 [00:00<00:00, 194.47it/s]"
     ]
    },
    {
     "name": "stdout",
     "output_type": "stream",
     "text": [
      "Epoch [32/70], Train Loss: 0.6988\n"
     ]
    },
    {
     "name": "stderr",
     "output_type": "stream",
     "text": [
      "\n"
     ]
    },
    {
     "name": "stdout",
     "output_type": "stream",
     "text": [
      "Epoch [32/70], Val Loss: 0.5520\n"
     ]
    },
    {
     "name": "stderr",
     "output_type": "stream",
     "text": [
      "train | loss: 0.6448: 100%|██████████| 7/7 [00:00<00:00, 200.10it/s]\n"
     ]
    },
    {
     "name": "stdout",
     "output_type": "stream",
     "text": [
      "Epoch [33/70], Train Loss: 0.6833\n",
      "Epoch [33/70], Val Loss: 0.5500\n"
     ]
    },
    {
     "name": "stderr",
     "output_type": "stream",
     "text": [
      "train | loss: 0.6734: 100%|██████████| 7/7 [00:00<00:00, 188.94it/s]\n"
     ]
    },
    {
     "name": "stdout",
     "output_type": "stream",
     "text": [
      "Epoch [34/70], Train Loss: 0.6942\n",
      "Epoch [34/70], Val Loss: 0.5480\n"
     ]
    },
    {
     "name": "stderr",
     "output_type": "stream",
     "text": [
      "train | loss: 0.6563: 100%|██████████| 7/7 [00:00<00:00, 197.30it/s]\n"
     ]
    },
    {
     "name": "stdout",
     "output_type": "stream",
     "text": [
      "Epoch [35/70], Train Loss: 0.6803\n",
      "Epoch [35/70], Val Loss: 0.5468\n"
     ]
    },
    {
     "name": "stderr",
     "output_type": "stream",
     "text": [
      "train | loss: 0.7184: 100%|██████████| 7/7 [00:00<00:00, 195.18it/s]"
     ]
    },
    {
     "name": "stdout",
     "output_type": "stream",
     "text": [
      "Epoch [36/70], Train Loss: 0.6612\n"
     ]
    },
    {
     "name": "stderr",
     "output_type": "stream",
     "text": [
      "\n"
     ]
    },
    {
     "name": "stdout",
     "output_type": "stream",
     "text": [
      "Epoch [36/70], Val Loss: 0.5456\n"
     ]
    },
    {
     "name": "stderr",
     "output_type": "stream",
     "text": [
      "train | loss: 0.6396: 100%|██████████| 7/7 [00:00<00:00, 188.20it/s]\n"
     ]
    },
    {
     "name": "stdout",
     "output_type": "stream",
     "text": [
      "Epoch [37/70], Train Loss: 0.6774\n",
      "Epoch [37/70], Val Loss: 0.5430\n"
     ]
    },
    {
     "name": "stderr",
     "output_type": "stream",
     "text": [
      "train | loss: 0.7196: 100%|██████████| 7/7 [00:00<00:00, 204.09it/s]\n"
     ]
    },
    {
     "name": "stdout",
     "output_type": "stream",
     "text": [
      "Epoch [38/70], Train Loss: 0.6732\n",
      "Epoch [38/70], Val Loss: 0.5411\n"
     ]
    },
    {
     "name": "stderr",
     "output_type": "stream",
     "text": [
      "train | loss: 0.7168: 100%|██████████| 7/7 [00:00<00:00, 208.84it/s]\n"
     ]
    },
    {
     "name": "stdout",
     "output_type": "stream",
     "text": [
      "Epoch [39/70], Train Loss: 0.6622\n",
      "Epoch [39/70], Val Loss: 0.5382\n"
     ]
    },
    {
     "name": "stderr",
     "output_type": "stream",
     "text": [
      "train | loss: 0.6882: 100%|██████████| 7/7 [00:00<00:00, 130.49it/s]\n"
     ]
    },
    {
     "name": "stdout",
     "output_type": "stream",
     "text": [
      "Epoch [40/70], Train Loss: 0.6499\n",
      "Epoch [40/70], Val Loss: 0.5370\n"
     ]
    },
    {
     "name": "stderr",
     "output_type": "stream",
     "text": [
      "train | loss: 0.6326: 100%|██████████| 7/7 [00:00<00:00, 216.45it/s]\n"
     ]
    },
    {
     "name": "stdout",
     "output_type": "stream",
     "text": [
      "Epoch [41/70], Train Loss: 0.6687\n",
      "Epoch [41/70], Val Loss: 0.5358\n"
     ]
    },
    {
     "name": "stderr",
     "output_type": "stream",
     "text": [
      "train | loss: 0.6841: 100%|██████████| 7/7 [00:00<00:00, 194.41it/s]\n"
     ]
    },
    {
     "name": "stdout",
     "output_type": "stream",
     "text": [
      "Epoch [42/70], Train Loss: 0.6799\n",
      "Epoch [42/70], Val Loss: 0.5361\n"
     ]
    },
    {
     "name": "stderr",
     "output_type": "stream",
     "text": [
      "train | loss: 0.6648: 100%|██████████| 7/7 [00:00<00:00, 200.37it/s]\n"
     ]
    },
    {
     "name": "stdout",
     "output_type": "stream",
     "text": [
      "Epoch [43/70], Train Loss: 0.6442\n",
      "Epoch [43/70], Val Loss: 0.5349\n"
     ]
    },
    {
     "name": "stderr",
     "output_type": "stream",
     "text": [
      "train | loss: 0.6813: 100%|██████████| 7/7 [00:00<00:00, 220.68it/s]\n"
     ]
    },
    {
     "name": "stdout",
     "output_type": "stream",
     "text": [
      "Epoch [44/70], Train Loss: 0.6515\n",
      "Epoch [44/70], Val Loss: 0.5330\n"
     ]
    },
    {
     "name": "stderr",
     "output_type": "stream",
     "text": [
      "train | loss: 0.6249: 100%|██████████| 7/7 [00:00<00:00, 189.94it/s]\n"
     ]
    },
    {
     "name": "stdout",
     "output_type": "stream",
     "text": [
      "Epoch [45/70], Train Loss: 0.6334\n",
      "Epoch [45/70], Val Loss: 0.5298\n"
     ]
    },
    {
     "name": "stderr",
     "output_type": "stream",
     "text": [
      "train | loss: 0.6521: 100%|██████████| 7/7 [00:00<00:00, 198.45it/s]\n"
     ]
    },
    {
     "name": "stdout",
     "output_type": "stream",
     "text": [
      "Epoch [46/70], Train Loss: 0.6457\n",
      "Epoch [46/70], Val Loss: 0.5291\n"
     ]
    },
    {
     "name": "stderr",
     "output_type": "stream",
     "text": [
      "train | loss: 0.5992: 100%|██████████| 7/7 [00:00<00:00, 203.15it/s]\n"
     ]
    },
    {
     "name": "stdout",
     "output_type": "stream",
     "text": [
      "Epoch [47/70], Train Loss: 0.6358\n",
      "Epoch [47/70], Val Loss: 0.5273\n"
     ]
    },
    {
     "name": "stderr",
     "output_type": "stream",
     "text": [
      "train | loss: 0.5583: 100%|██████████| 7/7 [00:00<00:00, 207.96it/s]\n"
     ]
    },
    {
     "name": "stdout",
     "output_type": "stream",
     "text": [
      "Epoch [48/70], Train Loss: 0.6264\n",
      "Epoch [48/70], Val Loss: 0.5264\n"
     ]
    },
    {
     "name": "stderr",
     "output_type": "stream",
     "text": [
      "train | loss: 0.6029: 100%|██████████| 7/7 [00:00<00:00, 198.43it/s]"
     ]
    },
    {
     "name": "stdout",
     "output_type": "stream",
     "text": [
      "Epoch [49/70], Train Loss: 0.6133\n"
     ]
    },
    {
     "name": "stderr",
     "output_type": "stream",
     "text": [
      "\n"
     ]
    },
    {
     "name": "stdout",
     "output_type": "stream",
     "text": [
      "Epoch [49/70], Val Loss: 0.5246\n"
     ]
    },
    {
     "name": "stderr",
     "output_type": "stream",
     "text": [
      "train | loss: 0.6044: 100%|██████████| 7/7 [00:00<00:00, 206.61it/s]\n"
     ]
    },
    {
     "name": "stdout",
     "output_type": "stream",
     "text": [
      "Epoch [50/70], Train Loss: 0.6250\n",
      "Epoch [50/70], Val Loss: 0.5245\n"
     ]
    },
    {
     "name": "stderr",
     "output_type": "stream",
     "text": [
      "train | loss: 0.6027: 100%|██████████| 7/7 [00:00<00:00, 203.45it/s]\n"
     ]
    },
    {
     "name": "stdout",
     "output_type": "stream",
     "text": [
      "Epoch [51/70], Train Loss: 0.6339\n",
      "Epoch [51/70], Val Loss: 0.5237\n"
     ]
    },
    {
     "name": "stderr",
     "output_type": "stream",
     "text": [
      "train | loss: 0.6242: 100%|██████████| 7/7 [00:00<00:00, 199.33it/s]\n"
     ]
    },
    {
     "name": "stdout",
     "output_type": "stream",
     "text": [
      "Epoch [52/70], Train Loss: 0.6204\n",
      "Epoch [52/70], Val Loss: 0.5220\n"
     ]
    },
    {
     "name": "stderr",
     "output_type": "stream",
     "text": [
      "train | loss: 0.6924: 100%|██████████| 7/7 [00:00<00:00, 192.93it/s]\n"
     ]
    },
    {
     "name": "stdout",
     "output_type": "stream",
     "text": [
      "Epoch [53/70], Train Loss: 0.6252\n",
      "Epoch [53/70], Val Loss: 0.5212\n"
     ]
    },
    {
     "name": "stderr",
     "output_type": "stream",
     "text": [
      "train | loss: 0.6774: 100%|██████████| 7/7 [00:00<00:00, 201.49it/s]\n"
     ]
    },
    {
     "name": "stdout",
     "output_type": "stream",
     "text": [
      "Epoch [54/70], Train Loss: 0.6132\n",
      "Epoch [54/70], Val Loss: 0.5184\n"
     ]
    },
    {
     "name": "stderr",
     "output_type": "stream",
     "text": [
      "train | loss: 0.6224: 100%|██████████| 7/7 [00:00<00:00, 144.05it/s]\n"
     ]
    },
    {
     "name": "stdout",
     "output_type": "stream",
     "text": [
      "Epoch [55/70], Train Loss: 0.6080\n",
      "Epoch [55/70], Val Loss: 0.5182\n"
     ]
    },
    {
     "name": "stderr",
     "output_type": "stream",
     "text": [
      "train | loss: 0.6715: 100%|██████████| 7/7 [00:00<00:00, 148.66it/s]\n"
     ]
    },
    {
     "name": "stdout",
     "output_type": "stream",
     "text": [
      "Epoch [56/70], Train Loss: 0.6046\n",
      "Epoch [56/70], Val Loss: 0.5163\n"
     ]
    },
    {
     "name": "stderr",
     "output_type": "stream",
     "text": [
      "train | loss: 0.5646: 100%|██████████| 7/7 [00:00<00:00, 168.53it/s]"
     ]
    },
    {
     "name": "stdout",
     "output_type": "stream",
     "text": [
      "Epoch [57/70], Train Loss: 0.6070\n"
     ]
    },
    {
     "name": "stderr",
     "output_type": "stream",
     "text": [
      "\n"
     ]
    },
    {
     "name": "stdout",
     "output_type": "stream",
     "text": [
      "Epoch [57/70], Val Loss: 0.5162\n"
     ]
    },
    {
     "name": "stderr",
     "output_type": "stream",
     "text": [
      "train | loss: 0.6052: 100%|██████████| 7/7 [00:00<00:00, 177.81it/s]\n"
     ]
    },
    {
     "name": "stdout",
     "output_type": "stream",
     "text": [
      "Epoch [58/70], Train Loss: 0.6151\n",
      "Epoch [58/70], Val Loss: 0.5167\n"
     ]
    },
    {
     "name": "stderr",
     "output_type": "stream",
     "text": [
      "train | loss: 0.5755: 100%|██████████| 7/7 [00:00<00:00, 199.97it/s]\n"
     ]
    },
    {
     "name": "stdout",
     "output_type": "stream",
     "text": [
      "Epoch [59/70], Train Loss: 0.5943\n",
      "Epoch [59/70], Val Loss: 0.5158\n"
     ]
    },
    {
     "name": "stderr",
     "output_type": "stream",
     "text": [
      "train | loss: 0.5552: 100%|██████████| 7/7 [00:00<00:00, 197.06it/s]\n"
     ]
    },
    {
     "name": "stdout",
     "output_type": "stream",
     "text": [
      "Epoch [60/70], Train Loss: 0.5963\n",
      "Epoch [60/70], Val Loss: 0.5153\n"
     ]
    },
    {
     "name": "stderr",
     "output_type": "stream",
     "text": [
      "train | loss: 0.6180: 100%|██████████| 7/7 [00:00<00:00, 185.92it/s]\n"
     ]
    },
    {
     "name": "stdout",
     "output_type": "stream",
     "text": [
      "Epoch [61/70], Train Loss: 0.5881\n",
      "Epoch [61/70], Val Loss: 0.5120\n"
     ]
    },
    {
     "name": "stderr",
     "output_type": "stream",
     "text": [
      "train | loss: 0.5373: 100%|██████████| 7/7 [00:00<00:00, 204.51it/s]\n"
     ]
    },
    {
     "name": "stdout",
     "output_type": "stream",
     "text": [
      "Epoch [62/70], Train Loss: 0.5882\n",
      "Epoch [62/70], Val Loss: 0.5103\n"
     ]
    },
    {
     "name": "stderr",
     "output_type": "stream",
     "text": [
      "train | loss: 0.5820: 100%|██████████| 7/7 [00:00<00:00, 207.14it/s]\n"
     ]
    },
    {
     "name": "stdout",
     "output_type": "stream",
     "text": [
      "Epoch [63/70], Train Loss: 0.5893\n",
      "Epoch [63/70], Val Loss: 0.5108\n"
     ]
    },
    {
     "name": "stderr",
     "output_type": "stream",
     "text": [
      "train | loss: 0.5890: 100%|██████████| 7/7 [00:00<00:00, 183.44it/s]\n"
     ]
    },
    {
     "name": "stdout",
     "output_type": "stream",
     "text": [
      "Epoch [64/70], Train Loss: 0.5963\n",
      "Epoch [64/70], Val Loss: 0.5102\n"
     ]
    },
    {
     "name": "stderr",
     "output_type": "stream",
     "text": [
      "train | loss: 0.5584: 100%|██████████| 7/7 [00:00<00:00, 200.95it/s]\n"
     ]
    },
    {
     "name": "stdout",
     "output_type": "stream",
     "text": [
      "Epoch [65/70], Train Loss: 0.6139\n",
      "Epoch [65/70], Val Loss: 0.5087\n"
     ]
    },
    {
     "name": "stderr",
     "output_type": "stream",
     "text": [
      "train | loss: 0.4996: 100%|██████████| 7/7 [00:00<00:00, 194.62it/s]\n"
     ]
    },
    {
     "name": "stdout",
     "output_type": "stream",
     "text": [
      "Epoch [66/70], Train Loss: 0.6047\n",
      "Epoch [66/70], Val Loss: 0.5084\n"
     ]
    },
    {
     "name": "stderr",
     "output_type": "stream",
     "text": [
      "train | loss: 0.6357: 100%|██████████| 7/7 [00:00<00:00, 198.70it/s]\n"
     ]
    },
    {
     "name": "stdout",
     "output_type": "stream",
     "text": [
      "Epoch [67/70], Train Loss: 0.5883\n",
      "Epoch [67/70], Val Loss: 0.5086\n"
     ]
    },
    {
     "name": "stderr",
     "output_type": "stream",
     "text": [
      "train | loss: 0.5789: 100%|██████████| 7/7 [00:00<00:00, 206.93it/s]\n"
     ]
    },
    {
     "name": "stdout",
     "output_type": "stream",
     "text": [
      "Epoch [68/70], Train Loss: 0.5800\n",
      "Epoch [68/70], Val Loss: 0.5071\n"
     ]
    },
    {
     "name": "stderr",
     "output_type": "stream",
     "text": [
      "train | loss: 0.6569: 100%|██████████| 7/7 [00:00<00:00, 210.48it/s]\n"
     ]
    },
    {
     "name": "stdout",
     "output_type": "stream",
     "text": [
      "Epoch [69/70], Train Loss: 0.6160\n",
      "Epoch [69/70], Val Loss: 0.5057\n"
     ]
    },
    {
     "name": "stderr",
     "output_type": "stream",
     "text": [
      "train | loss: 0.6068: 100%|██████████| 7/7 [00:00<00:00, 191.66it/s]\n"
     ]
    },
    {
     "name": "stdout",
     "output_type": "stream",
     "text": [
      "Epoch [70/70], Train Loss: 0.5839\n",
      "Epoch [70/70], Val Loss: 0.5057\n",
      "big loop: 1\n"
     ]
    },
    {
     "name": "stderr",
     "output_type": "stream",
     "text": [
      "train | loss: 4.3383: 100%|██████████| 7/7 [00:00<00:00, 185.17it/s]\n"
     ]
    },
    {
     "name": "stdout",
     "output_type": "stream",
     "text": [
      "Epoch [1/70], Train Loss: 2.7134\n",
      "Epoch [1/70], Val Loss: 1.3296\n"
     ]
    },
    {
     "name": "stderr",
     "output_type": "stream",
     "text": [
      "train | loss: 1.6909: 100%|██████████| 7/7 [00:00<00:00, 182.62it/s]\n"
     ]
    },
    {
     "name": "stdout",
     "output_type": "stream",
     "text": [
      "Epoch [2/70], Train Loss: 1.5189\n",
      "Epoch [2/70], Val Loss: 0.9584\n"
     ]
    },
    {
     "name": "stderr",
     "output_type": "stream",
     "text": [
      "train | loss: 1.2748: 100%|██████████| 7/7 [00:00<00:00, 189.61it/s]\n"
     ]
    },
    {
     "name": "stdout",
     "output_type": "stream",
     "text": [
      "Epoch [3/70], Train Loss: 1.2378\n",
      "Epoch [3/70], Val Loss: 0.8243\n"
     ]
    },
    {
     "name": "stderr",
     "output_type": "stream",
     "text": [
      "train | loss: 1.2387: 100%|██████████| 7/7 [00:00<00:00, 209.58it/s]\n"
     ]
    },
    {
     "name": "stdout",
     "output_type": "stream",
     "text": [
      "Epoch [4/70], Train Loss: 1.1445\n",
      "Epoch [4/70], Val Loss: 0.7747\n"
     ]
    },
    {
     "name": "stderr",
     "output_type": "stream",
     "text": [
      "train | loss: 1.1443: 100%|██████████| 7/7 [00:00<00:00, 207.63it/s]\n"
     ]
    },
    {
     "name": "stdout",
     "output_type": "stream",
     "text": [
      "Epoch [5/70], Train Loss: 1.0752\n",
      "Epoch [5/70], Val Loss: 0.7345\n"
     ]
    },
    {
     "name": "stderr",
     "output_type": "stream",
     "text": [
      "train | loss: 1.0692: 100%|██████████| 7/7 [00:00<00:00, 208.31it/s]"
     ]
    },
    {
     "name": "stdout",
     "output_type": "stream",
     "text": [
      "Epoch [6/70], Train Loss: 1.0344\n"
     ]
    },
    {
     "name": "stderr",
     "output_type": "stream",
     "text": [
      "\n"
     ]
    },
    {
     "name": "stdout",
     "output_type": "stream",
     "text": [
      "Epoch [6/70], Val Loss: 0.7075\n"
     ]
    },
    {
     "name": "stderr",
     "output_type": "stream",
     "text": [
      "train | loss: 1.0034: 100%|██████████| 7/7 [00:00<00:00, 184.31it/s]"
     ]
    },
    {
     "name": "stdout",
     "output_type": "stream",
     "text": [
      "Epoch [7/70], Train Loss: 1.0143\n"
     ]
    },
    {
     "name": "stderr",
     "output_type": "stream",
     "text": [
      "\n"
     ]
    },
    {
     "name": "stdout",
     "output_type": "stream",
     "text": [
      "Epoch [7/70], Val Loss: 0.6922\n"
     ]
    },
    {
     "name": "stderr",
     "output_type": "stream",
     "text": [
      "train | loss: 0.9758: 100%|██████████| 7/7 [00:00<00:00, 217.98it/s]\n"
     ]
    },
    {
     "name": "stdout",
     "output_type": "stream",
     "text": [
      "Epoch [8/70], Train Loss: 0.9803\n",
      "Epoch [8/70], Val Loss: 0.6763\n"
     ]
    },
    {
     "name": "stderr",
     "output_type": "stream",
     "text": [
      "train | loss: 0.9729: 100%|██████████| 7/7 [00:00<00:00, 190.16it/s]\n"
     ]
    },
    {
     "name": "stdout",
     "output_type": "stream",
     "text": [
      "Epoch [9/70], Train Loss: 0.9573\n",
      "Epoch [9/70], Val Loss: 0.6664\n"
     ]
    },
    {
     "name": "stderr",
     "output_type": "stream",
     "text": [
      "train | loss: 0.9364: 100%|██████████| 7/7 [00:00<00:00, 187.56it/s]"
     ]
    },
    {
     "name": "stdout",
     "output_type": "stream",
     "text": [
      "Epoch [10/70], Train Loss: 0.9253\n"
     ]
    },
    {
     "name": "stderr",
     "output_type": "stream",
     "text": [
      "\n"
     ]
    },
    {
     "name": "stdout",
     "output_type": "stream",
     "text": [
      "Epoch [10/70], Val Loss: 0.6587\n"
     ]
    },
    {
     "name": "stderr",
     "output_type": "stream",
     "text": [
      "train | loss: 0.9855: 100%|██████████| 7/7 [00:00<00:00, 204.30it/s]\n"
     ]
    },
    {
     "name": "stdout",
     "output_type": "stream",
     "text": [
      "Epoch [11/70], Train Loss: 0.9444\n",
      "Epoch [11/70], Val Loss: 0.6509\n"
     ]
    },
    {
     "name": "stderr",
     "output_type": "stream",
     "text": [
      "train | loss: 0.9165: 100%|██████████| 7/7 [00:00<00:00, 205.14it/s]\n"
     ]
    },
    {
     "name": "stdout",
     "output_type": "stream",
     "text": [
      "Epoch [12/70], Train Loss: 0.8992\n",
      "Epoch [12/70], Val Loss: 0.6456\n"
     ]
    },
    {
     "name": "stderr",
     "output_type": "stream",
     "text": [
      "train | loss: 0.9126: 100%|██████████| 7/7 [00:00<00:00, 201.09it/s]\n"
     ]
    },
    {
     "name": "stdout",
     "output_type": "stream",
     "text": [
      "Epoch [13/70], Train Loss: 0.9065\n",
      "Epoch [13/70], Val Loss: 0.6390\n"
     ]
    },
    {
     "name": "stderr",
     "output_type": "stream",
     "text": [
      "train | loss: 0.8919: 100%|██████████| 7/7 [00:00<00:00, 181.93it/s]"
     ]
    },
    {
     "name": "stdout",
     "output_type": "stream",
     "text": [
      "Epoch [14/70], Train Loss: 0.8782\n"
     ]
    },
    {
     "name": "stderr",
     "output_type": "stream",
     "text": [
      "\n"
     ]
    },
    {
     "name": "stdout",
     "output_type": "stream",
     "text": [
      "Epoch [14/70], Val Loss: 0.6354\n"
     ]
    },
    {
     "name": "stderr",
     "output_type": "stream",
     "text": [
      "train | loss: 0.8593: 100%|██████████| 7/7 [00:00<00:00, 192.32it/s]"
     ]
    },
    {
     "name": "stdout",
     "output_type": "stream",
     "text": [
      "Epoch [15/70], Train Loss: 0.8918\n"
     ]
    },
    {
     "name": "stderr",
     "output_type": "stream",
     "text": [
      "\n"
     ]
    },
    {
     "name": "stdout",
     "output_type": "stream",
     "text": [
      "Epoch [15/70], Val Loss: 0.6299\n"
     ]
    },
    {
     "name": "stderr",
     "output_type": "stream",
     "text": [
      "train | loss: 0.8753: 100%|██████████| 7/7 [00:00<00:00, 188.78it/s]"
     ]
    },
    {
     "name": "stdout",
     "output_type": "stream",
     "text": [
      "Epoch [16/70], Train Loss: 0.8413\n"
     ]
    },
    {
     "name": "stderr",
     "output_type": "stream",
     "text": [
      "\n"
     ]
    },
    {
     "name": "stdout",
     "output_type": "stream",
     "text": [
      "Epoch [16/70], Val Loss: 0.6251\n"
     ]
    },
    {
     "name": "stderr",
     "output_type": "stream",
     "text": [
      "train | loss: 0.7987: 100%|██████████| 7/7 [00:00<00:00, 118.10it/s]\n"
     ]
    },
    {
     "name": "stdout",
     "output_type": "stream",
     "text": [
      "Epoch [17/70], Train Loss: 0.8357\n",
      "Epoch [17/70], Val Loss: 0.6207\n"
     ]
    },
    {
     "name": "stderr",
     "output_type": "stream",
     "text": [
      "train | loss: 0.7954: 100%|██████████| 7/7 [00:00<00:00, 187.98it/s]\n"
     ]
    },
    {
     "name": "stdout",
     "output_type": "stream",
     "text": [
      "Epoch [18/70], Train Loss: 0.8334\n",
      "Epoch [18/70], Val Loss: 0.6167\n"
     ]
    },
    {
     "name": "stderr",
     "output_type": "stream",
     "text": [
      "train | loss: 0.7471: 100%|██████████| 7/7 [00:00<00:00, 195.25it/s]\n"
     ]
    },
    {
     "name": "stdout",
     "output_type": "stream",
     "text": [
      "Epoch [19/70], Train Loss: 0.8086\n",
      "Epoch [19/70], Val Loss: 0.6129\n"
     ]
    },
    {
     "name": "stderr",
     "output_type": "stream",
     "text": [
      "train | loss: 0.8440: 100%|██████████| 7/7 [00:00<00:00, 179.62it/s]\n"
     ]
    },
    {
     "name": "stdout",
     "output_type": "stream",
     "text": [
      "Epoch [20/70], Train Loss: 0.8011\n",
      "Epoch [20/70], Val Loss: 0.6097\n"
     ]
    },
    {
     "name": "stderr",
     "output_type": "stream",
     "text": [
      "train | loss: 0.7869: 100%|██████████| 7/7 [00:00<00:00, 190.08it/s]\n"
     ]
    },
    {
     "name": "stdout",
     "output_type": "stream",
     "text": [
      "Epoch [21/70], Train Loss: 0.8088\n",
      "Epoch [21/70], Val Loss: 0.6059\n"
     ]
    },
    {
     "name": "stderr",
     "output_type": "stream",
     "text": [
      "train | loss: 0.7406: 100%|██████████| 7/7 [00:00<00:00, 187.78it/s]\n"
     ]
    },
    {
     "name": "stdout",
     "output_type": "stream",
     "text": [
      "Epoch [22/70], Train Loss: 0.7855\n",
      "Epoch [22/70], Val Loss: 0.6052\n"
     ]
    },
    {
     "name": "stderr",
     "output_type": "stream",
     "text": [
      "train | loss: 0.7275: 100%|██████████| 7/7 [00:00<00:00, 193.58it/s]\n"
     ]
    },
    {
     "name": "stdout",
     "output_type": "stream",
     "text": [
      "Epoch [23/70], Train Loss: 0.7786\n",
      "Epoch [23/70], Val Loss: 0.5992\n"
     ]
    },
    {
     "name": "stderr",
     "output_type": "stream",
     "text": [
      "train | loss: 0.8304: 100%|██████████| 7/7 [00:00<00:00, 189.41it/s]\n"
     ]
    },
    {
     "name": "stdout",
     "output_type": "stream",
     "text": [
      "Epoch [24/70], Train Loss: 0.7637\n",
      "Epoch [24/70], Val Loss: 0.5970\n"
     ]
    },
    {
     "name": "stderr",
     "output_type": "stream",
     "text": [
      "train | loss: 0.7312: 100%|██████████| 7/7 [00:00<00:00, 84.39it/s]\n"
     ]
    },
    {
     "name": "stdout",
     "output_type": "stream",
     "text": [
      "Epoch [25/70], Train Loss: 0.7747\n",
      "Epoch [25/70], Val Loss: 0.5957\n"
     ]
    },
    {
     "name": "stderr",
     "output_type": "stream",
     "text": [
      "train | loss: 0.7260: 100%|██████████| 7/7 [00:00<00:00, 90.98it/s]\n"
     ]
    },
    {
     "name": "stdout",
     "output_type": "stream",
     "text": [
      "Epoch [26/70], Train Loss: 0.7708\n",
      "Epoch [26/70], Val Loss: 0.5931\n"
     ]
    },
    {
     "name": "stderr",
     "output_type": "stream",
     "text": [
      "train | loss: 0.7852: 100%|██████████| 7/7 [00:00<00:00, 185.35it/s]\n"
     ]
    },
    {
     "name": "stdout",
     "output_type": "stream",
     "text": [
      "Epoch [27/70], Train Loss: 0.7829\n",
      "Epoch [27/70], Val Loss: 0.5911\n"
     ]
    },
    {
     "name": "stderr",
     "output_type": "stream",
     "text": [
      "train | loss: 0.6925: 100%|██████████| 7/7 [00:00<00:00, 188.28it/s]\n"
     ]
    },
    {
     "name": "stdout",
     "output_type": "stream",
     "text": [
      "Epoch [28/70], Train Loss: 0.7600\n",
      "Epoch [28/70], Val Loss: 0.5882\n"
     ]
    },
    {
     "name": "stderr",
     "output_type": "stream",
     "text": [
      "train | loss: 0.7242: 100%|██████████| 7/7 [00:00<00:00, 207.87it/s]\n"
     ]
    },
    {
     "name": "stdout",
     "output_type": "stream",
     "text": [
      "Epoch [29/70], Train Loss: 0.7386\n",
      "Epoch [29/70], Val Loss: 0.5836\n"
     ]
    },
    {
     "name": "stderr",
     "output_type": "stream",
     "text": [
      "train | loss: 0.6582: 100%|██████████| 7/7 [00:00<00:00, 197.77it/s]\n"
     ]
    },
    {
     "name": "stdout",
     "output_type": "stream",
     "text": [
      "Epoch [30/70], Train Loss: 0.7167\n",
      "Epoch [30/70], Val Loss: 0.5817\n"
     ]
    },
    {
     "name": "stderr",
     "output_type": "stream",
     "text": [
      "train | loss: 0.6957: 100%|██████████| 7/7 [00:00<00:00, 177.96it/s]\n"
     ]
    },
    {
     "name": "stdout",
     "output_type": "stream",
     "text": [
      "Epoch [31/70], Train Loss: 0.7085\n",
      "Epoch [31/70], Val Loss: 0.5806\n"
     ]
    },
    {
     "name": "stderr",
     "output_type": "stream",
     "text": [
      "train | loss: 0.6872: 100%|██████████| 7/7 [00:00<00:00, 181.97it/s]\n"
     ]
    },
    {
     "name": "stdout",
     "output_type": "stream",
     "text": [
      "Epoch [32/70], Train Loss: 0.6967\n",
      "Epoch [32/70], Val Loss: 0.5782\n"
     ]
    },
    {
     "name": "stderr",
     "output_type": "stream",
     "text": [
      "train | loss: 0.6746: 100%|██████████| 7/7 [00:00<00:00, 187.72it/s]\n"
     ]
    },
    {
     "name": "stdout",
     "output_type": "stream",
     "text": [
      "Epoch [33/70], Train Loss: 0.7213\n",
      "Epoch [33/70], Val Loss: 0.5747\n"
     ]
    },
    {
     "name": "stderr",
     "output_type": "stream",
     "text": [
      "train | loss: 0.7022: 100%|██████████| 7/7 [00:00<00:00, 186.23it/s]\n"
     ]
    },
    {
     "name": "stdout",
     "output_type": "stream",
     "text": [
      "Epoch [34/70], Train Loss: 0.6976\n",
      "Epoch [34/70], Val Loss: 0.5729\n"
     ]
    },
    {
     "name": "stderr",
     "output_type": "stream",
     "text": [
      "train | loss: 0.6622: 100%|██████████| 7/7 [00:00<00:00, 176.32it/s]\n"
     ]
    },
    {
     "name": "stdout",
     "output_type": "stream",
     "text": [
      "Epoch [35/70], Train Loss: 0.6868\n",
      "Epoch [35/70], Val Loss: 0.5730\n"
     ]
    },
    {
     "name": "stderr",
     "output_type": "stream",
     "text": [
      "train | loss: 0.6475: 100%|██████████| 7/7 [00:00<00:00, 198.79it/s]\n"
     ]
    },
    {
     "name": "stdout",
     "output_type": "stream",
     "text": [
      "Epoch [36/70], Train Loss: 0.6977\n",
      "Epoch [36/70], Val Loss: 0.5695\n"
     ]
    },
    {
     "name": "stderr",
     "output_type": "stream",
     "text": [
      "train | loss: 0.6856: 100%|██████████| 7/7 [00:00<00:00, 188.95it/s]\n"
     ]
    },
    {
     "name": "stdout",
     "output_type": "stream",
     "text": [
      "Epoch [37/70], Train Loss: 0.6905\n",
      "Epoch [37/70], Val Loss: 0.5676\n"
     ]
    },
    {
     "name": "stderr",
     "output_type": "stream",
     "text": [
      "train | loss: 0.6698: 100%|██████████| 7/7 [00:00<00:00, 206.04it/s]\n"
     ]
    },
    {
     "name": "stdout",
     "output_type": "stream",
     "text": [
      "Epoch [38/70], Train Loss: 0.6785\n",
      "Epoch [38/70], Val Loss: 0.5663\n"
     ]
    },
    {
     "name": "stderr",
     "output_type": "stream",
     "text": [
      "train | loss: 0.6531: 100%|██████████| 7/7 [00:00<00:00, 208.88it/s]\n"
     ]
    },
    {
     "name": "stdout",
     "output_type": "stream",
     "text": [
      "Epoch [39/70], Train Loss: 0.6881\n",
      "Epoch [39/70], Val Loss: 0.5661\n"
     ]
    },
    {
     "name": "stderr",
     "output_type": "stream",
     "text": [
      "train | loss: 0.6676: 100%|██████████| 7/7 [00:00<00:00, 192.40it/s]\n"
     ]
    },
    {
     "name": "stdout",
     "output_type": "stream",
     "text": [
      "Epoch [40/70], Train Loss: 0.6746\n",
      "Epoch [40/70], Val Loss: 0.5651\n"
     ]
    },
    {
     "name": "stderr",
     "output_type": "stream",
     "text": [
      "train | loss: 0.6984: 100%|██████████| 7/7 [00:00<00:00, 95.45it/s]\n"
     ]
    },
    {
     "name": "stdout",
     "output_type": "stream",
     "text": [
      "Epoch [41/70], Train Loss: 0.6822\n",
      "Epoch [41/70], Val Loss: 0.5618\n"
     ]
    },
    {
     "name": "stderr",
     "output_type": "stream",
     "text": [
      "train | loss: 0.6795: 100%|██████████| 7/7 [00:00<00:00, 201.41it/s]\n"
     ]
    },
    {
     "name": "stdout",
     "output_type": "stream",
     "text": [
      "Epoch [42/70], Train Loss: 0.6669\n",
      "Epoch [42/70], Val Loss: 0.5605\n"
     ]
    },
    {
     "name": "stderr",
     "output_type": "stream",
     "text": [
      "train | loss: 0.6449: 100%|██████████| 7/7 [00:00<00:00, 180.50it/s]\n"
     ]
    },
    {
     "name": "stdout",
     "output_type": "stream",
     "text": [
      "Epoch [43/70], Train Loss: 0.6636\n",
      "Epoch [43/70], Val Loss: 0.5587\n"
     ]
    },
    {
     "name": "stderr",
     "output_type": "stream",
     "text": [
      "train | loss: 0.6227: 100%|██████████| 7/7 [00:00<00:00, 207.59it/s]\n"
     ]
    },
    {
     "name": "stdout",
     "output_type": "stream",
     "text": [
      "Epoch [44/70], Train Loss: 0.6881\n",
      "Epoch [44/70], Val Loss: 0.5565\n"
     ]
    },
    {
     "name": "stderr",
     "output_type": "stream",
     "text": [
      "train | loss: 0.6071: 100%|██████████| 7/7 [00:00<00:00, 176.73it/s]"
     ]
    },
    {
     "name": "stdout",
     "output_type": "stream",
     "text": [
      "Epoch [45/70], Train Loss: 0.6885\n"
     ]
    },
    {
     "name": "stderr",
     "output_type": "stream",
     "text": [
      "\n"
     ]
    },
    {
     "name": "stdout",
     "output_type": "stream",
     "text": [
      "Epoch [45/70], Val Loss: 0.5580\n"
     ]
    },
    {
     "name": "stderr",
     "output_type": "stream",
     "text": [
      "train | loss: 0.6748: 100%|██████████| 7/7 [00:00<00:00, 204.03it/s]"
     ]
    },
    {
     "name": "stdout",
     "output_type": "stream",
     "text": [
      "Epoch [46/70], Train Loss: 0.6674\n"
     ]
    },
    {
     "name": "stderr",
     "output_type": "stream",
     "text": [
      "\n"
     ]
    },
    {
     "name": "stdout",
     "output_type": "stream",
     "text": [
      "Epoch [46/70], Val Loss: 0.5566\n"
     ]
    },
    {
     "name": "stderr",
     "output_type": "stream",
     "text": [
      "train | loss: 0.6663: 100%|██████████| 7/7 [00:00<00:00, 193.87it/s]"
     ]
    },
    {
     "name": "stdout",
     "output_type": "stream",
     "text": [
      "Epoch [47/70], Train Loss: 0.6671\n"
     ]
    },
    {
     "name": "stderr",
     "output_type": "stream",
     "text": [
      "\n"
     ]
    },
    {
     "name": "stdout",
     "output_type": "stream",
     "text": [
      "Epoch [47/70], Val Loss: 0.5549\n"
     ]
    },
    {
     "name": "stderr",
     "output_type": "stream",
     "text": [
      "train | loss: 0.6757: 100%|██████████| 7/7 [00:00<00:00, 205.88it/s]\n"
     ]
    },
    {
     "name": "stdout",
     "output_type": "stream",
     "text": [
      "Epoch [48/70], Train Loss: 0.6558\n",
      "Epoch [48/70], Val Loss: 0.5530\n"
     ]
    },
    {
     "name": "stderr",
     "output_type": "stream",
     "text": [
      "train | loss: 0.6435: 100%|██████████| 7/7 [00:00<00:00, 178.21it/s]"
     ]
    },
    {
     "name": "stdout",
     "output_type": "stream",
     "text": [
      "Epoch [49/70], Train Loss: 0.6502\n"
     ]
    },
    {
     "name": "stderr",
     "output_type": "stream",
     "text": [
      "\n"
     ]
    },
    {
     "name": "stdout",
     "output_type": "stream",
     "text": [
      "Epoch [49/70], Val Loss: 0.5511\n"
     ]
    },
    {
     "name": "stderr",
     "output_type": "stream",
     "text": [
      "train | loss: 0.6831: 100%|██████████| 7/7 [00:00<00:00, 176.67it/s]\n"
     ]
    },
    {
     "name": "stdout",
     "output_type": "stream",
     "text": [
      "Epoch [50/70], Train Loss: 0.6630\n",
      "Epoch [50/70], Val Loss: 0.5515\n"
     ]
    },
    {
     "name": "stderr",
     "output_type": "stream",
     "text": [
      "train | loss: 0.6280: 100%|██████████| 7/7 [00:00<00:00, 185.15it/s]"
     ]
    },
    {
     "name": "stdout",
     "output_type": "stream",
     "text": [
      "Epoch [51/70], Train Loss: 0.6368\n"
     ]
    },
    {
     "name": "stderr",
     "output_type": "stream",
     "text": [
      "\n"
     ]
    },
    {
     "name": "stdout",
     "output_type": "stream",
     "text": [
      "Epoch [51/70], Val Loss: 0.5503\n"
     ]
    },
    {
     "name": "stderr",
     "output_type": "stream",
     "text": [
      "train | loss: 0.6690: 100%|██████████| 7/7 [00:00<00:00, 208.95it/s]\n"
     ]
    },
    {
     "name": "stdout",
     "output_type": "stream",
     "text": [
      "Epoch [52/70], Train Loss: 0.6410\n",
      "Epoch [52/70], Val Loss: 0.5482\n"
     ]
    },
    {
     "name": "stderr",
     "output_type": "stream",
     "text": [
      "train | loss: 0.5844: 100%|██████████| 7/7 [00:00<00:00, 205.08it/s]"
     ]
    },
    {
     "name": "stdout",
     "output_type": "stream",
     "text": [
      "Epoch [53/70], Train Loss: 0.6416\n"
     ]
    },
    {
     "name": "stderr",
     "output_type": "stream",
     "text": [
      "\n"
     ]
    },
    {
     "name": "stdout",
     "output_type": "stream",
     "text": [
      "Epoch [53/70], Val Loss: 0.5450\n"
     ]
    },
    {
     "name": "stderr",
     "output_type": "stream",
     "text": [
      "train | loss: 0.6491: 100%|██████████| 7/7 [00:00<00:00, 198.41it/s]\n"
     ]
    },
    {
     "name": "stdout",
     "output_type": "stream",
     "text": [
      "Epoch [54/70], Train Loss: 0.6431\n",
      "Epoch [54/70], Val Loss: 0.5444\n"
     ]
    },
    {
     "name": "stderr",
     "output_type": "stream",
     "text": [
      "train | loss: 0.6249: 100%|██████████| 7/7 [00:00<00:00, 178.63it/s]"
     ]
    },
    {
     "name": "stdout",
     "output_type": "stream",
     "text": [
      "Epoch [55/70], Train Loss: 0.6256\n"
     ]
    },
    {
     "name": "stderr",
     "output_type": "stream",
     "text": [
      "\n"
     ]
    },
    {
     "name": "stdout",
     "output_type": "stream",
     "text": [
      "Epoch [55/70], Val Loss: 0.5424\n"
     ]
    },
    {
     "name": "stderr",
     "output_type": "stream",
     "text": [
      "train | loss: 0.6065: 100%|██████████| 7/7 [00:00<00:00, 177.62it/s]\n"
     ]
    },
    {
     "name": "stdout",
     "output_type": "stream",
     "text": [
      "Epoch [56/70], Train Loss: 0.6551\n",
      "Epoch [56/70], Val Loss: 0.5416\n"
     ]
    },
    {
     "name": "stderr",
     "output_type": "stream",
     "text": [
      "train | loss: 0.5761: 100%|██████████| 7/7 [00:00<00:00, 170.46it/s]\n"
     ]
    },
    {
     "name": "stdout",
     "output_type": "stream",
     "text": [
      "Epoch [57/70], Train Loss: 0.6446\n",
      "Epoch [57/70], Val Loss: 0.5416\n"
     ]
    },
    {
     "name": "stderr",
     "output_type": "stream",
     "text": [
      "train | loss: 0.5737: 100%|██████████| 7/7 [00:00<00:00, 217.68it/s]\n"
     ]
    },
    {
     "name": "stdout",
     "output_type": "stream",
     "text": [
      "Epoch [58/70], Train Loss: 0.6311\n",
      "Epoch [58/70], Val Loss: 0.5430\n"
     ]
    },
    {
     "name": "stderr",
     "output_type": "stream",
     "text": [
      "train | loss: 0.5985: 100%|██████████| 7/7 [00:00<00:00, 95.57it/s]\n"
     ]
    },
    {
     "name": "stdout",
     "output_type": "stream",
     "text": [
      "Epoch [59/70], Train Loss: 0.6220\n",
      "Epoch [59/70], Val Loss: 0.5394\n"
     ]
    },
    {
     "name": "stderr",
     "output_type": "stream",
     "text": [
      "train | loss: 0.6436: 100%|██████████| 7/7 [00:00<00:00, 204.94it/s]\n"
     ]
    },
    {
     "name": "stdout",
     "output_type": "stream",
     "text": [
      "Epoch [60/70], Train Loss: 0.6241\n",
      "Epoch [60/70], Val Loss: 0.5380\n"
     ]
    },
    {
     "name": "stderr",
     "output_type": "stream",
     "text": [
      "train | loss: 0.6120: 100%|██████████| 7/7 [00:00<00:00, 197.83it/s]\n"
     ]
    },
    {
     "name": "stdout",
     "output_type": "stream",
     "text": [
      "Epoch [61/70], Train Loss: 0.6222\n",
      "Epoch [61/70], Val Loss: 0.5363\n"
     ]
    },
    {
     "name": "stderr",
     "output_type": "stream",
     "text": [
      "train | loss: 0.6954: 100%|██████████| 7/7 [00:00<00:00, 186.15it/s]\n"
     ]
    },
    {
     "name": "stdout",
     "output_type": "stream",
     "text": [
      "Epoch [62/70], Train Loss: 0.6243\n",
      "Epoch [62/70], Val Loss: 0.5352\n"
     ]
    },
    {
     "name": "stderr",
     "output_type": "stream",
     "text": [
      "train | loss: 0.6467: 100%|██████████| 7/7 [00:00<00:00, 204.92it/s]\n"
     ]
    },
    {
     "name": "stdout",
     "output_type": "stream",
     "text": [
      "Epoch [63/70], Train Loss: 0.6301\n",
      "Epoch [63/70], Val Loss: 0.5341\n"
     ]
    },
    {
     "name": "stderr",
     "output_type": "stream",
     "text": [
      "train | loss: 0.6384: 100%|██████████| 7/7 [00:00<00:00, 191.19it/s]\n"
     ]
    },
    {
     "name": "stdout",
     "output_type": "stream",
     "text": [
      "Epoch [64/70], Train Loss: 0.6261\n",
      "Epoch [64/70], Val Loss: 0.5345\n"
     ]
    },
    {
     "name": "stderr",
     "output_type": "stream",
     "text": [
      "train | loss: 0.6465: 100%|██████████| 7/7 [00:00<00:00, 195.89it/s]"
     ]
    },
    {
     "name": "stdout",
     "output_type": "stream",
     "text": [
      "Epoch [65/70], Train Loss: 0.6316\n"
     ]
    },
    {
     "name": "stderr",
     "output_type": "stream",
     "text": [
      "\n"
     ]
    },
    {
     "name": "stdout",
     "output_type": "stream",
     "text": [
      "Epoch [65/70], Val Loss: 0.5343\n"
     ]
    },
    {
     "name": "stderr",
     "output_type": "stream",
     "text": [
      "train | loss: 0.6440: 100%|██████████| 7/7 [00:00<00:00, 187.74it/s]\n"
     ]
    },
    {
     "name": "stdout",
     "output_type": "stream",
     "text": [
      "Epoch [66/70], Train Loss: 0.6185\n",
      "Epoch [66/70], Val Loss: 0.5344\n"
     ]
    },
    {
     "name": "stderr",
     "output_type": "stream",
     "text": [
      "train | loss: 0.5966: 100%|██████████| 7/7 [00:00<00:00, 85.86it/s]\n"
     ]
    },
    {
     "name": "stdout",
     "output_type": "stream",
     "text": [
      "Epoch [67/70], Train Loss: 0.6032\n",
      "Epoch [67/70], Val Loss: 0.5344\n"
     ]
    },
    {
     "name": "stderr",
     "output_type": "stream",
     "text": [
      "train | loss: 0.6961: 100%|██████████| 7/7 [00:00<00:00, 128.72it/s]\n"
     ]
    },
    {
     "name": "stdout",
     "output_type": "stream",
     "text": [
      "Epoch [68/70], Train Loss: 0.6099\n",
      "Epoch [68/70], Val Loss: 0.5309\n"
     ]
    },
    {
     "name": "stderr",
     "output_type": "stream",
     "text": [
      "train | loss: 0.6124: 100%|██████████| 7/7 [00:00<00:00, 200.34it/s]\n"
     ]
    },
    {
     "name": "stdout",
     "output_type": "stream",
     "text": [
      "Epoch [69/70], Train Loss: 0.6404\n",
      "Epoch [69/70], Val Loss: 0.5301\n"
     ]
    },
    {
     "name": "stderr",
     "output_type": "stream",
     "text": [
      "train | loss: 0.6338: 100%|██████████| 7/7 [00:00<00:00, 160.56it/s]"
     ]
    },
    {
     "name": "stdout",
     "output_type": "stream",
     "text": [
      "Epoch [70/70], Train Loss: 0.6123\n",
      "Epoch [70/70], Val Loss: 0.5307\n",
      "big loop: 2\n"
     ]
    },
    {
     "name": "stderr",
     "output_type": "stream",
     "text": [
      "\n",
      "train | loss: 3.7909: 100%|██████████| 7/7 [00:00<00:00, 206.85it/s]\n"
     ]
    },
    {
     "name": "stdout",
     "output_type": "stream",
     "text": [
      "Epoch [1/70], Train Loss: 2.2442\n",
      "Epoch [1/70], Val Loss: 1.0289\n"
     ]
    },
    {
     "name": "stderr",
     "output_type": "stream",
     "text": [
      "train | loss: 1.4834: 100%|██████████| 7/7 [00:00<00:00, 201.98it/s]\n"
     ]
    },
    {
     "name": "stdout",
     "output_type": "stream",
     "text": [
      "Epoch [2/70], Train Loss: 1.3208\n",
      "Epoch [2/70], Val Loss: 0.8673\n"
     ]
    },
    {
     "name": "stderr",
     "output_type": "stream",
     "text": [
      "train | loss: 1.1344: 100%|██████████| 7/7 [00:00<00:00, 202.92it/s]\n"
     ]
    },
    {
     "name": "stdout",
     "output_type": "stream",
     "text": [
      "Epoch [3/70], Train Loss: 1.1737\n",
      "Epoch [3/70], Val Loss: 0.7490\n"
     ]
    },
    {
     "name": "stderr",
     "output_type": "stream",
     "text": [
      "train | loss: 1.1039: 100%|██████████| 7/7 [00:00<00:00, 192.34it/s]\n"
     ]
    },
    {
     "name": "stdout",
     "output_type": "stream",
     "text": [
      "Epoch [4/70], Train Loss: 1.0586\n",
      "Epoch [4/70], Val Loss: 0.6916\n"
     ]
    },
    {
     "name": "stderr",
     "output_type": "stream",
     "text": [
      "train | loss: 1.0493: 100%|██████████| 7/7 [00:00<00:00, 189.25it/s]"
     ]
    },
    {
     "name": "stdout",
     "output_type": "stream",
     "text": [
      "Epoch [5/70], Train Loss: 1.0096\n"
     ]
    },
    {
     "name": "stderr",
     "output_type": "stream",
     "text": [
      "\n"
     ]
    },
    {
     "name": "stdout",
     "output_type": "stream",
     "text": [
      "Epoch [5/70], Val Loss: 0.6526\n"
     ]
    },
    {
     "name": "stderr",
     "output_type": "stream",
     "text": [
      "train | loss: 1.0379: 100%|██████████| 7/7 [00:00<00:00, 202.79it/s]"
     ]
    },
    {
     "name": "stdout",
     "output_type": "stream",
     "text": [
      "Epoch [6/70], Train Loss: 0.9416\n"
     ]
    },
    {
     "name": "stderr",
     "output_type": "stream",
     "text": [
      "\n"
     ]
    },
    {
     "name": "stdout",
     "output_type": "stream",
     "text": [
      "Epoch [6/70], Val Loss: 0.6271\n"
     ]
    },
    {
     "name": "stderr",
     "output_type": "stream",
     "text": [
      "train | loss: 0.9722: 100%|██████████| 7/7 [00:00<00:00, 202.66it/s]"
     ]
    },
    {
     "name": "stdout",
     "output_type": "stream",
     "text": [
      "Epoch [7/70], Train Loss: 0.9424\n"
     ]
    },
    {
     "name": "stderr",
     "output_type": "stream",
     "text": [
      "\n"
     ]
    },
    {
     "name": "stdout",
     "output_type": "stream",
     "text": [
      "Epoch [7/70], Val Loss: 0.6120\n"
     ]
    },
    {
     "name": "stderr",
     "output_type": "stream",
     "text": [
      "train | loss: 0.8605: 100%|██████████| 7/7 [00:00<00:00, 202.12it/s]\n"
     ]
    },
    {
     "name": "stdout",
     "output_type": "stream",
     "text": [
      "Epoch [8/70], Train Loss: 0.9020\n",
      "Epoch [8/70], Val Loss: 0.6014\n"
     ]
    },
    {
     "name": "stderr",
     "output_type": "stream",
     "text": [
      "train | loss: 0.8679: 100%|██████████| 7/7 [00:00<00:00, 203.13it/s]\n"
     ]
    },
    {
     "name": "stdout",
     "output_type": "stream",
     "text": [
      "Epoch [9/70], Train Loss: 0.8837\n",
      "Epoch [9/70], Val Loss: 0.5907\n"
     ]
    },
    {
     "name": "stderr",
     "output_type": "stream",
     "text": [
      "train | loss: 0.9064: 100%|██████████| 7/7 [00:00<00:00, 177.45it/s]"
     ]
    },
    {
     "name": "stdout",
     "output_type": "stream",
     "text": [
      "Epoch [10/70], Train Loss: 0.8556\n"
     ]
    },
    {
     "name": "stderr",
     "output_type": "stream",
     "text": [
      "\n"
     ]
    },
    {
     "name": "stdout",
     "output_type": "stream",
     "text": [
      "Epoch [10/70], Val Loss: 0.5823\n"
     ]
    },
    {
     "name": "stderr",
     "output_type": "stream",
     "text": [
      "train | loss: 0.9128: 100%|██████████| 7/7 [00:00<00:00, 139.22it/s]\n"
     ]
    },
    {
     "name": "stdout",
     "output_type": "stream",
     "text": [
      "Epoch [11/70], Train Loss: 0.8478\n",
      "Epoch [11/70], Val Loss: 0.5766\n"
     ]
    },
    {
     "name": "stderr",
     "output_type": "stream",
     "text": [
      "train | loss: 0.8117: 100%|██████████| 7/7 [00:00<00:00, 149.54it/s]\n"
     ]
    },
    {
     "name": "stdout",
     "output_type": "stream",
     "text": [
      "Epoch [12/70], Train Loss: 0.8216\n",
      "Epoch [12/70], Val Loss: 0.5688\n"
     ]
    },
    {
     "name": "stderr",
     "output_type": "stream",
     "text": [
      "train | loss: 0.8771: 100%|██████████| 7/7 [00:00<00:00, 169.26it/s]\n"
     ]
    },
    {
     "name": "stdout",
     "output_type": "stream",
     "text": [
      "Epoch [13/70], Train Loss: 0.8136\n",
      "Epoch [13/70], Val Loss: 0.5642\n"
     ]
    },
    {
     "name": "stderr",
     "output_type": "stream",
     "text": [
      "train | loss: 0.7882: 100%|██████████| 7/7 [00:00<00:00, 196.01it/s]\n"
     ]
    },
    {
     "name": "stdout",
     "output_type": "stream",
     "text": [
      "Epoch [14/70], Train Loss: 0.8053\n",
      "Epoch [14/70], Val Loss: 0.5591\n"
     ]
    },
    {
     "name": "stderr",
     "output_type": "stream",
     "text": [
      "train | loss: 0.8458: 100%|██████████| 7/7 [00:00<00:00, 202.24it/s]\n"
     ]
    },
    {
     "name": "stdout",
     "output_type": "stream",
     "text": [
      "Epoch [15/70], Train Loss: 0.7866\n",
      "Epoch [15/70], Val Loss: 0.5553\n"
     ]
    },
    {
     "name": "stderr",
     "output_type": "stream",
     "text": [
      "train | loss: 0.7988: 100%|██████████| 7/7 [00:00<00:00, 163.56it/s]\n"
     ]
    },
    {
     "name": "stdout",
     "output_type": "stream",
     "text": [
      "Epoch [16/70], Train Loss: 0.7787\n",
      "Epoch [16/70], Val Loss: 0.5517\n"
     ]
    },
    {
     "name": "stderr",
     "output_type": "stream",
     "text": [
      "train | loss: 0.8010: 100%|██████████| 7/7 [00:00<00:00, 191.14it/s]"
     ]
    },
    {
     "name": "stdout",
     "output_type": "stream",
     "text": [
      "Epoch [17/70], Train Loss: 0.7616\n"
     ]
    },
    {
     "name": "stderr",
     "output_type": "stream",
     "text": [
      "\n"
     ]
    },
    {
     "name": "stdout",
     "output_type": "stream",
     "text": [
      "Epoch [17/70], Val Loss: 0.5482\n"
     ]
    },
    {
     "name": "stderr",
     "output_type": "stream",
     "text": [
      "train | loss: 0.7575: 100%|██████████| 7/7 [00:00<00:00, 197.97it/s]\n"
     ]
    },
    {
     "name": "stdout",
     "output_type": "stream",
     "text": [
      "Epoch [18/70], Train Loss: 0.7411\n",
      "Epoch [18/70], Val Loss: 0.5428\n"
     ]
    },
    {
     "name": "stderr",
     "output_type": "stream",
     "text": [
      "train | loss: 0.6937: 100%|██████████| 7/7 [00:00<00:00, 201.86it/s]\n"
     ]
    },
    {
     "name": "stdout",
     "output_type": "stream",
     "text": [
      "Epoch [19/70], Train Loss: 0.7403\n",
      "Epoch [19/70], Val Loss: 0.5389\n"
     ]
    },
    {
     "name": "stderr",
     "output_type": "stream",
     "text": [
      "train | loss: 0.7274: 100%|██████████| 7/7 [00:00<00:00, 184.66it/s]\n"
     ]
    },
    {
     "name": "stdout",
     "output_type": "stream",
     "text": [
      "Epoch [20/70], Train Loss: 0.7358\n",
      "Epoch [20/70], Val Loss: 0.5370\n"
     ]
    },
    {
     "name": "stderr",
     "output_type": "stream",
     "text": [
      "train | loss: 0.6992: 100%|██████████| 7/7 [00:00<00:00, 173.70it/s]"
     ]
    },
    {
     "name": "stdout",
     "output_type": "stream",
     "text": [
      "Epoch [21/70], Train Loss: 0.7144\n"
     ]
    },
    {
     "name": "stderr",
     "output_type": "stream",
     "text": [
      "\n"
     ]
    },
    {
     "name": "stdout",
     "output_type": "stream",
     "text": [
      "Epoch [21/70], Val Loss: 0.5321\n"
     ]
    },
    {
     "name": "stderr",
     "output_type": "stream",
     "text": [
      "train | loss: 0.6864: 100%|██████████| 7/7 [00:00<00:00, 200.53it/s]\n"
     ]
    },
    {
     "name": "stdout",
     "output_type": "stream",
     "text": [
      "Epoch [22/70], Train Loss: 0.6937\n",
      "Epoch [22/70], Val Loss: 0.5294\n"
     ]
    },
    {
     "name": "stderr",
     "output_type": "stream",
     "text": [
      "train | loss: 0.7301: 100%|██████████| 7/7 [00:00<00:00, 194.98it/s]\n"
     ]
    },
    {
     "name": "stdout",
     "output_type": "stream",
     "text": [
      "Epoch [23/70], Train Loss: 0.7108\n",
      "Epoch [23/70], Val Loss: 0.5262\n"
     ]
    },
    {
     "name": "stderr",
     "output_type": "stream",
     "text": [
      "train | loss: 0.6717: 100%|██████████| 7/7 [00:00<00:00, 182.52it/s]\n"
     ]
    },
    {
     "name": "stdout",
     "output_type": "stream",
     "text": [
      "Epoch [24/70], Train Loss: 0.7064\n",
      "Epoch [24/70], Val Loss: 0.5239\n"
     ]
    },
    {
     "name": "stderr",
     "output_type": "stream",
     "text": [
      "train | loss: 0.6998: 100%|██████████| 7/7 [00:00<00:00, 175.18it/s]\n"
     ]
    },
    {
     "name": "stdout",
     "output_type": "stream",
     "text": [
      "Epoch [25/70], Train Loss: 0.6916\n",
      "Epoch [25/70], Val Loss: 0.5216\n"
     ]
    },
    {
     "name": "stderr",
     "output_type": "stream",
     "text": [
      "train | loss: 0.7172: 100%|██████████| 7/7 [00:00<00:00, 206.50it/s]\n"
     ]
    },
    {
     "name": "stdout",
     "output_type": "stream",
     "text": [
      "Epoch [26/70], Train Loss: 0.6726\n",
      "Epoch [26/70], Val Loss: 0.5178\n"
     ]
    },
    {
     "name": "stderr",
     "output_type": "stream",
     "text": [
      "train | loss: 0.6821: 100%|██████████| 7/7 [00:00<00:00, 193.15it/s]\n"
     ]
    },
    {
     "name": "stdout",
     "output_type": "stream",
     "text": [
      "Epoch [27/70], Train Loss: 0.6618\n",
      "Epoch [27/70], Val Loss: 0.5158\n"
     ]
    },
    {
     "name": "stderr",
     "output_type": "stream",
     "text": [
      "train | loss: 0.6437: 100%|██████████| 7/7 [00:00<00:00, 199.17it/s]\n"
     ]
    },
    {
     "name": "stdout",
     "output_type": "stream",
     "text": [
      "Epoch [28/70], Train Loss: 0.6716\n",
      "Epoch [28/70], Val Loss: 0.5137\n"
     ]
    },
    {
     "name": "stderr",
     "output_type": "stream",
     "text": [
      "train | loss: 0.6630: 100%|██████████| 7/7 [00:00<00:00, 186.51it/s]\n"
     ]
    },
    {
     "name": "stdout",
     "output_type": "stream",
     "text": [
      "Epoch [29/70], Train Loss: 0.6678\n",
      "Epoch [29/70], Val Loss: 0.5131\n"
     ]
    },
    {
     "name": "stderr",
     "output_type": "stream",
     "text": [
      "train | loss: 0.6345: 100%|██████████| 7/7 [00:00<00:00, 186.95it/s]\n"
     ]
    },
    {
     "name": "stdout",
     "output_type": "stream",
     "text": [
      "Epoch [30/70], Train Loss: 0.6658\n",
      "Epoch [30/70], Val Loss: 0.5106\n"
     ]
    },
    {
     "name": "stderr",
     "output_type": "stream",
     "text": [
      "train | loss: 0.6181: 100%|██████████| 7/7 [00:00<00:00, 43.57it/s]\n"
     ]
    },
    {
     "name": "stdout",
     "output_type": "stream",
     "text": [
      "Epoch [31/70], Train Loss: 0.6452\n",
      "Epoch [31/70], Val Loss: 0.5123\n"
     ]
    },
    {
     "name": "stderr",
     "output_type": "stream",
     "text": [
      "train | loss: 0.6836: 100%|██████████| 7/7 [00:00<00:00, 105.68it/s]\n"
     ]
    },
    {
     "name": "stdout",
     "output_type": "stream",
     "text": [
      "Epoch [32/70], Train Loss: 0.6416\n",
      "Epoch [32/70], Val Loss: 0.5060\n"
     ]
    },
    {
     "name": "stderr",
     "output_type": "stream",
     "text": [
      "train | loss: 0.6445: 100%|██████████| 7/7 [00:00<00:00, 166.23it/s]\n"
     ]
    },
    {
     "name": "stdout",
     "output_type": "stream",
     "text": [
      "Epoch [33/70], Train Loss: 0.6374\n",
      "Epoch [33/70], Val Loss: 0.5041\n"
     ]
    },
    {
     "name": "stderr",
     "output_type": "stream",
     "text": [
      "train | loss: 0.6524: 100%|██████████| 7/7 [00:00<00:00, 195.68it/s]\n"
     ]
    },
    {
     "name": "stdout",
     "output_type": "stream",
     "text": [
      "Epoch [34/70], Train Loss: 0.6332\n",
      "Epoch [34/70], Val Loss: 0.5025\n"
     ]
    },
    {
     "name": "stderr",
     "output_type": "stream",
     "text": [
      "train | loss: 0.6234: 100%|██████████| 7/7 [00:00<00:00, 190.41it/s]\n"
     ]
    },
    {
     "name": "stdout",
     "output_type": "stream",
     "text": [
      "Epoch [35/70], Train Loss: 0.6251\n",
      "Epoch [35/70], Val Loss: 0.5008\n"
     ]
    },
    {
     "name": "stderr",
     "output_type": "stream",
     "text": [
      "train | loss: 0.6036: 100%|██████████| 7/7 [00:00<00:00, 217.53it/s]\n"
     ]
    },
    {
     "name": "stdout",
     "output_type": "stream",
     "text": [
      "Epoch [36/70], Train Loss: 0.6140\n",
      "Epoch [36/70], Val Loss: 0.4988\n"
     ]
    },
    {
     "name": "stderr",
     "output_type": "stream",
     "text": [
      "train | loss: 0.5485: 100%|██████████| 7/7 [00:00<00:00, 202.96it/s]\n"
     ]
    },
    {
     "name": "stdout",
     "output_type": "stream",
     "text": [
      "Epoch [37/70], Train Loss: 0.6255\n",
      "Epoch [37/70], Val Loss: 0.4968\n"
     ]
    },
    {
     "name": "stderr",
     "output_type": "stream",
     "text": [
      "train | loss: 0.6671: 100%|██████████| 7/7 [00:00<00:00, 206.01it/s]"
     ]
    },
    {
     "name": "stdout",
     "output_type": "stream",
     "text": [
      "Epoch [38/70], Train Loss: 0.6247\n"
     ]
    },
    {
     "name": "stderr",
     "output_type": "stream",
     "text": [
      "\n"
     ]
    },
    {
     "name": "stdout",
     "output_type": "stream",
     "text": [
      "Epoch [38/70], Val Loss: 0.4959\n"
     ]
    },
    {
     "name": "stderr",
     "output_type": "stream",
     "text": [
      "train | loss: 0.5575: 100%|██████████| 7/7 [00:00<00:00, 187.24it/s]\n"
     ]
    },
    {
     "name": "stdout",
     "output_type": "stream",
     "text": [
      "Epoch [39/70], Train Loss: 0.6032\n",
      "Epoch [39/70], Val Loss: 0.4953\n"
     ]
    },
    {
     "name": "stderr",
     "output_type": "stream",
     "text": [
      "train | loss: 0.6089: 100%|██████████| 7/7 [00:00<00:00, 184.30it/s]\n"
     ]
    },
    {
     "name": "stdout",
     "output_type": "stream",
     "text": [
      "Epoch [40/70], Train Loss: 0.6210\n",
      "Epoch [40/70], Val Loss: 0.4921\n"
     ]
    },
    {
     "name": "stderr",
     "output_type": "stream",
     "text": [
      "train | loss: 0.5507: 100%|██████████| 7/7 [00:00<00:00, 182.43it/s]\n"
     ]
    },
    {
     "name": "stdout",
     "output_type": "stream",
     "text": [
      "Epoch [41/70], Train Loss: 0.5904\n",
      "Epoch [41/70], Val Loss: 0.4911\n"
     ]
    },
    {
     "name": "stderr",
     "output_type": "stream",
     "text": [
      "train | loss: 0.5578: 100%|██████████| 7/7 [00:00<00:00, 187.20it/s]\n"
     ]
    },
    {
     "name": "stdout",
     "output_type": "stream",
     "text": [
      "Epoch [42/70], Train Loss: 0.5944\n",
      "Epoch [42/70], Val Loss: 0.4905\n"
     ]
    },
    {
     "name": "stderr",
     "output_type": "stream",
     "text": [
      "train | loss: 0.5720: 100%|██████████| 7/7 [00:00<00:00, 203.83it/s]\n"
     ]
    },
    {
     "name": "stdout",
     "output_type": "stream",
     "text": [
      "Epoch [43/70], Train Loss: 0.5981\n",
      "Epoch [43/70], Val Loss: 0.4887\n"
     ]
    },
    {
     "name": "stderr",
     "output_type": "stream",
     "text": [
      "train | loss: 0.6104: 100%|██████████| 7/7 [00:00<00:00, 203.97it/s]\n"
     ]
    },
    {
     "name": "stdout",
     "output_type": "stream",
     "text": [
      "Epoch [44/70], Train Loss: 0.5795\n",
      "Epoch [44/70], Val Loss: 0.4872\n"
     ]
    },
    {
     "name": "stderr",
     "output_type": "stream",
     "text": [
      "train | loss: 0.5325: 100%|██████████| 7/7 [00:00<00:00, 189.02it/s]\n"
     ]
    },
    {
     "name": "stdout",
     "output_type": "stream",
     "text": [
      "Epoch [45/70], Train Loss: 0.5785\n",
      "Epoch [45/70], Val Loss: 0.4864\n"
     ]
    },
    {
     "name": "stderr",
     "output_type": "stream",
     "text": [
      "train | loss: 0.5956: 100%|██████████| 7/7 [00:00<00:00, 190.13it/s]\n"
     ]
    },
    {
     "name": "stdout",
     "output_type": "stream",
     "text": [
      "Epoch [46/70], Train Loss: 0.5841\n",
      "Epoch [46/70], Val Loss: 0.4839\n"
     ]
    },
    {
     "name": "stderr",
     "output_type": "stream",
     "text": [
      "train | loss: 0.5682: 100%|██████████| 7/7 [00:00<00:00, 210.56it/s]\n"
     ]
    },
    {
     "name": "stdout",
     "output_type": "stream",
     "text": [
      "Epoch [47/70], Train Loss: 0.5874\n",
      "Epoch [47/70], Val Loss: 0.4821\n"
     ]
    },
    {
     "name": "stderr",
     "output_type": "stream",
     "text": [
      "train | loss: 0.4964: 100%|██████████| 7/7 [00:00<00:00, 176.46it/s]\n"
     ]
    },
    {
     "name": "stdout",
     "output_type": "stream",
     "text": [
      "Epoch [48/70], Train Loss: 0.5773\n",
      "Epoch [48/70], Val Loss: 0.4814\n"
     ]
    },
    {
     "name": "stderr",
     "output_type": "stream",
     "text": [
      "train | loss: 0.6286: 100%|██████████| 7/7 [00:00<00:00, 200.45it/s]\n"
     ]
    },
    {
     "name": "stdout",
     "output_type": "stream",
     "text": [
      "Epoch [49/70], Train Loss: 0.5834\n",
      "Epoch [49/70], Val Loss: 0.4802\n"
     ]
    },
    {
     "name": "stderr",
     "output_type": "stream",
     "text": [
      "train | loss: 0.6368: 100%|██████████| 7/7 [00:00<00:00, 202.45it/s]\n"
     ]
    },
    {
     "name": "stdout",
     "output_type": "stream",
     "text": [
      "Epoch [50/70], Train Loss: 0.5726\n",
      "Epoch [50/70], Val Loss: 0.4797\n"
     ]
    },
    {
     "name": "stderr",
     "output_type": "stream",
     "text": [
      "train | loss: 0.6232: 100%|██████████| 7/7 [00:00<00:00, 211.36it/s]"
     ]
    },
    {
     "name": "stdout",
     "output_type": "stream",
     "text": [
      "Epoch [51/70], Train Loss: 0.5728\n"
     ]
    },
    {
     "name": "stderr",
     "output_type": "stream",
     "text": [
      "\n"
     ]
    },
    {
     "name": "stdout",
     "output_type": "stream",
     "text": [
      "Epoch [51/70], Val Loss: 0.4789\n"
     ]
    },
    {
     "name": "stderr",
     "output_type": "stream",
     "text": [
      "train | loss: 0.5477: 100%|██████████| 7/7 [00:00<00:00, 181.50it/s]\n"
     ]
    },
    {
     "name": "stdout",
     "output_type": "stream",
     "text": [
      "Epoch [52/70], Train Loss: 0.5612\n",
      "Epoch [52/70], Val Loss: 0.4776\n"
     ]
    },
    {
     "name": "stderr",
     "output_type": "stream",
     "text": [
      "train | loss: 0.5791: 100%|██████████| 7/7 [00:00<00:00, 170.69it/s]\n"
     ]
    },
    {
     "name": "stdout",
     "output_type": "stream",
     "text": [
      "Epoch [53/70], Train Loss: 0.5625\n",
      "Epoch [53/70], Val Loss: 0.4758\n"
     ]
    },
    {
     "name": "stderr",
     "output_type": "stream",
     "text": [
      "train | loss: 0.6139: 100%|██████████| 7/7 [00:00<00:00, 174.44it/s]\n"
     ]
    },
    {
     "name": "stdout",
     "output_type": "stream",
     "text": [
      "Epoch [54/70], Train Loss: 0.5552\n",
      "Epoch [54/70], Val Loss: 0.4762\n"
     ]
    },
    {
     "name": "stderr",
     "output_type": "stream",
     "text": [
      "train | loss: 0.5672: 100%|██████████| 7/7 [00:00<00:00, 218.25it/s]\n"
     ]
    },
    {
     "name": "stdout",
     "output_type": "stream",
     "text": [
      "Epoch [55/70], Train Loss: 0.5528\n",
      "Epoch [55/70], Val Loss: 0.4733\n"
     ]
    },
    {
     "name": "stderr",
     "output_type": "stream",
     "text": [
      "train | loss: 0.4824: 100%|██████████| 7/7 [00:00<00:00, 183.26it/s]\n"
     ]
    },
    {
     "name": "stdout",
     "output_type": "stream",
     "text": [
      "Epoch [56/70], Train Loss: 0.5575\n",
      "Epoch [56/70], Val Loss: 0.4723\n"
     ]
    },
    {
     "name": "stderr",
     "output_type": "stream",
     "text": [
      "train | loss: 0.5804: 100%|██████████| 7/7 [00:00<00:00, 207.43it/s]"
     ]
    },
    {
     "name": "stdout",
     "output_type": "stream",
     "text": [
      "Epoch [57/70], Train Loss: 0.5691\n"
     ]
    },
    {
     "name": "stderr",
     "output_type": "stream",
     "text": [
      "\n"
     ]
    },
    {
     "name": "stdout",
     "output_type": "stream",
     "text": [
      "Epoch [57/70], Val Loss: 0.4729\n"
     ]
    },
    {
     "name": "stderr",
     "output_type": "stream",
     "text": [
      "train | loss: 0.5974: 100%|██████████| 7/7 [00:00<00:00, 177.57it/s]"
     ]
    },
    {
     "name": "stdout",
     "output_type": "stream",
     "text": [
      "Epoch [58/70], Train Loss: 0.5552\n"
     ]
    },
    {
     "name": "stderr",
     "output_type": "stream",
     "text": [
      "\n"
     ]
    },
    {
     "name": "stdout",
     "output_type": "stream",
     "text": [
      "Epoch [58/70], Val Loss: 0.4708\n"
     ]
    },
    {
     "name": "stderr",
     "output_type": "stream",
     "text": [
      "train | loss: 0.5848: 100%|██████████| 7/7 [00:00<00:00, 156.51it/s]\n"
     ]
    },
    {
     "name": "stdout",
     "output_type": "stream",
     "text": [
      "Epoch [59/70], Train Loss: 0.5512\n",
      "Epoch [59/70], Val Loss: 0.4698\n"
     ]
    },
    {
     "name": "stderr",
     "output_type": "stream",
     "text": [
      "train | loss: 0.5267: 100%|██████████| 7/7 [00:00<00:00, 178.62it/s]\n"
     ]
    },
    {
     "name": "stdout",
     "output_type": "stream",
     "text": [
      "Epoch [60/70], Train Loss: 0.5544\n",
      "Epoch [60/70], Val Loss: 0.4687\n"
     ]
    },
    {
     "name": "stderr",
     "output_type": "stream",
     "text": [
      "train | loss: 0.5224: 100%|██████████| 7/7 [00:00<00:00, 180.51it/s]\n"
     ]
    },
    {
     "name": "stdout",
     "output_type": "stream",
     "text": [
      "Epoch [61/70], Train Loss: 0.5624\n",
      "Epoch [61/70], Val Loss: 0.4683\n"
     ]
    },
    {
     "name": "stderr",
     "output_type": "stream",
     "text": [
      "train | loss: 0.5805: 100%|██████████| 7/7 [00:00<00:00, 169.87it/s]\n"
     ]
    },
    {
     "name": "stdout",
     "output_type": "stream",
     "text": [
      "Epoch [62/70], Train Loss: 0.5612\n",
      "Epoch [62/70], Val Loss: 0.4685\n"
     ]
    },
    {
     "name": "stderr",
     "output_type": "stream",
     "text": [
      "train | loss: 0.4947: 100%|██████████| 7/7 [00:00<00:00, 187.15it/s]\n"
     ]
    },
    {
     "name": "stdout",
     "output_type": "stream",
     "text": [
      "Epoch [63/70], Train Loss: 0.5488\n",
      "Epoch [63/70], Val Loss: 0.4664\n"
     ]
    },
    {
     "name": "stderr",
     "output_type": "stream",
     "text": [
      "train | loss: 0.5151: 100%|██████████| 7/7 [00:00<00:00, 185.94it/s]\n"
     ]
    },
    {
     "name": "stdout",
     "output_type": "stream",
     "text": [
      "Epoch [64/70], Train Loss: 0.5379\n",
      "Epoch [64/70], Val Loss: 0.4654\n"
     ]
    },
    {
     "name": "stderr",
     "output_type": "stream",
     "text": [
      "train | loss: 0.5818: 100%|██████████| 7/7 [00:00<00:00, 176.71it/s]\n"
     ]
    },
    {
     "name": "stdout",
     "output_type": "stream",
     "text": [
      "Epoch [65/70], Train Loss: 0.5274\n",
      "Epoch [65/70], Val Loss: 0.4645\n"
     ]
    },
    {
     "name": "stderr",
     "output_type": "stream",
     "text": [
      "train | loss: 0.4782: 100%|██████████| 7/7 [00:00<00:00, 184.74it/s]\n"
     ]
    },
    {
     "name": "stdout",
     "output_type": "stream",
     "text": [
      "Epoch [66/70], Train Loss: 0.5574\n",
      "Epoch [66/70], Val Loss: 0.4631\n"
     ]
    },
    {
     "name": "stderr",
     "output_type": "stream",
     "text": [
      "train | loss: 0.5105: 100%|██████████| 7/7 [00:00<00:00, 179.48it/s]\n"
     ]
    },
    {
     "name": "stdout",
     "output_type": "stream",
     "text": [
      "Epoch [67/70], Train Loss: 0.5377\n",
      "Epoch [67/70], Val Loss: 0.4640\n"
     ]
    },
    {
     "name": "stderr",
     "output_type": "stream",
     "text": [
      "train | loss: 0.5466: 100%|██████████| 7/7 [00:00<00:00, 211.74it/s]\n"
     ]
    },
    {
     "name": "stdout",
     "output_type": "stream",
     "text": [
      "Epoch [68/70], Train Loss: 0.5394\n",
      "Epoch [68/70], Val Loss: 0.4625\n"
     ]
    },
    {
     "name": "stderr",
     "output_type": "stream",
     "text": [
      "train | loss: 0.5589: 100%|██████████| 7/7 [00:00<00:00, 170.77it/s]\n"
     ]
    },
    {
     "name": "stdout",
     "output_type": "stream",
     "text": [
      "Epoch [69/70], Train Loss: 0.5607\n",
      "Epoch [69/70], Val Loss: 0.4621\n"
     ]
    },
    {
     "name": "stderr",
     "output_type": "stream",
     "text": [
      "train | loss: 0.4817: 100%|██████████| 7/7 [00:00<00:00, 188.73it/s]\n"
     ]
    },
    {
     "name": "stdout",
     "output_type": "stream",
     "text": [
      "Epoch [70/70], Train Loss: 0.5435\n",
      "Epoch [70/70], Val Loss: 0.4639\n",
      "big loop: 3\n"
     ]
    },
    {
     "name": "stderr",
     "output_type": "stream",
     "text": [
      "train | loss: 4.6990: 100%|██████████| 7/7 [00:00<00:00, 188.27it/s]\n"
     ]
    },
    {
     "name": "stdout",
     "output_type": "stream",
     "text": [
      "Epoch [1/70], Train Loss: 2.8492\n",
      "Epoch [1/70], Val Loss: 1.3176\n"
     ]
    },
    {
     "name": "stderr",
     "output_type": "stream",
     "text": [
      "train | loss: 1.7077: 100%|██████████| 7/7 [00:00<00:00, 156.06it/s]\n"
     ]
    },
    {
     "name": "stdout",
     "output_type": "stream",
     "text": [
      "Epoch [2/70], Train Loss: 1.5113\n",
      "Epoch [2/70], Val Loss: 0.9907\n"
     ]
    },
    {
     "name": "stderr",
     "output_type": "stream",
     "text": [
      "train | loss: 1.3137: 100%|██████████| 7/7 [00:00<00:00, 85.57it/s]\n"
     ]
    },
    {
     "name": "stdout",
     "output_type": "stream",
     "text": [
      "Epoch [3/70], Train Loss: 1.2754\n",
      "Epoch [3/70], Val Loss: 0.8485\n"
     ]
    },
    {
     "name": "stderr",
     "output_type": "stream",
     "text": [
      "train | loss: 1.1960: 100%|██████████| 7/7 [00:00<00:00, 95.27it/s]\n"
     ]
    },
    {
     "name": "stdout",
     "output_type": "stream",
     "text": [
      "Epoch [4/70], Train Loss: 1.1606\n",
      "Epoch [4/70], Val Loss: 0.7882\n"
     ]
    },
    {
     "name": "stderr",
     "output_type": "stream",
     "text": [
      "train | loss: 1.1112: 100%|██████████| 7/7 [00:00<00:00, 117.66it/s]\n"
     ]
    },
    {
     "name": "stdout",
     "output_type": "stream",
     "text": [
      "Epoch [5/70], Train Loss: 1.0898\n",
      "Epoch [5/70], Val Loss: 0.7440\n"
     ]
    },
    {
     "name": "stderr",
     "output_type": "stream",
     "text": [
      "train | loss: 1.1438: 100%|██████████| 7/7 [00:00<00:00, 214.47it/s]\n"
     ]
    },
    {
     "name": "stdout",
     "output_type": "stream",
     "text": [
      "Epoch [6/70], Train Loss: 1.0684\n",
      "Epoch [6/70], Val Loss: 0.7134\n"
     ]
    },
    {
     "name": "stderr",
     "output_type": "stream",
     "text": [
      "train | loss: 1.0537: 100%|██████████| 7/7 [00:00<00:00, 190.15it/s]\n"
     ]
    },
    {
     "name": "stdout",
     "output_type": "stream",
     "text": [
      "Epoch [7/70], Train Loss: 1.0123\n",
      "Epoch [7/70], Val Loss: 0.6960\n"
     ]
    },
    {
     "name": "stderr",
     "output_type": "stream",
     "text": [
      "train | loss: 0.9634: 100%|██████████| 7/7 [00:00<00:00, 206.97it/s]\n"
     ]
    },
    {
     "name": "stdout",
     "output_type": "stream",
     "text": [
      "Epoch [8/70], Train Loss: 0.9994\n",
      "Epoch [8/70], Val Loss: 0.6824\n"
     ]
    },
    {
     "name": "stderr",
     "output_type": "stream",
     "text": [
      "train | loss: 0.9014: 100%|██████████| 7/7 [00:00<00:00, 199.36it/s]\n"
     ]
    },
    {
     "name": "stdout",
     "output_type": "stream",
     "text": [
      "Epoch [9/70], Train Loss: 0.9695\n",
      "Epoch [9/70], Val Loss: 0.6732\n"
     ]
    },
    {
     "name": "stderr",
     "output_type": "stream",
     "text": [
      "train | loss: 1.0105: 100%|██████████| 7/7 [00:00<00:00, 191.08it/s]\n"
     ]
    },
    {
     "name": "stdout",
     "output_type": "stream",
     "text": [
      "Epoch [10/70], Train Loss: 0.9323\n",
      "Epoch [10/70], Val Loss: 0.6626\n"
     ]
    },
    {
     "name": "stderr",
     "output_type": "stream",
     "text": [
      "train | loss: 0.9526: 100%|██████████| 7/7 [00:00<00:00, 153.55it/s]\n"
     ]
    },
    {
     "name": "stdout",
     "output_type": "stream",
     "text": [
      "Epoch [11/70], Train Loss: 0.9336\n",
      "Epoch [11/70], Val Loss: 0.6577\n"
     ]
    },
    {
     "name": "stderr",
     "output_type": "stream",
     "text": [
      "train | loss: 0.8807: 100%|██████████| 7/7 [00:00<00:00, 210.03it/s]\n"
     ]
    },
    {
     "name": "stdout",
     "output_type": "stream",
     "text": [
      "Epoch [12/70], Train Loss: 0.9278\n",
      "Epoch [12/70], Val Loss: 0.6502\n"
     ]
    },
    {
     "name": "stderr",
     "output_type": "stream",
     "text": [
      "train | loss: 0.9026: 100%|██████████| 7/7 [00:00<00:00, 222.13it/s]\n"
     ]
    },
    {
     "name": "stdout",
     "output_type": "stream",
     "text": [
      "Epoch [13/70], Train Loss: 0.9131\n",
      "Epoch [13/70], Val Loss: 0.6436\n"
     ]
    },
    {
     "name": "stderr",
     "output_type": "stream",
     "text": [
      "train | loss: 0.8709: 100%|██████████| 7/7 [00:00<00:00, 215.71it/s]\n"
     ]
    },
    {
     "name": "stdout",
     "output_type": "stream",
     "text": [
      "Epoch [14/70], Train Loss: 0.8708\n",
      "Epoch [14/70], Val Loss: 0.6377\n"
     ]
    },
    {
     "name": "stderr",
     "output_type": "stream",
     "text": [
      "train | loss: 0.9221: 100%|██████████| 7/7 [00:00<00:00, 211.67it/s]\n"
     ]
    },
    {
     "name": "stdout",
     "output_type": "stream",
     "text": [
      "Epoch [15/70], Train Loss: 0.8700\n",
      "Epoch [15/70], Val Loss: 0.6322\n"
     ]
    },
    {
     "name": "stderr",
     "output_type": "stream",
     "text": [
      "train | loss: 0.9796: 100%|██████████| 7/7 [00:00<00:00, 219.79it/s]\n"
     ]
    },
    {
     "name": "stdout",
     "output_type": "stream",
     "text": [
      "Epoch [16/70], Train Loss: 0.8586\n",
      "Epoch [16/70], Val Loss: 0.6266\n"
     ]
    },
    {
     "name": "stderr",
     "output_type": "stream",
     "text": [
      "train | loss: 0.8703: 100%|██████████| 7/7 [00:00<00:00, 170.96it/s]\n"
     ]
    },
    {
     "name": "stdout",
     "output_type": "stream",
     "text": [
      "Epoch [17/70], Train Loss: 0.8387\n",
      "Epoch [17/70], Val Loss: 0.6226\n"
     ]
    },
    {
     "name": "stderr",
     "output_type": "stream",
     "text": [
      "train | loss: 0.7776: 100%|██████████| 7/7 [00:00<00:00, 233.06it/s]\n"
     ]
    },
    {
     "name": "stdout",
     "output_type": "stream",
     "text": [
      "Epoch [18/70], Train Loss: 0.8393\n",
      "Epoch [18/70], Val Loss: 0.6186\n"
     ]
    },
    {
     "name": "stderr",
     "output_type": "stream",
     "text": [
      "train | loss: 0.7732: 100%|██████████| 7/7 [00:00<00:00, 237.59it/s]\n"
     ]
    },
    {
     "name": "stdout",
     "output_type": "stream",
     "text": [
      "Epoch [19/70], Train Loss: 0.8583\n",
      "Epoch [19/70], Val Loss: 0.6153\n"
     ]
    },
    {
     "name": "stderr",
     "output_type": "stream",
     "text": [
      "train | loss: 0.8454: 100%|██████████| 7/7 [00:00<00:00, 246.93it/s]\n"
     ]
    },
    {
     "name": "stdout",
     "output_type": "stream",
     "text": [
      "Epoch [20/70], Train Loss: 0.8226\n",
      "Epoch [20/70], Val Loss: 0.6105\n"
     ]
    },
    {
     "name": "stderr",
     "output_type": "stream",
     "text": [
      "train | loss: 0.7806: 100%|██████████| 7/7 [00:00<00:00, 242.52it/s]\n"
     ]
    },
    {
     "name": "stdout",
     "output_type": "stream",
     "text": [
      "Epoch [21/70], Train Loss: 0.8042\n",
      "Epoch [21/70], Val Loss: 0.6066\n"
     ]
    },
    {
     "name": "stderr",
     "output_type": "stream",
     "text": [
      "train | loss: 0.8139: 100%|██████████| 7/7 [00:00<00:00, 220.51it/s]"
     ]
    },
    {
     "name": "stdout",
     "output_type": "stream",
     "text": [
      "Epoch [22/70], Train Loss: 0.8161\n"
     ]
    },
    {
     "name": "stderr",
     "output_type": "stream",
     "text": [
      "\n"
     ]
    },
    {
     "name": "stdout",
     "output_type": "stream",
     "text": [
      "Epoch [22/70], Val Loss: 0.6045\n"
     ]
    },
    {
     "name": "stderr",
     "output_type": "stream",
     "text": [
      "train | loss: 0.8530: 100%|██████████| 7/7 [00:00<00:00, 222.88it/s]\n"
     ]
    },
    {
     "name": "stdout",
     "output_type": "stream",
     "text": [
      "Epoch [23/70], Train Loss: 0.7868\n",
      "Epoch [23/70], Val Loss: 0.6010\n"
     ]
    },
    {
     "name": "stderr",
     "output_type": "stream",
     "text": [
      "train | loss: 0.8289: 100%|██████████| 7/7 [00:00<00:00, 236.22it/s]\n"
     ]
    },
    {
     "name": "stdout",
     "output_type": "stream",
     "text": [
      "Epoch [24/70], Train Loss: 0.7761\n",
      "Epoch [24/70], Val Loss: 0.6000\n"
     ]
    },
    {
     "name": "stderr",
     "output_type": "stream",
     "text": [
      "train | loss: 0.6920: 100%|██████████| 7/7 [00:00<00:00, 224.03it/s]\n"
     ]
    },
    {
     "name": "stdout",
     "output_type": "stream",
     "text": [
      "Epoch [25/70], Train Loss: 0.7711\n",
      "Epoch [25/70], Val Loss: 0.5958\n"
     ]
    },
    {
     "name": "stderr",
     "output_type": "stream",
     "text": [
      "train | loss: 0.7318: 100%|██████████| 7/7 [00:00<00:00, 239.89it/s]\n"
     ]
    },
    {
     "name": "stdout",
     "output_type": "stream",
     "text": [
      "Epoch [26/70], Train Loss: 0.7829\n",
      "Epoch [26/70], Val Loss: 0.5930\n"
     ]
    },
    {
     "name": "stderr",
     "output_type": "stream",
     "text": [
      "train | loss: 0.7683: 100%|██████████| 7/7 [00:00<00:00, 237.29it/s]"
     ]
    },
    {
     "name": "stdout",
     "output_type": "stream",
     "text": [
      "Epoch [27/70], Train Loss: 0.7546\n"
     ]
    },
    {
     "name": "stderr",
     "output_type": "stream",
     "text": [
      "\n"
     ]
    },
    {
     "name": "stdout",
     "output_type": "stream",
     "text": [
      "Epoch [27/70], Val Loss: 0.5898\n"
     ]
    },
    {
     "name": "stderr",
     "output_type": "stream",
     "text": [
      "train | loss: 0.7408: 100%|██████████| 7/7 [00:00<00:00, 244.62it/s]\n"
     ]
    },
    {
     "name": "stdout",
     "output_type": "stream",
     "text": [
      "Epoch [28/70], Train Loss: 0.7734\n",
      "Epoch [28/70], Val Loss: 0.5862\n"
     ]
    },
    {
     "name": "stderr",
     "output_type": "stream",
     "text": [
      "train | loss: 0.7810: 100%|██████████| 7/7 [00:00<00:00, 247.69it/s]\n"
     ]
    },
    {
     "name": "stdout",
     "output_type": "stream",
     "text": [
      "Epoch [29/70], Train Loss: 0.7434\n",
      "Epoch [29/70], Val Loss: 0.5848\n"
     ]
    },
    {
     "name": "stderr",
     "output_type": "stream",
     "text": [
      "train | loss: 0.7772: 100%|██████████| 7/7 [00:00<00:00, 244.26it/s]\n"
     ]
    },
    {
     "name": "stdout",
     "output_type": "stream",
     "text": [
      "Epoch [30/70], Train Loss: 0.7349\n",
      "Epoch [30/70], Val Loss: 0.5825\n"
     ]
    },
    {
     "name": "stderr",
     "output_type": "stream",
     "text": [
      "train | loss: 0.7165: 100%|██████████| 7/7 [00:00<00:00, 251.64it/s]\n"
     ]
    },
    {
     "name": "stdout",
     "output_type": "stream",
     "text": [
      "Epoch [31/70], Train Loss: 0.7259\n",
      "Epoch [31/70], Val Loss: 0.5793\n"
     ]
    },
    {
     "name": "stderr",
     "output_type": "stream",
     "text": [
      "train | loss: 0.7308: 100%|██████████| 7/7 [00:00<00:00, 246.43it/s]\n"
     ]
    },
    {
     "name": "stdout",
     "output_type": "stream",
     "text": [
      "Epoch [32/70], Train Loss: 0.7095\n",
      "Epoch [32/70], Val Loss: 0.5770\n"
     ]
    },
    {
     "name": "stderr",
     "output_type": "stream",
     "text": [
      "train | loss: 0.7102: 100%|██████████| 7/7 [00:00<00:00, 236.91it/s]\n"
     ]
    },
    {
     "name": "stdout",
     "output_type": "stream",
     "text": [
      "Epoch [33/70], Train Loss: 0.7110\n",
      "Epoch [33/70], Val Loss: 0.5746\n"
     ]
    },
    {
     "name": "stderr",
     "output_type": "stream",
     "text": [
      "train | loss: 0.6541: 100%|██████████| 7/7 [00:00<00:00, 202.00it/s]\n"
     ]
    },
    {
     "name": "stdout",
     "output_type": "stream",
     "text": [
      "Epoch [34/70], Train Loss: 0.6922\n",
      "Epoch [34/70], Val Loss: 0.5741\n"
     ]
    },
    {
     "name": "stderr",
     "output_type": "stream",
     "text": [
      "train | loss: 0.6791: 100%|██████████| 7/7 [00:00<00:00, 214.34it/s]\n"
     ]
    },
    {
     "name": "stdout",
     "output_type": "stream",
     "text": [
      "Epoch [35/70], Train Loss: 0.7393\n",
      "Epoch [35/70], Val Loss: 0.5711\n"
     ]
    },
    {
     "name": "stderr",
     "output_type": "stream",
     "text": [
      "train | loss: 0.6972: 100%|██████████| 7/7 [00:00<00:00, 244.71it/s]\n"
     ]
    },
    {
     "name": "stdout",
     "output_type": "stream",
     "text": [
      "Epoch [36/70], Train Loss: 0.6935\n",
      "Epoch [36/70], Val Loss: 0.5702\n"
     ]
    },
    {
     "name": "stderr",
     "output_type": "stream",
     "text": [
      "train | loss: 0.6488: 100%|██████████| 7/7 [00:00<00:00, 134.77it/s]\n"
     ]
    },
    {
     "name": "stdout",
     "output_type": "stream",
     "text": [
      "Epoch [37/70], Train Loss: 0.6912\n",
      "Epoch [37/70], Val Loss: 0.5686\n"
     ]
    },
    {
     "name": "stderr",
     "output_type": "stream",
     "text": [
      "train | loss: 0.6314: 100%|██████████| 7/7 [00:00<00:00, 118.59it/s]\n"
     ]
    },
    {
     "name": "stdout",
     "output_type": "stream",
     "text": [
      "Epoch [38/70], Train Loss: 0.6891\n",
      "Epoch [38/70], Val Loss: 0.5663\n"
     ]
    },
    {
     "name": "stderr",
     "output_type": "stream",
     "text": [
      "train | loss: 0.6437: 100%|██████████| 7/7 [00:00<00:00, 122.37it/s]\n"
     ]
    },
    {
     "name": "stdout",
     "output_type": "stream",
     "text": [
      "Epoch [39/70], Train Loss: 0.6888\n",
      "Epoch [39/70], Val Loss: 0.5635\n"
     ]
    },
    {
     "name": "stderr",
     "output_type": "stream",
     "text": [
      "train | loss: 0.6305: 100%|██████████| 7/7 [00:00<00:00, 119.45it/s]\n"
     ]
    },
    {
     "name": "stdout",
     "output_type": "stream",
     "text": [
      "Epoch [40/70], Train Loss: 0.6863\n",
      "Epoch [40/70], Val Loss: 0.5613\n"
     ]
    },
    {
     "name": "stderr",
     "output_type": "stream",
     "text": [
      "train | loss: 0.6736: 100%|██████████| 7/7 [00:00<00:00, 203.58it/s]\n"
     ]
    },
    {
     "name": "stdout",
     "output_type": "stream",
     "text": [
      "Epoch [41/70], Train Loss: 0.6899\n",
      "Epoch [41/70], Val Loss: 0.5598\n"
     ]
    },
    {
     "name": "stderr",
     "output_type": "stream",
     "text": [
      "train | loss: 0.6385: 100%|██████████| 7/7 [00:00<00:00, 236.35it/s]\n"
     ]
    },
    {
     "name": "stdout",
     "output_type": "stream",
     "text": [
      "Epoch [42/70], Train Loss: 0.6825\n",
      "Epoch [42/70], Val Loss: 0.5587\n"
     ]
    },
    {
     "name": "stderr",
     "output_type": "stream",
     "text": [
      "train | loss: 0.7395: 100%|██████████| 7/7 [00:00<00:00, 239.72it/s]\n"
     ]
    },
    {
     "name": "stdout",
     "output_type": "stream",
     "text": [
      "Epoch [43/70], Train Loss: 0.6737\n",
      "Epoch [43/70], Val Loss: 0.5567\n"
     ]
    },
    {
     "name": "stderr",
     "output_type": "stream",
     "text": [
      "train | loss: 0.5957: 100%|██████████| 7/7 [00:00<00:00, 248.03it/s]\n"
     ]
    },
    {
     "name": "stdout",
     "output_type": "stream",
     "text": [
      "Epoch [44/70], Train Loss: 0.6538\n",
      "Epoch [44/70], Val Loss: 0.5554\n"
     ]
    },
    {
     "name": "stderr",
     "output_type": "stream",
     "text": [
      "train | loss: 0.6403: 100%|██████████| 7/7 [00:00<00:00, 218.66it/s]\n"
     ]
    },
    {
     "name": "stdout",
     "output_type": "stream",
     "text": [
      "Epoch [45/70], Train Loss: 0.6690\n",
      "Epoch [45/70], Val Loss: 0.5538\n"
     ]
    },
    {
     "name": "stderr",
     "output_type": "stream",
     "text": [
      "train | loss: 0.6236: 100%|██████████| 7/7 [00:00<00:00, 207.34it/s]\n"
     ]
    },
    {
     "name": "stdout",
     "output_type": "stream",
     "text": [
      "Epoch [46/70], Train Loss: 0.6758\n",
      "Epoch [46/70], Val Loss: 0.5525\n"
     ]
    },
    {
     "name": "stderr",
     "output_type": "stream",
     "text": [
      "train | loss: 0.5846: 100%|██████████| 7/7 [00:00<00:00, 217.98it/s]\n"
     ]
    },
    {
     "name": "stdout",
     "output_type": "stream",
     "text": [
      "Epoch [47/70], Train Loss: 0.6517\n",
      "Epoch [47/70], Val Loss: 0.5524\n"
     ]
    },
    {
     "name": "stderr",
     "output_type": "stream",
     "text": [
      "train | loss: 0.6395: 100%|██████████| 7/7 [00:00<00:00, 221.56it/s]\n"
     ]
    },
    {
     "name": "stdout",
     "output_type": "stream",
     "text": [
      "Epoch [48/70], Train Loss: 0.6725\n",
      "Epoch [48/70], Val Loss: 0.5501\n"
     ]
    },
    {
     "name": "stderr",
     "output_type": "stream",
     "text": [
      "train | loss: 0.6033: 100%|██████████| 7/7 [00:00<00:00, 167.49it/s]\n"
     ]
    },
    {
     "name": "stdout",
     "output_type": "stream",
     "text": [
      "Epoch [49/70], Train Loss: 0.6442\n",
      "Epoch [49/70], Val Loss: 0.5476\n"
     ]
    },
    {
     "name": "stderr",
     "output_type": "stream",
     "text": [
      "train | loss: 0.6683: 100%|██████████| 7/7 [00:00<00:00, 182.08it/s]\n"
     ]
    },
    {
     "name": "stdout",
     "output_type": "stream",
     "text": [
      "Epoch [50/70], Train Loss: 0.6559\n",
      "Epoch [50/70], Val Loss: 0.5463\n"
     ]
    },
    {
     "name": "stderr",
     "output_type": "stream",
     "text": [
      "train | loss: 0.5947: 100%|██████████| 7/7 [00:00<00:00, 226.59it/s]\n"
     ]
    },
    {
     "name": "stdout",
     "output_type": "stream",
     "text": [
      "Epoch [51/70], Train Loss: 0.6546\n",
      "Epoch [51/70], Val Loss: 0.5449\n"
     ]
    },
    {
     "name": "stderr",
     "output_type": "stream",
     "text": [
      "train | loss: 0.5427: 100%|██████████| 7/7 [00:00<00:00, 209.56it/s]\n"
     ]
    },
    {
     "name": "stdout",
     "output_type": "stream",
     "text": [
      "Epoch [52/70], Train Loss: 0.6471\n",
      "Epoch [52/70], Val Loss: 0.5442\n"
     ]
    },
    {
     "name": "stderr",
     "output_type": "stream",
     "text": [
      "train | loss: 0.6327: 100%|██████████| 7/7 [00:00<00:00, 191.58it/s]\n"
     ]
    },
    {
     "name": "stdout",
     "output_type": "stream",
     "text": [
      "Epoch [53/70], Train Loss: 0.6402\n",
      "Epoch [53/70], Val Loss: 0.5439\n"
     ]
    },
    {
     "name": "stderr",
     "output_type": "stream",
     "text": [
      "train | loss: 0.6108: 100%|██████████| 7/7 [00:00<00:00, 209.25it/s]"
     ]
    },
    {
     "name": "stdout",
     "output_type": "stream",
     "text": [
      "Epoch [54/70], Train Loss: 0.6301\n"
     ]
    },
    {
     "name": "stderr",
     "output_type": "stream",
     "text": [
      "\n"
     ]
    },
    {
     "name": "stdout",
     "output_type": "stream",
     "text": [
      "Epoch [54/70], Val Loss: 0.5419\n"
     ]
    },
    {
     "name": "stderr",
     "output_type": "stream",
     "text": [
      "train | loss: 0.6289: 100%|██████████| 7/7 [00:00<00:00, 217.85it/s]\n"
     ]
    },
    {
     "name": "stdout",
     "output_type": "stream",
     "text": [
      "Epoch [55/70], Train Loss: 0.6449\n",
      "Epoch [55/70], Val Loss: 0.5406\n"
     ]
    },
    {
     "name": "stderr",
     "output_type": "stream",
     "text": [
      "train | loss: 0.6276: 100%|██████████| 7/7 [00:00<00:00, 201.10it/s]\n"
     ]
    },
    {
     "name": "stdout",
     "output_type": "stream",
     "text": [
      "Epoch [56/70], Train Loss: 0.6302\n",
      "Epoch [56/70], Val Loss: 0.5391\n"
     ]
    },
    {
     "name": "stderr",
     "output_type": "stream",
     "text": [
      "train | loss: 0.6583: 100%|██████████| 7/7 [00:00<00:00, 212.23it/s]\n"
     ]
    },
    {
     "name": "stdout",
     "output_type": "stream",
     "text": [
      "Epoch [57/70], Train Loss: 0.6282\n",
      "Epoch [57/70], Val Loss: 0.5384\n"
     ]
    },
    {
     "name": "stderr",
     "output_type": "stream",
     "text": [
      "train | loss: 0.6322: 100%|██████████| 7/7 [00:00<00:00, 214.78it/s]\n"
     ]
    },
    {
     "name": "stdout",
     "output_type": "stream",
     "text": [
      "Epoch [58/70], Train Loss: 0.6322\n",
      "Epoch [58/70], Val Loss: 0.5368\n"
     ]
    },
    {
     "name": "stderr",
     "output_type": "stream",
     "text": [
      "train | loss: 0.5828: 100%|██████████| 7/7 [00:00<00:00, 224.94it/s]\n"
     ]
    },
    {
     "name": "stdout",
     "output_type": "stream",
     "text": [
      "Epoch [59/70], Train Loss: 0.6453\n",
      "Epoch [59/70], Val Loss: 0.5362\n"
     ]
    },
    {
     "name": "stderr",
     "output_type": "stream",
     "text": [
      "train | loss: 0.6732: 100%|██████████| 7/7 [00:00<00:00, 231.69it/s]\n"
     ]
    },
    {
     "name": "stdout",
     "output_type": "stream",
     "text": [
      "Epoch [60/70], Train Loss: 0.6225\n",
      "Epoch [60/70], Val Loss: 0.5361\n"
     ]
    },
    {
     "name": "stderr",
     "output_type": "stream",
     "text": [
      "train | loss: 0.6436: 100%|██████████| 7/7 [00:00<00:00, 209.92it/s]\n"
     ]
    },
    {
     "name": "stdout",
     "output_type": "stream",
     "text": [
      "Epoch [61/70], Train Loss: 0.6375\n",
      "Epoch [61/70], Val Loss: 0.5339\n"
     ]
    },
    {
     "name": "stderr",
     "output_type": "stream",
     "text": [
      "train | loss: 0.6465: 100%|██████████| 7/7 [00:00<00:00, 215.96it/s]\n"
     ]
    },
    {
     "name": "stdout",
     "output_type": "stream",
     "text": [
      "Epoch [62/70], Train Loss: 0.6246\n",
      "Epoch [62/70], Val Loss: 0.5324\n"
     ]
    },
    {
     "name": "stderr",
     "output_type": "stream",
     "text": [
      "train | loss: 0.6385: 100%|██████████| 7/7 [00:00<00:00, 223.55it/s]\n"
     ]
    },
    {
     "name": "stdout",
     "output_type": "stream",
     "text": [
      "Epoch [63/70], Train Loss: 0.6254\n",
      "Epoch [63/70], Val Loss: 0.5310\n"
     ]
    },
    {
     "name": "stderr",
     "output_type": "stream",
     "text": [
      "train | loss: 0.7269: 100%|██████████| 7/7 [00:00<00:00, 187.09it/s]\n"
     ]
    },
    {
     "name": "stdout",
     "output_type": "stream",
     "text": [
      "Epoch [64/70], Train Loss: 0.6073\n",
      "Epoch [64/70], Val Loss: 0.5307\n"
     ]
    },
    {
     "name": "stderr",
     "output_type": "stream",
     "text": [
      "train | loss: 0.5838: 100%|██████████| 7/7 [00:00<00:00, 218.47it/s]\n"
     ]
    },
    {
     "name": "stdout",
     "output_type": "stream",
     "text": [
      "Epoch [65/70], Train Loss: 0.6087\n",
      "Epoch [65/70], Val Loss: 0.5295\n"
     ]
    },
    {
     "name": "stderr",
     "output_type": "stream",
     "text": [
      "train | loss: 0.6082: 100%|██████████| 7/7 [00:00<00:00, 220.74it/s]\n"
     ]
    },
    {
     "name": "stdout",
     "output_type": "stream",
     "text": [
      "Epoch [66/70], Train Loss: 0.6150\n",
      "Epoch [66/70], Val Loss: 0.5282\n"
     ]
    },
    {
     "name": "stderr",
     "output_type": "stream",
     "text": [
      "train | loss: 0.6367: 100%|██████████| 7/7 [00:00<00:00, 222.98it/s]\n"
     ]
    },
    {
     "name": "stdout",
     "output_type": "stream",
     "text": [
      "Epoch [67/70], Train Loss: 0.5930\n",
      "Epoch [67/70], Val Loss: 0.5266\n"
     ]
    },
    {
     "name": "stderr",
     "output_type": "stream",
     "text": [
      "train | loss: 0.5584: 100%|██████████| 7/7 [00:00<00:00, 203.02it/s]\n"
     ]
    },
    {
     "name": "stdout",
     "output_type": "stream",
     "text": [
      "Epoch [68/70], Train Loss: 0.6154\n",
      "Epoch [68/70], Val Loss: 0.5277\n"
     ]
    },
    {
     "name": "stderr",
     "output_type": "stream",
     "text": [
      "train | loss: 0.5854: 100%|██████████| 7/7 [00:00<00:00, 217.21it/s]\n"
     ]
    },
    {
     "name": "stdout",
     "output_type": "stream",
     "text": [
      "Epoch [69/70], Train Loss: 0.6245\n",
      "Epoch [69/70], Val Loss: 0.5276\n"
     ]
    },
    {
     "name": "stderr",
     "output_type": "stream",
     "text": [
      "train | loss: 0.6395: 100%|██████████| 7/7 [00:00<00:00, 229.35it/s]\n"
     ]
    },
    {
     "name": "stdout",
     "output_type": "stream",
     "text": [
      "Epoch [70/70], Train Loss: 0.6101\n",
      "Epoch [70/70], Val Loss: 0.5275\n",
      "big loop: 4\n"
     ]
    },
    {
     "name": "stderr",
     "output_type": "stream",
     "text": [
      "train | loss: 4.4393: 100%|██████████| 7/7 [00:00<00:00, 218.45it/s]\n"
     ]
    },
    {
     "name": "stdout",
     "output_type": "stream",
     "text": [
      "Epoch [1/70], Train Loss: 2.7583\n",
      "Epoch [1/70], Val Loss: 1.3459\n"
     ]
    },
    {
     "name": "stderr",
     "output_type": "stream",
     "text": [
      "train | loss: 1.7089: 100%|██████████| 7/7 [00:00<00:00, 224.84it/s]\n"
     ]
    },
    {
     "name": "stdout",
     "output_type": "stream",
     "text": [
      "Epoch [2/70], Train Loss: 1.5326\n",
      "Epoch [2/70], Val Loss: 0.9913\n"
     ]
    },
    {
     "name": "stderr",
     "output_type": "stream",
     "text": [
      "train | loss: 1.3569: 100%|██████████| 7/7 [00:00<00:00, 42.85it/s]\n"
     ]
    },
    {
     "name": "stdout",
     "output_type": "stream",
     "text": [
      "Epoch [3/70], Train Loss: 1.2708\n",
      "Epoch [3/70], Val Loss: 0.8362\n"
     ]
    },
    {
     "name": "stderr",
     "output_type": "stream",
     "text": [
      "train | loss: 1.1511: 100%|██████████| 7/7 [00:00<00:00, 196.33it/s]\n"
     ]
    },
    {
     "name": "stdout",
     "output_type": "stream",
     "text": [
      "Epoch [4/70], Train Loss: 1.1733\n",
      "Epoch [4/70], Val Loss: 0.7748\n"
     ]
    },
    {
     "name": "stderr",
     "output_type": "stream",
     "text": [
      "train | loss: 1.0799: 100%|██████████| 7/7 [00:00<00:00, 202.85it/s]\n"
     ]
    },
    {
     "name": "stdout",
     "output_type": "stream",
     "text": [
      "Epoch [5/70], Train Loss: 1.0997\n",
      "Epoch [5/70], Val Loss: 0.7446\n"
     ]
    },
    {
     "name": "stderr",
     "output_type": "stream",
     "text": [
      "train | loss: 1.1189: 100%|██████████| 7/7 [00:00<00:00, 211.80it/s]\n"
     ]
    },
    {
     "name": "stdout",
     "output_type": "stream",
     "text": [
      "Epoch [6/70], Train Loss: 1.0443\n",
      "Epoch [6/70], Val Loss: 0.7148\n"
     ]
    },
    {
     "name": "stderr",
     "output_type": "stream",
     "text": [
      "train | loss: 1.0372: 100%|██████████| 7/7 [00:00<00:00, 221.77it/s]\n"
     ]
    },
    {
     "name": "stdout",
     "output_type": "stream",
     "text": [
      "Epoch [7/70], Train Loss: 1.0136\n",
      "Epoch [7/70], Val Loss: 0.6969\n"
     ]
    },
    {
     "name": "stderr",
     "output_type": "stream",
     "text": [
      "train | loss: 0.9951: 100%|██████████| 7/7 [00:00<00:00, 227.74it/s]\n"
     ]
    },
    {
     "name": "stdout",
     "output_type": "stream",
     "text": [
      "Epoch [8/70], Train Loss: 0.9804\n",
      "Epoch [8/70], Val Loss: 0.6828\n"
     ]
    },
    {
     "name": "stderr",
     "output_type": "stream",
     "text": [
      "train | loss: 1.0511: 100%|██████████| 7/7 [00:00<00:00, 214.68it/s]\n"
     ]
    },
    {
     "name": "stdout",
     "output_type": "stream",
     "text": [
      "Epoch [9/70], Train Loss: 0.9860\n",
      "Epoch [9/70], Val Loss: 0.6739\n"
     ]
    },
    {
     "name": "stderr",
     "output_type": "stream",
     "text": [
      "train | loss: 0.9778: 100%|██████████| 7/7 [00:00<00:00, 227.29it/s]\n"
     ]
    },
    {
     "name": "stdout",
     "output_type": "stream",
     "text": [
      "Epoch [10/70], Train Loss: 0.9459\n",
      "Epoch [10/70], Val Loss: 0.6665\n"
     ]
    },
    {
     "name": "stderr",
     "output_type": "stream",
     "text": [
      "train | loss: 0.9098: 100%|██████████| 7/7 [00:00<00:00, 226.84it/s]\n"
     ]
    },
    {
     "name": "stdout",
     "output_type": "stream",
     "text": [
      "Epoch [11/70], Train Loss: 0.9298\n",
      "Epoch [11/70], Val Loss: 0.6573\n"
     ]
    },
    {
     "name": "stderr",
     "output_type": "stream",
     "text": [
      "train | loss: 0.9910: 100%|██████████| 7/7 [00:00<00:00, 207.50it/s]\n"
     ]
    },
    {
     "name": "stdout",
     "output_type": "stream",
     "text": [
      "Epoch [12/70], Train Loss: 0.9331\n",
      "Epoch [12/70], Val Loss: 0.6506\n"
     ]
    },
    {
     "name": "stderr",
     "output_type": "stream",
     "text": [
      "train | loss: 0.9462: 100%|██████████| 7/7 [00:00<00:00, 229.78it/s]\n"
     ]
    },
    {
     "name": "stdout",
     "output_type": "stream",
     "text": [
      "Epoch [13/70], Train Loss: 0.8883\n",
      "Epoch [13/70], Val Loss: 0.6459\n"
     ]
    },
    {
     "name": "stderr",
     "output_type": "stream",
     "text": [
      "train | loss: 0.8733: 100%|██████████| 7/7 [00:00<00:00, 229.07it/s]\n"
     ]
    },
    {
     "name": "stdout",
     "output_type": "stream",
     "text": [
      "Epoch [14/70], Train Loss: 0.8851\n",
      "Epoch [14/70], Val Loss: 0.6405\n"
     ]
    },
    {
     "name": "stderr",
     "output_type": "stream",
     "text": [
      "train | loss: 0.8147: 100%|██████████| 7/7 [00:00<00:00, 245.24it/s]\n"
     ]
    },
    {
     "name": "stdout",
     "output_type": "stream",
     "text": [
      "Epoch [15/70], Train Loss: 0.8786\n",
      "Epoch [15/70], Val Loss: 0.6346\n"
     ]
    },
    {
     "name": "stderr",
     "output_type": "stream",
     "text": [
      "train | loss: 0.8857: 100%|██████████| 7/7 [00:00<00:00, 217.84it/s]\n"
     ]
    },
    {
     "name": "stdout",
     "output_type": "stream",
     "text": [
      "Epoch [16/70], Train Loss: 0.8665\n",
      "Epoch [16/70], Val Loss: 0.6311\n"
     ]
    },
    {
     "name": "stderr",
     "output_type": "stream",
     "text": [
      "train | loss: 0.8229: 100%|██████████| 7/7 [00:00<00:00, 217.30it/s]\n"
     ]
    },
    {
     "name": "stdout",
     "output_type": "stream",
     "text": [
      "Epoch [17/70], Train Loss: 0.8569\n",
      "Epoch [17/70], Val Loss: 0.6263\n"
     ]
    },
    {
     "name": "stderr",
     "output_type": "stream",
     "text": [
      "train | loss: 0.8310: 100%|██████████| 7/7 [00:00<00:00, 230.80it/s]\n"
     ]
    },
    {
     "name": "stdout",
     "output_type": "stream",
     "text": [
      "Epoch [18/70], Train Loss: 0.8352\n",
      "Epoch [18/70], Val Loss: 0.6233\n"
     ]
    },
    {
     "name": "stderr",
     "output_type": "stream",
     "text": [
      "train | loss: 0.8502: 100%|██████████| 7/7 [00:00<00:00, 196.03it/s]\n"
     ]
    },
    {
     "name": "stdout",
     "output_type": "stream",
     "text": [
      "Epoch [19/70], Train Loss: 0.8300\n",
      "Epoch [19/70], Val Loss: 0.6209\n"
     ]
    },
    {
     "name": "stderr",
     "output_type": "stream",
     "text": [
      "train | loss: 0.7244: 100%|██████████| 7/7 [00:00<00:00, 211.84it/s]\n"
     ]
    },
    {
     "name": "stdout",
     "output_type": "stream",
     "text": [
      "Epoch [20/70], Train Loss: 0.8390\n",
      "Epoch [20/70], Val Loss: 0.6170\n"
     ]
    },
    {
     "name": "stderr",
     "output_type": "stream",
     "text": [
      "train | loss: 0.7654: 100%|██████████| 7/7 [00:00<00:00, 196.64it/s]\n"
     ]
    },
    {
     "name": "stdout",
     "output_type": "stream",
     "text": [
      "Epoch [21/70], Train Loss: 0.8022\n",
      "Epoch [21/70], Val Loss: 0.6125\n"
     ]
    },
    {
     "name": "stderr",
     "output_type": "stream",
     "text": [
      "train | loss: 0.7853: 100%|██████████| 7/7 [00:00<00:00, 127.19it/s]\n"
     ]
    },
    {
     "name": "stdout",
     "output_type": "stream",
     "text": [
      "Epoch [22/70], Train Loss: 0.7878\n",
      "Epoch [22/70], Val Loss: 0.6092\n"
     ]
    },
    {
     "name": "stderr",
     "output_type": "stream",
     "text": [
      "train | loss: 0.7397: 100%|██████████| 7/7 [00:00<00:00, 155.32it/s]\n"
     ]
    },
    {
     "name": "stdout",
     "output_type": "stream",
     "text": [
      "Epoch [23/70], Train Loss: 0.8207\n",
      "Epoch [23/70], Val Loss: 0.6070\n"
     ]
    },
    {
     "name": "stderr",
     "output_type": "stream",
     "text": [
      "train | loss: 0.7918: 100%|██████████| 7/7 [00:00<00:00, 180.12it/s]\n"
     ]
    },
    {
     "name": "stdout",
     "output_type": "stream",
     "text": [
      "Epoch [24/70], Train Loss: 0.7924\n",
      "Epoch [24/70], Val Loss: 0.6076\n"
     ]
    },
    {
     "name": "stderr",
     "output_type": "stream",
     "text": [
      "train | loss: 0.7862: 100%|██████████| 7/7 [00:00<00:00, 225.07it/s]\n"
     ]
    },
    {
     "name": "stdout",
     "output_type": "stream",
     "text": [
      "Epoch [25/70], Train Loss: 0.7701\n",
      "Epoch [25/70], Val Loss: 0.6037\n"
     ]
    },
    {
     "name": "stderr",
     "output_type": "stream",
     "text": [
      "train | loss: 0.7450: 100%|██████████| 7/7 [00:00<00:00, 201.96it/s]\n"
     ]
    },
    {
     "name": "stdout",
     "output_type": "stream",
     "text": [
      "Epoch [26/70], Train Loss: 0.7665\n",
      "Epoch [26/70], Val Loss: 0.5991\n"
     ]
    },
    {
     "name": "stderr",
     "output_type": "stream",
     "text": [
      "train | loss: 0.7793: 100%|██████████| 7/7 [00:00<00:00, 171.81it/s]\n"
     ]
    },
    {
     "name": "stdout",
     "output_type": "stream",
     "text": [
      "Epoch [27/70], Train Loss: 0.7694\n",
      "Epoch [27/70], Val Loss: 0.5966\n"
     ]
    },
    {
     "name": "stderr",
     "output_type": "stream",
     "text": [
      "train | loss: 0.7109: 100%|██████████| 7/7 [00:00<00:00, 187.66it/s]\n"
     ]
    },
    {
     "name": "stdout",
     "output_type": "stream",
     "text": [
      "Epoch [28/70], Train Loss: 0.7534\n",
      "Epoch [28/70], Val Loss: 0.5943\n"
     ]
    },
    {
     "name": "stderr",
     "output_type": "stream",
     "text": [
      "train | loss: 0.7495: 100%|██████████| 7/7 [00:00<00:00, 208.50it/s]\n"
     ]
    },
    {
     "name": "stdout",
     "output_type": "stream",
     "text": [
      "Epoch [29/70], Train Loss: 0.7373\n",
      "Epoch [29/70], Val Loss: 0.5905\n"
     ]
    },
    {
     "name": "stderr",
     "output_type": "stream",
     "text": [
      "train | loss: 0.7972: 100%|██████████| 7/7 [00:00<00:00, 198.68it/s]\n"
     ]
    },
    {
     "name": "stdout",
     "output_type": "stream",
     "text": [
      "Epoch [30/70], Train Loss: 0.7581\n",
      "Epoch [30/70], Val Loss: 0.5886\n"
     ]
    },
    {
     "name": "stderr",
     "output_type": "stream",
     "text": [
      "train | loss: 0.8230: 100%|██████████| 7/7 [00:00<00:00, 199.26it/s]\n"
     ]
    },
    {
     "name": "stdout",
     "output_type": "stream",
     "text": [
      "Epoch [31/70], Train Loss: 0.7232\n",
      "Epoch [31/70], Val Loss: 0.5882\n"
     ]
    },
    {
     "name": "stderr",
     "output_type": "stream",
     "text": [
      "train | loss: 0.7269: 100%|██████████| 7/7 [00:00<00:00, 199.13it/s]\n"
     ]
    },
    {
     "name": "stdout",
     "output_type": "stream",
     "text": [
      "Epoch [32/70], Train Loss: 0.7251\n",
      "Epoch [32/70], Val Loss: 0.5850\n"
     ]
    },
    {
     "name": "stderr",
     "output_type": "stream",
     "text": [
      "train | loss: 0.6931: 100%|██████████| 7/7 [00:00<00:00, 189.02it/s]\n"
     ]
    },
    {
     "name": "stdout",
     "output_type": "stream",
     "text": [
      "Epoch [33/70], Train Loss: 0.7116\n",
      "Epoch [33/70], Val Loss: 0.5824\n"
     ]
    },
    {
     "name": "stderr",
     "output_type": "stream",
     "text": [
      "train | loss: 0.7126: 100%|██████████| 7/7 [00:00<00:00, 203.09it/s]\n"
     ]
    },
    {
     "name": "stdout",
     "output_type": "stream",
     "text": [
      "Epoch [34/70], Train Loss: 0.7241\n",
      "Epoch [34/70], Val Loss: 0.5801\n"
     ]
    },
    {
     "name": "stderr",
     "output_type": "stream",
     "text": [
      "train | loss: 0.6848: 100%|██████████| 7/7 [00:00<00:00, 191.29it/s]\n"
     ]
    },
    {
     "name": "stdout",
     "output_type": "stream",
     "text": [
      "Epoch [35/70], Train Loss: 0.7017\n",
      "Epoch [35/70], Val Loss: 0.5785\n"
     ]
    },
    {
     "name": "stderr",
     "output_type": "stream",
     "text": [
      "train | loss: 0.7793: 100%|██████████| 7/7 [00:00<00:00, 204.21it/s]\n"
     ]
    },
    {
     "name": "stdout",
     "output_type": "stream",
     "text": [
      "Epoch [36/70], Train Loss: 0.7157\n",
      "Epoch [36/70], Val Loss: 0.5786\n"
     ]
    },
    {
     "name": "stderr",
     "output_type": "stream",
     "text": [
      "train | loss: 0.6600: 100%|██████████| 7/7 [00:00<00:00, 204.71it/s]\n"
     ]
    },
    {
     "name": "stdout",
     "output_type": "stream",
     "text": [
      "Epoch [37/70], Train Loss: 0.7009\n",
      "Epoch [37/70], Val Loss: 0.5763\n"
     ]
    },
    {
     "name": "stderr",
     "output_type": "stream",
     "text": [
      "train | loss: 0.7797: 100%|██████████| 7/7 [00:00<00:00, 207.23it/s]\n"
     ]
    },
    {
     "name": "stdout",
     "output_type": "stream",
     "text": [
      "Epoch [38/70], Train Loss: 0.7042\n",
      "Epoch [38/70], Val Loss: 0.5747\n"
     ]
    },
    {
     "name": "stderr",
     "output_type": "stream",
     "text": [
      "train | loss: 0.6316: 100%|██████████| 7/7 [00:00<00:00, 206.52it/s]\n"
     ]
    },
    {
     "name": "stdout",
     "output_type": "stream",
     "text": [
      "Epoch [39/70], Train Loss: 0.6953\n",
      "Epoch [39/70], Val Loss: 0.5724\n"
     ]
    },
    {
     "name": "stderr",
     "output_type": "stream",
     "text": [
      "train | loss: 0.7409: 100%|██████████| 7/7 [00:00<00:00, 207.83it/s]\n"
     ]
    },
    {
     "name": "stdout",
     "output_type": "stream",
     "text": [
      "Epoch [40/70], Train Loss: 0.6837\n",
      "Epoch [40/70], Val Loss: 0.5710\n"
     ]
    },
    {
     "name": "stderr",
     "output_type": "stream",
     "text": [
      "train | loss: 0.6020: 100%|██████████| 7/7 [00:00<00:00, 197.40it/s]\n"
     ]
    },
    {
     "name": "stdout",
     "output_type": "stream",
     "text": [
      "Epoch [41/70], Train Loss: 0.7181\n",
      "Epoch [41/70], Val Loss: 0.5719\n"
     ]
    },
    {
     "name": "stderr",
     "output_type": "stream",
     "text": [
      "train | loss: 0.7027: 100%|██████████| 7/7 [00:00<00:00, 85.24it/s]\n"
     ]
    },
    {
     "name": "stdout",
     "output_type": "stream",
     "text": [
      "Epoch [42/70], Train Loss: 0.6826\n",
      "Epoch [42/70], Val Loss: 0.5730\n"
     ]
    },
    {
     "name": "stderr",
     "output_type": "stream",
     "text": [
      "train | loss: 0.6870: 100%|██████████| 7/7 [00:00<00:00, 115.38it/s]\n"
     ]
    },
    {
     "name": "stdout",
     "output_type": "stream",
     "text": [
      "Epoch [43/70], Train Loss: 0.6899\n",
      "Epoch [43/70], Val Loss: 0.5692\n"
     ]
    },
    {
     "name": "stderr",
     "output_type": "stream",
     "text": [
      "train | loss: 0.6448: 100%|██████████| 7/7 [00:00<00:00, 133.75it/s]\n"
     ]
    },
    {
     "name": "stdout",
     "output_type": "stream",
     "text": [
      "Epoch [44/70], Train Loss: 0.6595\n",
      "Epoch [44/70], Val Loss: 0.5644\n"
     ]
    },
    {
     "name": "stderr",
     "output_type": "stream",
     "text": [
      "train | loss: 0.6257: 100%|██████████| 7/7 [00:00<00:00, 222.16it/s]\n"
     ]
    },
    {
     "name": "stdout",
     "output_type": "stream",
     "text": [
      "Epoch [45/70], Train Loss: 0.6657\n",
      "Epoch [45/70], Val Loss: 0.5632\n"
     ]
    },
    {
     "name": "stderr",
     "output_type": "stream",
     "text": [
      "train | loss: 0.6958: 100%|██████████| 7/7 [00:00<00:00, 227.17it/s]\n"
     ]
    },
    {
     "name": "stdout",
     "output_type": "stream",
     "text": [
      "Epoch [46/70], Train Loss: 0.6701\n",
      "Epoch [46/70], Val Loss: 0.5622\n"
     ]
    },
    {
     "name": "stderr",
     "output_type": "stream",
     "text": [
      "train | loss: 0.6051: 100%|██████████| 7/7 [00:00<00:00, 221.65it/s]\n"
     ]
    },
    {
     "name": "stdout",
     "output_type": "stream",
     "text": [
      "Epoch [47/70], Train Loss: 0.6696\n",
      "Epoch [47/70], Val Loss: 0.5609\n"
     ]
    },
    {
     "name": "stderr",
     "output_type": "stream",
     "text": [
      "train | loss: 0.6343: 100%|██████████| 7/7 [00:00<00:00, 221.63it/s]\n"
     ]
    },
    {
     "name": "stdout",
     "output_type": "stream",
     "text": [
      "Epoch [48/70], Train Loss: 0.6809\n",
      "Epoch [48/70], Val Loss: 0.5611\n"
     ]
    },
    {
     "name": "stderr",
     "output_type": "stream",
     "text": [
      "train | loss: 0.6193: 100%|██████████| 7/7 [00:00<00:00, 213.28it/s]\n"
     ]
    },
    {
     "name": "stdout",
     "output_type": "stream",
     "text": [
      "Epoch [49/70], Train Loss: 0.6558\n",
      "Epoch [49/70], Val Loss: 0.5624\n"
     ]
    },
    {
     "name": "stderr",
     "output_type": "stream",
     "text": [
      "train | loss: 0.7037: 100%|██████████| 7/7 [00:00<00:00, 199.18it/s]\n"
     ]
    },
    {
     "name": "stdout",
     "output_type": "stream",
     "text": [
      "Epoch [50/70], Train Loss: 0.6657\n",
      "Epoch [50/70], Val Loss: 0.5577\n"
     ]
    },
    {
     "name": "stderr",
     "output_type": "stream",
     "text": [
      "train | loss: 0.5574: 100%|██████████| 7/7 [00:00<00:00, 199.36it/s]\n"
     ]
    },
    {
     "name": "stdout",
     "output_type": "stream",
     "text": [
      "Epoch [51/70], Train Loss: 0.6501\n",
      "Epoch [51/70], Val Loss: 0.5553\n"
     ]
    },
    {
     "name": "stderr",
     "output_type": "stream",
     "text": [
      "train | loss: 0.6400: 100%|██████████| 7/7 [00:00<00:00, 192.34it/s]\n"
     ]
    },
    {
     "name": "stdout",
     "output_type": "stream",
     "text": [
      "Epoch [52/70], Train Loss: 0.6603\n",
      "Epoch [52/70], Val Loss: 0.5535\n"
     ]
    },
    {
     "name": "stderr",
     "output_type": "stream",
     "text": [
      "train | loss: 0.6259: 100%|██████████| 7/7 [00:00<00:00, 225.09it/s]\n"
     ]
    },
    {
     "name": "stdout",
     "output_type": "stream",
     "text": [
      "Epoch [53/70], Train Loss: 0.6441\n",
      "Epoch [53/70], Val Loss: 0.5534\n"
     ]
    },
    {
     "name": "stderr",
     "output_type": "stream",
     "text": [
      "train | loss: 0.5438: 100%|██████████| 7/7 [00:00<00:00, 241.11it/s]\n"
     ]
    },
    {
     "name": "stdout",
     "output_type": "stream",
     "text": [
      "Epoch [54/70], Train Loss: 0.6420\n",
      "Epoch [54/70], Val Loss: 0.5532\n"
     ]
    },
    {
     "name": "stderr",
     "output_type": "stream",
     "text": [
      "train | loss: 0.6586: 100%|██████████| 7/7 [00:00<00:00, 219.34it/s]\n"
     ]
    },
    {
     "name": "stdout",
     "output_type": "stream",
     "text": [
      "Epoch [55/70], Train Loss: 0.6443\n",
      "Epoch [55/70], Val Loss: 0.5521\n"
     ]
    },
    {
     "name": "stderr",
     "output_type": "stream",
     "text": [
      "train | loss: 0.6628: 100%|██████████| 7/7 [00:00<00:00, 200.52it/s]\n"
     ]
    },
    {
     "name": "stdout",
     "output_type": "stream",
     "text": [
      "Epoch [56/70], Train Loss: 0.6339\n",
      "Epoch [56/70], Val Loss: 0.5521\n"
     ]
    },
    {
     "name": "stderr",
     "output_type": "stream",
     "text": [
      "train | loss: 0.6794: 100%|██████████| 7/7 [00:00<00:00, 232.24it/s]\n"
     ]
    },
    {
     "name": "stdout",
     "output_type": "stream",
     "text": [
      "Epoch [57/70], Train Loss: 0.6624\n",
      "Epoch [57/70], Val Loss: 0.5495\n"
     ]
    },
    {
     "name": "stderr",
     "output_type": "stream",
     "text": [
      "train | loss: 0.6583: 100%|██████████| 7/7 [00:00<00:00, 233.50it/s]\n"
     ]
    },
    {
     "name": "stdout",
     "output_type": "stream",
     "text": [
      "Epoch [58/70], Train Loss: 0.6427\n",
      "Epoch [58/70], Val Loss: 0.5484\n"
     ]
    },
    {
     "name": "stderr",
     "output_type": "stream",
     "text": [
      "train | loss: 0.6617: 100%|██████████| 7/7 [00:00<00:00, 197.74it/s]\n"
     ]
    },
    {
     "name": "stdout",
     "output_type": "stream",
     "text": [
      "Epoch [59/70], Train Loss: 0.6335\n",
      "Epoch [59/70], Val Loss: 0.5474\n"
     ]
    },
    {
     "name": "stderr",
     "output_type": "stream",
     "text": [
      "train | loss: 0.6228: 100%|██████████| 7/7 [00:00<00:00, 67.01it/s]\n"
     ]
    },
    {
     "name": "stdout",
     "output_type": "stream",
     "text": [
      "Epoch [60/70], Train Loss: 0.6332\n",
      "Epoch [60/70], Val Loss: 0.5470\n"
     ]
    },
    {
     "name": "stderr",
     "output_type": "stream",
     "text": [
      "train | loss: 0.5925: 100%|██████████| 7/7 [00:00<00:00, 218.35it/s]\n"
     ]
    },
    {
     "name": "stdout",
     "output_type": "stream",
     "text": [
      "Epoch [61/70], Train Loss: 0.6383\n",
      "Epoch [61/70], Val Loss: 0.5450\n"
     ]
    },
    {
     "name": "stderr",
     "output_type": "stream",
     "text": [
      "train | loss: 0.6387: 100%|██████████| 7/7 [00:00<00:00, 206.15it/s]\n"
     ]
    },
    {
     "name": "stdout",
     "output_type": "stream",
     "text": [
      "Epoch [62/70], Train Loss: 0.6332\n",
      "Epoch [62/70], Val Loss: 0.5450\n"
     ]
    },
    {
     "name": "stderr",
     "output_type": "stream",
     "text": [
      "train | loss: 0.5934: 100%|██████████| 7/7 [00:00<00:00, 195.27it/s]\n"
     ]
    },
    {
     "name": "stdout",
     "output_type": "stream",
     "text": [
      "Epoch [63/70], Train Loss: 0.6258\n",
      "Epoch [63/70], Val Loss: 0.5454\n"
     ]
    },
    {
     "name": "stderr",
     "output_type": "stream",
     "text": [
      "train | loss: 0.5857: 100%|██████████| 7/7 [00:00<00:00, 194.35it/s]\n"
     ]
    },
    {
     "name": "stdout",
     "output_type": "stream",
     "text": [
      "Epoch [64/70], Train Loss: 0.6255\n",
      "Epoch [64/70], Val Loss: 0.5443\n"
     ]
    },
    {
     "name": "stderr",
     "output_type": "stream",
     "text": [
      "train | loss: 0.6120: 100%|██████████| 7/7 [00:00<00:00, 203.09it/s]\n"
     ]
    },
    {
     "name": "stdout",
     "output_type": "stream",
     "text": [
      "Epoch [65/70], Train Loss: 0.6305\n",
      "Epoch [65/70], Val Loss: 0.5419\n"
     ]
    },
    {
     "name": "stderr",
     "output_type": "stream",
     "text": [
      "train | loss: 0.5866: 100%|██████████| 7/7 [00:00<00:00, 242.79it/s]\n"
     ]
    },
    {
     "name": "stdout",
     "output_type": "stream",
     "text": [
      "Epoch [66/70], Train Loss: 0.6149\n",
      "Epoch [66/70], Val Loss: 0.5406\n"
     ]
    },
    {
     "name": "stderr",
     "output_type": "stream",
     "text": [
      "train | loss: 0.6149: 100%|██████████| 7/7 [00:00<00:00, 213.16it/s]\n"
     ]
    },
    {
     "name": "stdout",
     "output_type": "stream",
     "text": [
      "Epoch [67/70], Train Loss: 0.6048\n",
      "Epoch [67/70], Val Loss: 0.5385\n"
     ]
    },
    {
     "name": "stderr",
     "output_type": "stream",
     "text": [
      "train | loss: 0.5826: 100%|██████████| 7/7 [00:00<00:00, 195.97it/s]\n"
     ]
    },
    {
     "name": "stdout",
     "output_type": "stream",
     "text": [
      "Epoch [68/70], Train Loss: 0.6246\n",
      "Epoch [68/70], Val Loss: 0.5385\n"
     ]
    },
    {
     "name": "stderr",
     "output_type": "stream",
     "text": [
      "train | loss: 0.6022: 100%|██████████| 7/7 [00:00<00:00, 189.23it/s]\n"
     ]
    },
    {
     "name": "stdout",
     "output_type": "stream",
     "text": [
      "Epoch [69/70], Train Loss: 0.6296\n",
      "Epoch [69/70], Val Loss: 0.5379\n"
     ]
    },
    {
     "name": "stderr",
     "output_type": "stream",
     "text": [
      "train | loss: 0.6543: 100%|██████████| 7/7 [00:00<00:00, 196.85it/s]\n"
     ]
    },
    {
     "name": "stdout",
     "output_type": "stream",
     "text": [
      "Epoch [70/70], Train Loss: 0.6076\n",
      "Epoch [70/70], Val Loss: 0.5375\n",
      "big loop: 5\n"
     ]
    },
    {
     "name": "stderr",
     "output_type": "stream",
     "text": [
      "train | loss: 4.4876: 100%|██████████| 7/7 [00:00<00:00, 213.32it/s]\n"
     ]
    },
    {
     "name": "stdout",
     "output_type": "stream",
     "text": [
      "Epoch [1/70], Train Loss: 2.6616\n",
      "Epoch [1/70], Val Loss: 1.2082\n"
     ]
    },
    {
     "name": "stderr",
     "output_type": "stream",
     "text": [
      "train | loss: 1.5934: 100%|██████████| 7/7 [00:00<00:00, 222.85it/s]\n"
     ]
    },
    {
     "name": "stdout",
     "output_type": "stream",
     "text": [
      "Epoch [2/70], Train Loss: 1.4515\n",
      "Epoch [2/70], Val Loss: 0.9195\n"
     ]
    },
    {
     "name": "stderr",
     "output_type": "stream",
     "text": [
      "train | loss: 1.2733: 100%|██████████| 7/7 [00:00<00:00, 229.38it/s]\n"
     ]
    },
    {
     "name": "stdout",
     "output_type": "stream",
     "text": [
      "Epoch [3/70], Train Loss: 1.2256\n",
      "Epoch [3/70], Val Loss: 0.7807\n"
     ]
    },
    {
     "name": "stderr",
     "output_type": "stream",
     "text": [
      "train | loss: 1.0522: 100%|██████████| 7/7 [00:00<00:00, 237.69it/s]"
     ]
    },
    {
     "name": "stdout",
     "output_type": "stream",
     "text": [
      "Epoch [4/70], Train Loss: 1.0997\n"
     ]
    },
    {
     "name": "stderr",
     "output_type": "stream",
     "text": [
      "\n"
     ]
    },
    {
     "name": "stdout",
     "output_type": "stream",
     "text": [
      "Epoch [4/70], Val Loss: 0.7137\n"
     ]
    },
    {
     "name": "stderr",
     "output_type": "stream",
     "text": [
      "train | loss: 1.0372: 100%|██████████| 7/7 [00:00<00:00, 230.06it/s]\n"
     ]
    },
    {
     "name": "stdout",
     "output_type": "stream",
     "text": [
      "Epoch [5/70], Train Loss: 1.0468\n",
      "Epoch [5/70], Val Loss: 0.6685\n"
     ]
    },
    {
     "name": "stderr",
     "output_type": "stream",
     "text": [
      "train | loss: 0.9997: 100%|██████████| 7/7 [00:00<00:00, 219.69it/s]\n"
     ]
    },
    {
     "name": "stdout",
     "output_type": "stream",
     "text": [
      "Epoch [6/70], Train Loss: 1.0024\n",
      "Epoch [6/70], Val Loss: 0.6419\n"
     ]
    },
    {
     "name": "stderr",
     "output_type": "stream",
     "text": [
      "train | loss: 0.9325: 100%|██████████| 7/7 [00:00<00:00, 223.78it/s]\n"
     ]
    },
    {
     "name": "stdout",
     "output_type": "stream",
     "text": [
      "Epoch [7/70], Train Loss: 0.9584\n",
      "Epoch [7/70], Val Loss: 0.6259\n"
     ]
    },
    {
     "name": "stderr",
     "output_type": "stream",
     "text": [
      "train | loss: 0.9109: 100%|██████████| 7/7 [00:00<00:00, 226.03it/s]\n"
     ]
    },
    {
     "name": "stdout",
     "output_type": "stream",
     "text": [
      "Epoch [8/70], Train Loss: 0.9262\n",
      "Epoch [8/70], Val Loss: 0.6135\n"
     ]
    },
    {
     "name": "stderr",
     "output_type": "stream",
     "text": [
      "train | loss: 0.9397: 100%|██████████| 7/7 [00:00<00:00, 201.61it/s]\n"
     ]
    },
    {
     "name": "stdout",
     "output_type": "stream",
     "text": [
      "Epoch [9/70], Train Loss: 0.8900\n",
      "Epoch [9/70], Val Loss: 0.6017\n"
     ]
    },
    {
     "name": "stderr",
     "output_type": "stream",
     "text": [
      "train | loss: 0.9070: 100%|██████████| 7/7 [00:00<00:00, 226.06it/s]\n"
     ]
    },
    {
     "name": "stdout",
     "output_type": "stream",
     "text": [
      "Epoch [10/70], Train Loss: 0.8834\n",
      "Epoch [10/70], Val Loss: 0.5946\n"
     ]
    },
    {
     "name": "stderr",
     "output_type": "stream",
     "text": [
      "train | loss: 0.8842: 100%|██████████| 7/7 [00:00<00:00, 221.17it/s]\n"
     ]
    },
    {
     "name": "stdout",
     "output_type": "stream",
     "text": [
      "Epoch [11/70], Train Loss: 0.8648\n",
      "Epoch [11/70], Val Loss: 0.5882\n"
     ]
    },
    {
     "name": "stderr",
     "output_type": "stream",
     "text": [
      "train | loss: 0.8697: 100%|██████████| 7/7 [00:00<00:00, 202.21it/s]\n"
     ]
    },
    {
     "name": "stdout",
     "output_type": "stream",
     "text": [
      "Epoch [12/70], Train Loss: 0.8584\n",
      "Epoch [12/70], Val Loss: 0.5821\n"
     ]
    },
    {
     "name": "stderr",
     "output_type": "stream",
     "text": [
      "train | loss: 0.8507: 100%|██████████| 7/7 [00:00<00:00, 93.32it/s]\n"
     ]
    },
    {
     "name": "stdout",
     "output_type": "stream",
     "text": [
      "Epoch [13/70], Train Loss: 0.8380\n",
      "Epoch [13/70], Val Loss: 0.5763\n"
     ]
    },
    {
     "name": "stderr",
     "output_type": "stream",
     "text": [
      "train | loss: 0.8538: 100%|██████████| 7/7 [00:00<00:00, 128.96it/s]\n"
     ]
    },
    {
     "name": "stdout",
     "output_type": "stream",
     "text": [
      "Epoch [14/70], Train Loss: 0.8204\n",
      "Epoch [14/70], Val Loss: 0.5717\n"
     ]
    },
    {
     "name": "stderr",
     "output_type": "stream",
     "text": [
      "train | loss: 0.8106: 100%|██████████| 7/7 [00:00<00:00, 205.61it/s]\n"
     ]
    },
    {
     "name": "stdout",
     "output_type": "stream",
     "text": [
      "Epoch [15/70], Train Loss: 0.8157\n",
      "Epoch [15/70], Val Loss: 0.5670\n"
     ]
    },
    {
     "name": "stderr",
     "output_type": "stream",
     "text": [
      "train | loss: 0.8614: 100%|██████████| 7/7 [00:00<00:00, 218.62it/s]\n"
     ]
    },
    {
     "name": "stdout",
     "output_type": "stream",
     "text": [
      "Epoch [16/70], Train Loss: 0.8217\n",
      "Epoch [16/70], Val Loss: 0.5632\n"
     ]
    },
    {
     "name": "stderr",
     "output_type": "stream",
     "text": [
      "train | loss: 0.7532: 100%|██████████| 7/7 [00:00<00:00, 183.17it/s]\n"
     ]
    },
    {
     "name": "stdout",
     "output_type": "stream",
     "text": [
      "Epoch [17/70], Train Loss: 0.7996\n",
      "Epoch [17/70], Val Loss: 0.5601\n"
     ]
    },
    {
     "name": "stderr",
     "output_type": "stream",
     "text": [
      "train | loss: 0.7999: 100%|██████████| 7/7 [00:00<00:00, 172.37it/s]"
     ]
    },
    {
     "name": "stdout",
     "output_type": "stream",
     "text": [
      "Epoch [18/70], Train Loss: 0.7774"
     ]
    },
    {
     "name": "stderr",
     "output_type": "stream",
     "text": [
      "\n"
     ]
    },
    {
     "name": "stdout",
     "output_type": "stream",
     "text": [
      "\n",
      "Epoch [18/70], Val Loss: 0.5573\n"
     ]
    },
    {
     "name": "stderr",
     "output_type": "stream",
     "text": [
      "train | loss: 0.7516: 100%|██████████| 7/7 [00:00<00:00, 228.54it/s]\n"
     ]
    },
    {
     "name": "stdout",
     "output_type": "stream",
     "text": [
      "Epoch [19/70], Train Loss: 0.7820\n",
      "Epoch [19/70], Val Loss: 0.5526\n"
     ]
    },
    {
     "name": "stderr",
     "output_type": "stream",
     "text": [
      "train | loss: 0.8122: 100%|██████████| 7/7 [00:00<00:00, 221.53it/s]\n"
     ]
    },
    {
     "name": "stdout",
     "output_type": "stream",
     "text": [
      "Epoch [20/70], Train Loss: 0.7660\n",
      "Epoch [20/70], Val Loss: 0.5488\n"
     ]
    },
    {
     "name": "stderr",
     "output_type": "stream",
     "text": [
      "train | loss: 0.7514: 100%|██████████| 7/7 [00:00<00:00, 223.00it/s]\n"
     ]
    },
    {
     "name": "stdout",
     "output_type": "stream",
     "text": [
      "Epoch [21/70], Train Loss: 0.7519\n",
      "Epoch [21/70], Val Loss: 0.5453\n"
     ]
    },
    {
     "name": "stderr",
     "output_type": "stream",
     "text": [
      "train | loss: 0.7733: 100%|██████████| 7/7 [00:00<00:00, 227.95it/s]\n"
     ]
    },
    {
     "name": "stdout",
     "output_type": "stream",
     "text": [
      "Epoch [22/70], Train Loss: 0.7374\n",
      "Epoch [22/70], Val Loss: 0.5420\n"
     ]
    },
    {
     "name": "stderr",
     "output_type": "stream",
     "text": [
      "train | loss: 0.7345: 100%|██████████| 7/7 [00:00<00:00, 211.58it/s]\n"
     ]
    },
    {
     "name": "stdout",
     "output_type": "stream",
     "text": [
      "Epoch [23/70], Train Loss: 0.7202\n",
      "Epoch [23/70], Val Loss: 0.5391\n"
     ]
    },
    {
     "name": "stderr",
     "output_type": "stream",
     "text": [
      "train | loss: 0.6888: 100%|██████████| 7/7 [00:00<00:00, 225.05it/s]\n"
     ]
    },
    {
     "name": "stdout",
     "output_type": "stream",
     "text": [
      "Epoch [24/70], Train Loss: 0.7122\n",
      "Epoch [24/70], Val Loss: 0.5373\n"
     ]
    },
    {
     "name": "stderr",
     "output_type": "stream",
     "text": [
      "train | loss: 0.7494: 100%|██████████| 7/7 [00:00<00:00, 199.68it/s]\n"
     ]
    },
    {
     "name": "stdout",
     "output_type": "stream",
     "text": [
      "Epoch [25/70], Train Loss: 0.7250\n",
      "Epoch [25/70], Val Loss: 0.5343\n"
     ]
    },
    {
     "name": "stderr",
     "output_type": "stream",
     "text": [
      "train | loss: 0.7123: 100%|██████████| 7/7 [00:00<00:00, 216.52it/s]\n"
     ]
    },
    {
     "name": "stdout",
     "output_type": "stream",
     "text": [
      "Epoch [26/70], Train Loss: 0.7167\n",
      "Epoch [26/70], Val Loss: 0.5324\n"
     ]
    },
    {
     "name": "stderr",
     "output_type": "stream",
     "text": [
      "train | loss: 0.6685: 100%|██████████| 7/7 [00:00<00:00, 195.64it/s]\n"
     ]
    },
    {
     "name": "stdout",
     "output_type": "stream",
     "text": [
      "Epoch [27/70], Train Loss: 0.6969\n",
      "Epoch [27/70], Val Loss: 0.5311\n"
     ]
    },
    {
     "name": "stderr",
     "output_type": "stream",
     "text": [
      "train | loss: 0.6550: 100%|██████████| 7/7 [00:00<00:00, 187.73it/s]\n"
     ]
    },
    {
     "name": "stdout",
     "output_type": "stream",
     "text": [
      "Epoch [28/70], Train Loss: 0.6959\n",
      "Epoch [28/70], Val Loss: 0.5291\n"
     ]
    },
    {
     "name": "stderr",
     "output_type": "stream",
     "text": [
      "train | loss: 0.7155: 100%|██████████| 7/7 [00:00<00:00, 224.81it/s]\n"
     ]
    },
    {
     "name": "stdout",
     "output_type": "stream",
     "text": [
      "Epoch [29/70], Train Loss: 0.6891\n",
      "Epoch [29/70], Val Loss: 0.5272\n"
     ]
    },
    {
     "name": "stderr",
     "output_type": "stream",
     "text": [
      "train | loss: 0.6930: 100%|██████████| 7/7 [00:00<00:00, 209.63it/s]\n"
     ]
    },
    {
     "name": "stdout",
     "output_type": "stream",
     "text": [
      "Epoch [30/70], Train Loss: 0.6820\n",
      "Epoch [30/70], Val Loss: 0.5241\n"
     ]
    },
    {
     "name": "stderr",
     "output_type": "stream",
     "text": [
      "train | loss: 0.5878: 100%|██████████| 7/7 [00:00<00:00, 206.73it/s]\n"
     ]
    },
    {
     "name": "stdout",
     "output_type": "stream",
     "text": [
      "Epoch [31/70], Train Loss: 0.6716\n",
      "Epoch [31/70], Val Loss: 0.5214\n"
     ]
    },
    {
     "name": "stderr",
     "output_type": "stream",
     "text": [
      "train | loss: 0.6116: 100%|██████████| 7/7 [00:00<00:00, 118.70it/s]\n"
     ]
    },
    {
     "name": "stdout",
     "output_type": "stream",
     "text": [
      "Epoch [32/70], Train Loss: 0.6573\n",
      "Epoch [32/70], Val Loss: 0.5198\n"
     ]
    },
    {
     "name": "stderr",
     "output_type": "stream",
     "text": [
      "train | loss: 0.7418: 100%|██████████| 7/7 [00:00<00:00, 170.81it/s]\n"
     ]
    },
    {
     "name": "stdout",
     "output_type": "stream",
     "text": [
      "Epoch [33/70], Train Loss: 0.6574\n",
      "Epoch [33/70], Val Loss: 0.5183\n"
     ]
    },
    {
     "name": "stderr",
     "output_type": "stream",
     "text": [
      "train | loss: 0.7060: 100%|██████████| 7/7 [00:00<00:00, 213.13it/s]\n"
     ]
    },
    {
     "name": "stdout",
     "output_type": "stream",
     "text": [
      "Epoch [34/70], Train Loss: 0.6717\n",
      "Epoch [34/70], Val Loss: 0.5147\n"
     ]
    },
    {
     "name": "stderr",
     "output_type": "stream",
     "text": [
      "train | loss: 0.5680: 100%|██████████| 7/7 [00:00<00:00, 217.10it/s]\n"
     ]
    },
    {
     "name": "stdout",
     "output_type": "stream",
     "text": [
      "Epoch [35/70], Train Loss: 0.6481\n",
      "Epoch [35/70], Val Loss: 0.5140\n"
     ]
    },
    {
     "name": "stderr",
     "output_type": "stream",
     "text": [
      "train | loss: 0.6466: 100%|██████████| 7/7 [00:00<00:00, 210.32it/s]\n"
     ]
    },
    {
     "name": "stdout",
     "output_type": "stream",
     "text": [
      "Epoch [36/70], Train Loss: 0.6433\n",
      "Epoch [36/70], Val Loss: 0.5128\n"
     ]
    },
    {
     "name": "stderr",
     "output_type": "stream",
     "text": [
      "train | loss: 0.6334: 100%|██████████| 7/7 [00:00<00:00, 238.87it/s]\n"
     ]
    },
    {
     "name": "stdout",
     "output_type": "stream",
     "text": [
      "Epoch [37/70], Train Loss: 0.6471\n",
      "Epoch [37/70], Val Loss: 0.5112\n"
     ]
    },
    {
     "name": "stderr",
     "output_type": "stream",
     "text": [
      "train | loss: 0.6752: 100%|██████████| 7/7 [00:00<00:00, 239.22it/s]\n"
     ]
    },
    {
     "name": "stdout",
     "output_type": "stream",
     "text": [
      "Epoch [38/70], Train Loss: 0.6438\n",
      "Epoch [38/70], Val Loss: 0.5101\n"
     ]
    },
    {
     "name": "stderr",
     "output_type": "stream",
     "text": [
      "train | loss: 0.6075: 100%|██████████| 7/7 [00:00<00:00, 237.70it/s]\n"
     ]
    },
    {
     "name": "stdout",
     "output_type": "stream",
     "text": [
      "Epoch [39/70], Train Loss: 0.6341\n",
      "Epoch [39/70], Val Loss: 0.5089\n"
     ]
    },
    {
     "name": "stderr",
     "output_type": "stream",
     "text": [
      "train | loss: 0.6699: 100%|██████████| 7/7 [00:00<00:00, 242.00it/s]\n"
     ]
    },
    {
     "name": "stdout",
     "output_type": "stream",
     "text": [
      "Epoch [40/70], Train Loss: 0.6278\n",
      "Epoch [40/70], Val Loss: 0.5081\n"
     ]
    },
    {
     "name": "stderr",
     "output_type": "stream",
     "text": [
      "train | loss: 0.6108: 100%|██████████| 7/7 [00:00<00:00, 234.68it/s]\n"
     ]
    },
    {
     "name": "stdout",
     "output_type": "stream",
     "text": [
      "Epoch [41/70], Train Loss: 0.6406\n",
      "Epoch [41/70], Val Loss: 0.5063\n"
     ]
    },
    {
     "name": "stderr",
     "output_type": "stream",
     "text": [
      "train | loss: 0.6080: 100%|██████████| 7/7 [00:00<00:00, 256.91it/s]\n"
     ]
    },
    {
     "name": "stdout",
     "output_type": "stream",
     "text": [
      "Epoch [42/70], Train Loss: 0.6359\n",
      "Epoch [42/70], Val Loss: 0.5074\n"
     ]
    },
    {
     "name": "stderr",
     "output_type": "stream",
     "text": [
      "train | loss: 0.6129: 100%|██████████| 7/7 [00:00<00:00, 209.04it/s]\n"
     ]
    },
    {
     "name": "stdout",
     "output_type": "stream",
     "text": [
      "Epoch [43/70], Train Loss: 0.6280\n",
      "Epoch [43/70], Val Loss: 0.5063\n"
     ]
    },
    {
     "name": "stderr",
     "output_type": "stream",
     "text": [
      "train | loss: 0.5879: 100%|██████████| 7/7 [00:00<00:00, 245.89it/s]\n"
     ]
    },
    {
     "name": "stdout",
     "output_type": "stream",
     "text": [
      "Epoch [44/70], Train Loss: 0.6246\n",
      "Epoch [44/70], Val Loss: 0.5027\n"
     ]
    },
    {
     "name": "stderr",
     "output_type": "stream",
     "text": [
      "train | loss: 0.6253: 100%|██████████| 7/7 [00:00<00:00, 241.51it/s]\n"
     ]
    },
    {
     "name": "stdout",
     "output_type": "stream",
     "text": [
      "Epoch [45/70], Train Loss: 0.6246\n",
      "Epoch [45/70], Val Loss: 0.5005\n"
     ]
    },
    {
     "name": "stderr",
     "output_type": "stream",
     "text": [
      "train | loss: 0.5818: 100%|██████████| 7/7 [00:00<00:00, 254.55it/s]\n"
     ]
    },
    {
     "name": "stdout",
     "output_type": "stream",
     "text": [
      "Epoch [46/70], Train Loss: 0.6021\n",
      "Epoch [46/70], Val Loss: 0.4982\n"
     ]
    },
    {
     "name": "stderr",
     "output_type": "stream",
     "text": [
      "train | loss: 0.6111: 100%|██████████| 7/7 [00:00<00:00, 236.75it/s]\n"
     ]
    },
    {
     "name": "stdout",
     "output_type": "stream",
     "text": [
      "Epoch [47/70], Train Loss: 0.5986\n",
      "Epoch [47/70], Val Loss: 0.4963\n"
     ]
    },
    {
     "name": "stderr",
     "output_type": "stream",
     "text": [
      "train | loss: 0.5947: 100%|██████████| 7/7 [00:00<00:00, 201.72it/s]\n"
     ]
    },
    {
     "name": "stdout",
     "output_type": "stream",
     "text": [
      "Epoch [48/70], Train Loss: 0.6057\n",
      "Epoch [48/70], Val Loss: 0.4964\n"
     ]
    },
    {
     "name": "stderr",
     "output_type": "stream",
     "text": [
      "train | loss: 0.5590: 100%|██████████| 7/7 [00:00<00:00, 197.21it/s]\n"
     ]
    },
    {
     "name": "stdout",
     "output_type": "stream",
     "text": [
      "Epoch [49/70], Train Loss: 0.5966\n",
      "Epoch [49/70], Val Loss: 0.4960\n"
     ]
    },
    {
     "name": "stderr",
     "output_type": "stream",
     "text": [
      "train | loss: 0.6213: 100%|██████████| 7/7 [00:00<00:00, 202.39it/s]\n"
     ]
    },
    {
     "name": "stdout",
     "output_type": "stream",
     "text": [
      "Epoch [50/70], Train Loss: 0.5978\n",
      "Epoch [50/70], Val Loss: 0.4952\n"
     ]
    },
    {
     "name": "stderr",
     "output_type": "stream",
     "text": [
      "train | loss: 0.5320: 100%|██████████| 7/7 [00:00<00:00, 140.81it/s]\n"
     ]
    },
    {
     "name": "stdout",
     "output_type": "stream",
     "text": [
      "Epoch [51/70], Train Loss: 0.5961\n",
      "Epoch [51/70], Val Loss: 0.4943\n"
     ]
    },
    {
     "name": "stderr",
     "output_type": "stream",
     "text": [
      "train | loss: 0.5778: 100%|██████████| 7/7 [00:00<00:00, 100.35it/s]\n"
     ]
    },
    {
     "name": "stdout",
     "output_type": "stream",
     "text": [
      "Epoch [52/70], Train Loss: 0.5863\n",
      "Epoch [52/70], Val Loss: 0.4938\n"
     ]
    },
    {
     "name": "stderr",
     "output_type": "stream",
     "text": [
      "train | loss: 0.5488: 100%|██████████| 7/7 [00:00<00:00, 116.15it/s]\n"
     ]
    },
    {
     "name": "stdout",
     "output_type": "stream",
     "text": [
      "Epoch [53/70], Train Loss: 0.5887\n",
      "Epoch [53/70], Val Loss: 0.4906\n"
     ]
    },
    {
     "name": "stderr",
     "output_type": "stream",
     "text": [
      "train | loss: 0.5473: 100%|██████████| 7/7 [00:00<00:00, 231.91it/s]\n"
     ]
    },
    {
     "name": "stdout",
     "output_type": "stream",
     "text": [
      "Epoch [54/70], Train Loss: 0.5930\n",
      "Epoch [54/70], Val Loss: 0.4897\n"
     ]
    },
    {
     "name": "stderr",
     "output_type": "stream",
     "text": [
      "train | loss: 0.5388: 100%|██████████| 7/7 [00:00<00:00, 204.58it/s]\n"
     ]
    },
    {
     "name": "stdout",
     "output_type": "stream",
     "text": [
      "Epoch [55/70], Train Loss: 0.5925\n",
      "Epoch [55/70], Val Loss: 0.4880\n"
     ]
    },
    {
     "name": "stderr",
     "output_type": "stream",
     "text": [
      "train | loss: 0.5478: 100%|██████████| 7/7 [00:00<00:00, 167.69it/s]\n"
     ]
    },
    {
     "name": "stdout",
     "output_type": "stream",
     "text": [
      "Epoch [56/70], Train Loss: 0.5876\n",
      "Epoch [56/70], Val Loss: 0.4868\n"
     ]
    },
    {
     "name": "stderr",
     "output_type": "stream",
     "text": [
      "train | loss: 0.5354: 100%|██████████| 7/7 [00:00<00:00, 192.57it/s]\n"
     ]
    },
    {
     "name": "stdout",
     "output_type": "stream",
     "text": [
      "Epoch [57/70], Train Loss: 0.5785\n",
      "Epoch [57/70], Val Loss: 0.4860\n"
     ]
    },
    {
     "name": "stderr",
     "output_type": "stream",
     "text": [
      "train | loss: 0.5714: 100%|██████████| 7/7 [00:00<00:00, 204.67it/s]\n"
     ]
    },
    {
     "name": "stdout",
     "output_type": "stream",
     "text": [
      "Epoch [58/70], Train Loss: 0.5680\n",
      "Epoch [58/70], Val Loss: 0.4857\n"
     ]
    },
    {
     "name": "stderr",
     "output_type": "stream",
     "text": [
      "train | loss: 0.5633: 100%|██████████| 7/7 [00:00<00:00, 199.54it/s]"
     ]
    },
    {
     "name": "stdout",
     "output_type": "stream",
     "text": [
      "Epoch [59/70], Train Loss: 0.5607\n"
     ]
    },
    {
     "name": "stderr",
     "output_type": "stream",
     "text": [
      "\n"
     ]
    },
    {
     "name": "stdout",
     "output_type": "stream",
     "text": [
      "Epoch [59/70], Val Loss: 0.4851\n"
     ]
    },
    {
     "name": "stderr",
     "output_type": "stream",
     "text": [
      "train | loss: 0.5527: 100%|██████████| 7/7 [00:00<00:00, 211.96it/s]\n"
     ]
    },
    {
     "name": "stdout",
     "output_type": "stream",
     "text": [
      "Epoch [60/70], Train Loss: 0.5695\n",
      "Epoch [60/70], Val Loss: 0.4835\n"
     ]
    },
    {
     "name": "stderr",
     "output_type": "stream",
     "text": [
      "train | loss: 0.4775: 100%|██████████| 7/7 [00:00<00:00, 184.27it/s]\n"
     ]
    },
    {
     "name": "stdout",
     "output_type": "stream",
     "text": [
      "Epoch [61/70], Train Loss: 0.5729\n",
      "Epoch [61/70], Val Loss: 0.4829\n"
     ]
    },
    {
     "name": "stderr",
     "output_type": "stream",
     "text": [
      "train | loss: 0.5772: 100%|██████████| 7/7 [00:00<00:00, 197.38it/s]\n"
     ]
    },
    {
     "name": "stdout",
     "output_type": "stream",
     "text": [
      "Epoch [62/70], Train Loss: 0.5678\n",
      "Epoch [62/70], Val Loss: 0.4817\n"
     ]
    },
    {
     "name": "stderr",
     "output_type": "stream",
     "text": [
      "train | loss: 0.5260: 100%|██████████| 7/7 [00:00<00:00, 206.85it/s]\n"
     ]
    },
    {
     "name": "stdout",
     "output_type": "stream",
     "text": [
      "Epoch [63/70], Train Loss: 0.5675\n",
      "Epoch [63/70], Val Loss: 0.4820\n"
     ]
    },
    {
     "name": "stderr",
     "output_type": "stream",
     "text": [
      "train | loss: 0.5496: 100%|██████████| 7/7 [00:00<00:00, 209.40it/s]\n"
     ]
    },
    {
     "name": "stdout",
     "output_type": "stream",
     "text": [
      "Epoch [64/70], Train Loss: 0.5590\n",
      "Epoch [64/70], Val Loss: 0.4798\n"
     ]
    },
    {
     "name": "stderr",
     "output_type": "stream",
     "text": [
      "train | loss: 0.5434: 100%|██████████| 7/7 [00:00<00:00, 202.90it/s]\n"
     ]
    },
    {
     "name": "stdout",
     "output_type": "stream",
     "text": [
      "Epoch [65/70], Train Loss: 0.5644\n",
      "Epoch [65/70], Val Loss: 0.4793\n"
     ]
    },
    {
     "name": "stderr",
     "output_type": "stream",
     "text": [
      "train | loss: 0.5541: 100%|██████████| 7/7 [00:00<00:00, 186.59it/s]\n"
     ]
    },
    {
     "name": "stdout",
     "output_type": "stream",
     "text": [
      "Epoch [66/70], Train Loss: 0.5671\n",
      "Epoch [66/70], Val Loss: 0.4771\n"
     ]
    },
    {
     "name": "stderr",
     "output_type": "stream",
     "text": [
      "train | loss: 0.4755: 100%|██████████| 7/7 [00:00<00:00, 221.28it/s]\n"
     ]
    },
    {
     "name": "stdout",
     "output_type": "stream",
     "text": [
      "Epoch [67/70], Train Loss: 0.5513\n",
      "Epoch [67/70], Val Loss: 0.4767\n"
     ]
    },
    {
     "name": "stderr",
     "output_type": "stream",
     "text": [
      "train | loss: 0.5380: 100%|██████████| 7/7 [00:00<00:00, 226.97it/s]\n"
     ]
    },
    {
     "name": "stdout",
     "output_type": "stream",
     "text": [
      "Epoch [68/70], Train Loss: 0.5505\n",
      "Epoch [68/70], Val Loss: 0.4764\n"
     ]
    },
    {
     "name": "stderr",
     "output_type": "stream",
     "text": [
      "train | loss: 0.5491: 100%|██████████| 7/7 [00:00<00:00, 229.67it/s]\n"
     ]
    },
    {
     "name": "stdout",
     "output_type": "stream",
     "text": [
      "Epoch [69/70], Train Loss: 0.5642\n",
      "Epoch [69/70], Val Loss: 0.4755\n"
     ]
    },
    {
     "name": "stderr",
     "output_type": "stream",
     "text": [
      "train | loss: 0.5591: 100%|██████████| 7/7 [00:00<00:00, 211.68it/s]\n"
     ]
    },
    {
     "name": "stdout",
     "output_type": "stream",
     "text": [
      "Epoch [70/70], Train Loss: 0.5652\n",
      "Epoch [70/70], Val Loss: 0.4758\n",
      "big loop: 6\n"
     ]
    },
    {
     "name": "stderr",
     "output_type": "stream",
     "text": [
      "train | loss: 3.7688: 100%|██████████| 7/7 [00:00<00:00, 45.44it/s]"
     ]
    },
    {
     "name": "stdout",
     "output_type": "stream",
     "text": [
      "Epoch [1/70], Train Loss: 2.2607\n"
     ]
    },
    {
     "name": "stderr",
     "output_type": "stream",
     "text": [
      "\n"
     ]
    },
    {
     "name": "stdout",
     "output_type": "stream",
     "text": [
      "Epoch [1/70], Val Loss: 1.0552\n"
     ]
    },
    {
     "name": "stderr",
     "output_type": "stream",
     "text": [
      "train | loss: 1.4224: 100%|██████████| 7/7 [00:00<00:00, 195.51it/s]\n"
     ]
    },
    {
     "name": "stdout",
     "output_type": "stream",
     "text": [
      "Epoch [2/70], Train Loss: 1.3445\n",
      "Epoch [2/70], Val Loss: 0.8726\n"
     ]
    },
    {
     "name": "stderr",
     "output_type": "stream",
     "text": [
      "train | loss: 1.1619: 100%|██████████| 7/7 [00:00<00:00, 183.71it/s]\n"
     ]
    },
    {
     "name": "stdout",
     "output_type": "stream",
     "text": [
      "Epoch [3/70], Train Loss: 1.1599\n",
      "Epoch [3/70], Val Loss: 0.7341\n"
     ]
    },
    {
     "name": "stderr",
     "output_type": "stream",
     "text": [
      "train | loss: 1.0540: 100%|██████████| 7/7 [00:00<00:00, 191.71it/s]\n"
     ]
    },
    {
     "name": "stdout",
     "output_type": "stream",
     "text": [
      "Epoch [4/70], Train Loss: 1.0581\n",
      "Epoch [4/70], Val Loss: 0.6878\n"
     ]
    },
    {
     "name": "stderr",
     "output_type": "stream",
     "text": [
      "train | loss: 1.0392: 100%|██████████| 7/7 [00:00<00:00, 228.99it/s]"
     ]
    },
    {
     "name": "stdout",
     "output_type": "stream",
     "text": [
      "Epoch [5/70], Train Loss: 1.0096\n"
     ]
    },
    {
     "name": "stderr",
     "output_type": "stream",
     "text": [
      "\n"
     ]
    },
    {
     "name": "stdout",
     "output_type": "stream",
     "text": [
      "Epoch [5/70], Val Loss: 0.6457\n"
     ]
    },
    {
     "name": "stderr",
     "output_type": "stream",
     "text": [
      "train | loss: 0.9843: 100%|██████████| 7/7 [00:00<00:00, 190.38it/s]\n"
     ]
    },
    {
     "name": "stdout",
     "output_type": "stream",
     "text": [
      "Epoch [6/70], Train Loss: 0.9598\n",
      "Epoch [6/70], Val Loss: 0.6230\n"
     ]
    },
    {
     "name": "stderr",
     "output_type": "stream",
     "text": [
      "train | loss: 0.9075: 100%|██████████| 7/7 [00:00<00:00, 205.07it/s]\n"
     ]
    },
    {
     "name": "stdout",
     "output_type": "stream",
     "text": [
      "Epoch [7/70], Train Loss: 0.9314\n",
      "Epoch [7/70], Val Loss: 0.6098\n"
     ]
    },
    {
     "name": "stderr",
     "output_type": "stream",
     "text": [
      "train | loss: 0.8878: 100%|██████████| 7/7 [00:00<00:00, 222.06it/s]\n"
     ]
    },
    {
     "name": "stdout",
     "output_type": "stream",
     "text": [
      "Epoch [8/70], Train Loss: 0.8977\n",
      "Epoch [8/70], Val Loss: 0.5970\n"
     ]
    },
    {
     "name": "stderr",
     "output_type": "stream",
     "text": [
      "train | loss: 0.8777: 100%|██████████| 7/7 [00:00<00:00, 208.13it/s]\n"
     ]
    },
    {
     "name": "stdout",
     "output_type": "stream",
     "text": [
      "Epoch [9/70], Train Loss: 0.8789\n",
      "Epoch [9/70], Val Loss: 0.5873\n"
     ]
    },
    {
     "name": "stderr",
     "output_type": "stream",
     "text": [
      "train | loss: 0.9022: 100%|██████████| 7/7 [00:00<00:00, 191.69it/s]\n"
     ]
    },
    {
     "name": "stdout",
     "output_type": "stream",
     "text": [
      "Epoch [10/70], Train Loss: 0.8556\n",
      "Epoch [10/70], Val Loss: 0.5799\n"
     ]
    },
    {
     "name": "stderr",
     "output_type": "stream",
     "text": [
      "train | loss: 0.8735: 100%|██████████| 7/7 [00:00<00:00, 208.72it/s]\n"
     ]
    },
    {
     "name": "stdout",
     "output_type": "stream",
     "text": [
      "Epoch [11/70], Train Loss: 0.8517\n",
      "Epoch [11/70], Val Loss: 0.5728\n"
     ]
    },
    {
     "name": "stderr",
     "output_type": "stream",
     "text": [
      "train | loss: 0.8288: 100%|██████████| 7/7 [00:00<00:00, 236.82it/s]\n"
     ]
    },
    {
     "name": "stdout",
     "output_type": "stream",
     "text": [
      "Epoch [12/70], Train Loss: 0.8230\n",
      "Epoch [12/70], Val Loss: 0.5667\n"
     ]
    },
    {
     "name": "stderr",
     "output_type": "stream",
     "text": [
      "train | loss: 0.8545: 100%|██████████| 7/7 [00:00<00:00, 237.09it/s]\n"
     ]
    },
    {
     "name": "stdout",
     "output_type": "stream",
     "text": [
      "Epoch [13/70], Train Loss: 0.8168\n",
      "Epoch [13/70], Val Loss: 0.5609\n"
     ]
    },
    {
     "name": "stderr",
     "output_type": "stream",
     "text": [
      "train | loss: 0.8276: 100%|██████████| 7/7 [00:00<00:00, 219.13it/s]\n"
     ]
    },
    {
     "name": "stdout",
     "output_type": "stream",
     "text": [
      "Epoch [14/70], Train Loss: 0.7985\n",
      "Epoch [14/70], Val Loss: 0.5564\n"
     ]
    },
    {
     "name": "stderr",
     "output_type": "stream",
     "text": [
      "train | loss: 0.7737: 100%|██████████| 7/7 [00:00<00:00, 223.94it/s]\n"
     ]
    },
    {
     "name": "stdout",
     "output_type": "stream",
     "text": [
      "Epoch [15/70], Train Loss: 0.8010\n",
      "Epoch [15/70], Val Loss: 0.5524\n"
     ]
    },
    {
     "name": "stderr",
     "output_type": "stream",
     "text": [
      "train | loss: 0.7269: 100%|██████████| 7/7 [00:00<00:00, 203.36it/s]\n"
     ]
    },
    {
     "name": "stdout",
     "output_type": "stream",
     "text": [
      "Epoch [16/70], Train Loss: 0.7875\n",
      "Epoch [16/70], Val Loss: 0.5503\n"
     ]
    },
    {
     "name": "stderr",
     "output_type": "stream",
     "text": [
      "train | loss: 0.7926: 100%|██████████| 7/7 [00:00<00:00, 263.24it/s]\n"
     ]
    },
    {
     "name": "stdout",
     "output_type": "stream",
     "text": [
      "Epoch [17/70], Train Loss: 0.7666\n",
      "Epoch [17/70], Val Loss: 0.5440\n"
     ]
    },
    {
     "name": "stderr",
     "output_type": "stream",
     "text": [
      "train | loss: 0.7243: 100%|██████████| 7/7 [00:00<00:00, 230.09it/s]\n"
     ]
    },
    {
     "name": "stdout",
     "output_type": "stream",
     "text": [
      "Epoch [18/70], Train Loss: 0.7521\n",
      "Epoch [18/70], Val Loss: 0.5409\n"
     ]
    },
    {
     "name": "stderr",
     "output_type": "stream",
     "text": [
      "train | loss: 0.8124: 100%|██████████| 7/7 [00:00<00:00, 228.56it/s]\n"
     ]
    },
    {
     "name": "stdout",
     "output_type": "stream",
     "text": [
      "Epoch [19/70], Train Loss: 0.7288\n",
      "Epoch [19/70], Val Loss: 0.5366\n"
     ]
    },
    {
     "name": "stderr",
     "output_type": "stream",
     "text": [
      "train | loss: 0.6505: 100%|██████████| 7/7 [00:00<00:00, 234.13it/s]\n"
     ]
    },
    {
     "name": "stdout",
     "output_type": "stream",
     "text": [
      "Epoch [20/70], Train Loss: 0.7161\n",
      "Epoch [20/70], Val Loss: 0.5330\n"
     ]
    },
    {
     "name": "stderr",
     "output_type": "stream",
     "text": [
      "train | loss: 0.6678: 100%|██████████| 7/7 [00:00<00:00, 236.97it/s]\n"
     ]
    },
    {
     "name": "stdout",
     "output_type": "stream",
     "text": [
      "Epoch [21/70], Train Loss: 0.7433\n",
      "Epoch [21/70], Val Loss: 0.5312\n"
     ]
    },
    {
     "name": "stderr",
     "output_type": "stream",
     "text": [
      "train | loss: 0.7271: 100%|██████████| 7/7 [00:00<00:00, 231.43it/s]\n"
     ]
    },
    {
     "name": "stdout",
     "output_type": "stream",
     "text": [
      "Epoch [22/70], Train Loss: 0.7118\n",
      "Epoch [22/70], Val Loss: 0.5307\n"
     ]
    },
    {
     "name": "stderr",
     "output_type": "stream",
     "text": [
      "train | loss: 0.7446: 100%|██████████| 7/7 [00:00<00:00, 84.47it/s]\n"
     ]
    },
    {
     "name": "stdout",
     "output_type": "stream",
     "text": [
      "Epoch [23/70], Train Loss: 0.7083\n",
      "Epoch [23/70], Val Loss: 0.5258\n"
     ]
    },
    {
     "name": "stderr",
     "output_type": "stream",
     "text": [
      "train | loss: 0.6901: 100%|██████████| 7/7 [00:00<00:00, 115.93it/s]\n"
     ]
    },
    {
     "name": "stdout",
     "output_type": "stream",
     "text": [
      "Epoch [24/70], Train Loss: 0.6934\n",
      "Epoch [24/70], Val Loss: 0.5224\n"
     ]
    },
    {
     "name": "stderr",
     "output_type": "stream",
     "text": [
      "train | loss: 0.6769: 100%|██████████| 7/7 [00:00<00:00, 191.28it/s]\n"
     ]
    },
    {
     "name": "stdout",
     "output_type": "stream",
     "text": [
      "Epoch [25/70], Train Loss: 0.6991\n",
      "Epoch [25/70], Val Loss: 0.5190\n"
     ]
    },
    {
     "name": "stderr",
     "output_type": "stream",
     "text": [
      "train | loss: 0.6944: 100%|██████████| 7/7 [00:00<00:00, 211.75it/s]\n"
     ]
    },
    {
     "name": "stdout",
     "output_type": "stream",
     "text": [
      "Epoch [26/70], Train Loss: 0.6885\n",
      "Epoch [26/70], Val Loss: 0.5169\n"
     ]
    },
    {
     "name": "stderr",
     "output_type": "stream",
     "text": [
      "train | loss: 0.6739: 100%|██████████| 7/7 [00:00<00:00, 229.19it/s]\n"
     ]
    },
    {
     "name": "stdout",
     "output_type": "stream",
     "text": [
      "Epoch [27/70], Train Loss: 0.6793\n",
      "Epoch [27/70], Val Loss: 0.5135\n"
     ]
    },
    {
     "name": "stderr",
     "output_type": "stream",
     "text": [
      "train | loss: 0.6906: 100%|██████████| 7/7 [00:00<00:00, 225.04it/s]\n"
     ]
    },
    {
     "name": "stdout",
     "output_type": "stream",
     "text": [
      "Epoch [28/70], Train Loss: 0.6586\n",
      "Epoch [28/70], Val Loss: 0.5112\n"
     ]
    },
    {
     "name": "stderr",
     "output_type": "stream",
     "text": [
      "train | loss: 0.6330: 100%|██████████| 7/7 [00:00<00:00, 252.23it/s]\n"
     ]
    },
    {
     "name": "stdout",
     "output_type": "stream",
     "text": [
      "Epoch [29/70], Train Loss: 0.6592\n",
      "Epoch [29/70], Val Loss: 0.5092\n"
     ]
    },
    {
     "name": "stderr",
     "output_type": "stream",
     "text": [
      "train | loss: 0.7381: 100%|██████████| 7/7 [00:00<00:00, 217.12it/s]\n"
     ]
    },
    {
     "name": "stdout",
     "output_type": "stream",
     "text": [
      "Epoch [30/70], Train Loss: 0.6435\n",
      "Epoch [30/70], Val Loss: 0.5088\n"
     ]
    },
    {
     "name": "stderr",
     "output_type": "stream",
     "text": [
      "train | loss: 0.6924: 100%|██████████| 7/7 [00:00<00:00, 245.56it/s]\n"
     ]
    },
    {
     "name": "stdout",
     "output_type": "stream",
     "text": [
      "Epoch [31/70], Train Loss: 0.6390\n",
      "Epoch [31/70], Val Loss: 0.5059\n"
     ]
    },
    {
     "name": "stderr",
     "output_type": "stream",
     "text": [
      "train | loss: 0.6226: 100%|██████████| 7/7 [00:00<00:00, 260.28it/s]\n"
     ]
    },
    {
     "name": "stdout",
     "output_type": "stream",
     "text": [
      "Epoch [32/70], Train Loss: 0.6455\n",
      "Epoch [32/70], Val Loss: 0.5034\n"
     ]
    },
    {
     "name": "stderr",
     "output_type": "stream",
     "text": [
      "train | loss: 0.6144: 100%|██████████| 7/7 [00:00<00:00, 208.66it/s]\n"
     ]
    },
    {
     "name": "stdout",
     "output_type": "stream",
     "text": [
      "Epoch [33/70], Train Loss: 0.6187\n",
      "Epoch [33/70], Val Loss: 0.5035\n"
     ]
    },
    {
     "name": "stderr",
     "output_type": "stream",
     "text": [
      "train | loss: 0.6641: 100%|██████████| 7/7 [00:00<00:00, 238.87it/s]\n"
     ]
    },
    {
     "name": "stdout",
     "output_type": "stream",
     "text": [
      "Epoch [34/70], Train Loss: 0.6348\n",
      "Epoch [34/70], Val Loss: 0.4997\n"
     ]
    },
    {
     "name": "stderr",
     "output_type": "stream",
     "text": [
      "train | loss: 0.5681: 100%|██████████| 7/7 [00:00<00:00, 224.40it/s]\n"
     ]
    },
    {
     "name": "stdout",
     "output_type": "stream",
     "text": [
      "Epoch [35/70], Train Loss: 0.6354\n",
      "Epoch [35/70], Val Loss: 0.4980\n"
     ]
    },
    {
     "name": "stderr",
     "output_type": "stream",
     "text": [
      "train | loss: 0.6280: 100%|██████████| 7/7 [00:00<00:00, 224.73it/s]\n"
     ]
    },
    {
     "name": "stdout",
     "output_type": "stream",
     "text": [
      "Epoch [36/70], Train Loss: 0.6193\n",
      "Epoch [36/70], Val Loss: 0.4980\n"
     ]
    },
    {
     "name": "stderr",
     "output_type": "stream",
     "text": [
      "train | loss: 0.6292: 100%|██████████| 7/7 [00:00<00:00, 220.42it/s]\n"
     ]
    },
    {
     "name": "stdout",
     "output_type": "stream",
     "text": [
      "Epoch [37/70], Train Loss: 0.6098\n",
      "Epoch [37/70], Val Loss: 0.4963\n"
     ]
    },
    {
     "name": "stderr",
     "output_type": "stream",
     "text": [
      "train | loss: 0.6115: 100%|██████████| 7/7 [00:00<00:00, 242.77it/s]\n"
     ]
    },
    {
     "name": "stdout",
     "output_type": "stream",
     "text": [
      "Epoch [38/70], Train Loss: 0.6207\n",
      "Epoch [38/70], Val Loss: 0.4931\n"
     ]
    },
    {
     "name": "stderr",
     "output_type": "stream",
     "text": [
      "train | loss: 0.6271: 100%|██████████| 7/7 [00:00<00:00, 213.72it/s]\n"
     ]
    },
    {
     "name": "stdout",
     "output_type": "stream",
     "text": [
      "Epoch [39/70], Train Loss: 0.6148\n",
      "Epoch [39/70], Val Loss: 0.4927\n"
     ]
    },
    {
     "name": "stderr",
     "output_type": "stream",
     "text": [
      "train | loss: 0.5947: 100%|██████████| 7/7 [00:00<00:00, 210.04it/s]\n"
     ]
    },
    {
     "name": "stdout",
     "output_type": "stream",
     "text": [
      "Epoch [40/70], Train Loss: 0.6088\n",
      "Epoch [40/70], Val Loss: 0.4895\n"
     ]
    },
    {
     "name": "stderr",
     "output_type": "stream",
     "text": [
      "train | loss: 0.5574: 100%|██████████| 7/7 [00:00<00:00, 151.43it/s]\n"
     ]
    },
    {
     "name": "stdout",
     "output_type": "stream",
     "text": [
      "Epoch [41/70], Train Loss: 0.5963\n",
      "Epoch [41/70], Val Loss: 0.4886\n"
     ]
    },
    {
     "name": "stderr",
     "output_type": "stream",
     "text": [
      "train | loss: 0.5990: 100%|██████████| 7/7 [00:00<00:00, 93.32it/s]\n"
     ]
    },
    {
     "name": "stdout",
     "output_type": "stream",
     "text": [
      "Epoch [42/70], Train Loss: 0.5831\n",
      "Epoch [42/70], Val Loss: 0.4876\n"
     ]
    },
    {
     "name": "stderr",
     "output_type": "stream",
     "text": [
      "train | loss: 0.5373: 100%|██████████| 7/7 [00:00<00:00, 229.05it/s]\n"
     ]
    },
    {
     "name": "stdout",
     "output_type": "stream",
     "text": [
      "Epoch [43/70], Train Loss: 0.5965\n",
      "Epoch [43/70], Val Loss: 0.4867\n"
     ]
    },
    {
     "name": "stderr",
     "output_type": "stream",
     "text": [
      "train | loss: 0.6170: 100%|██████████| 7/7 [00:00<00:00, 178.15it/s]\n"
     ]
    },
    {
     "name": "stdout",
     "output_type": "stream",
     "text": [
      "Epoch [44/70], Train Loss: 0.5891\n",
      "Epoch [44/70], Val Loss: 0.4864\n"
     ]
    },
    {
     "name": "stderr",
     "output_type": "stream",
     "text": [
      "train | loss: 0.5695: 100%|██████████| 7/7 [00:00<00:00, 213.13it/s]\n"
     ]
    },
    {
     "name": "stdout",
     "output_type": "stream",
     "text": [
      "Epoch [45/70], Train Loss: 0.5936\n",
      "Epoch [45/70], Val Loss: 0.4840\n"
     ]
    },
    {
     "name": "stderr",
     "output_type": "stream",
     "text": [
      "train | loss: 0.5735: 100%|██████████| 7/7 [00:00<00:00, 220.84it/s]\n"
     ]
    },
    {
     "name": "stdout",
     "output_type": "stream",
     "text": [
      "Epoch [46/70], Train Loss: 0.5742\n",
      "Epoch [46/70], Val Loss: 0.4820\n"
     ]
    },
    {
     "name": "stderr",
     "output_type": "stream",
     "text": [
      "train | loss: 0.5761: 100%|██████████| 7/7 [00:00<00:00, 223.77it/s]\n"
     ]
    },
    {
     "name": "stdout",
     "output_type": "stream",
     "text": [
      "Epoch [47/70], Train Loss: 0.5737\n",
      "Epoch [47/70], Val Loss: 0.4806\n"
     ]
    },
    {
     "name": "stderr",
     "output_type": "stream",
     "text": [
      "train | loss: 0.5280: 100%|██████████| 7/7 [00:00<00:00, 221.13it/s]\n"
     ]
    },
    {
     "name": "stdout",
     "output_type": "stream",
     "text": [
      "Epoch [48/70], Train Loss: 0.5883\n",
      "Epoch [48/70], Val Loss: 0.4785\n"
     ]
    },
    {
     "name": "stderr",
     "output_type": "stream",
     "text": [
      "train | loss: 0.5820: 100%|██████████| 7/7 [00:00<00:00, 224.96it/s]\n"
     ]
    },
    {
     "name": "stdout",
     "output_type": "stream",
     "text": [
      "Epoch [49/70], Train Loss: 0.5696\n",
      "Epoch [49/70], Val Loss: 0.4783\n"
     ]
    },
    {
     "name": "stderr",
     "output_type": "stream",
     "text": [
      "train | loss: 0.6007: 100%|██████████| 7/7 [00:00<00:00, 230.55it/s]\n"
     ]
    },
    {
     "name": "stdout",
     "output_type": "stream",
     "text": [
      "Epoch [50/70], Train Loss: 0.5735\n",
      "Epoch [50/70], Val Loss: 0.4773\n"
     ]
    },
    {
     "name": "stderr",
     "output_type": "stream",
     "text": [
      "train | loss: 0.5301: 100%|██████████| 7/7 [00:00<00:00, 261.96it/s]\n"
     ]
    },
    {
     "name": "stdout",
     "output_type": "stream",
     "text": [
      "Epoch [51/70], Train Loss: 0.5797\n",
      "Epoch [51/70], Val Loss: 0.4761\n"
     ]
    },
    {
     "name": "stderr",
     "output_type": "stream",
     "text": [
      "train | loss: 0.6086: 100%|██████████| 7/7 [00:00<00:00, 235.84it/s]\n"
     ]
    },
    {
     "name": "stdout",
     "output_type": "stream",
     "text": [
      "Epoch [52/70], Train Loss: 0.5574\n",
      "Epoch [52/70], Val Loss: 0.4762\n"
     ]
    },
    {
     "name": "stderr",
     "output_type": "stream",
     "text": [
      "train | loss: 0.5386: 100%|██████████| 7/7 [00:00<00:00, 245.48it/s]\n"
     ]
    },
    {
     "name": "stdout",
     "output_type": "stream",
     "text": [
      "Epoch [53/70], Train Loss: 0.5708\n",
      "Epoch [53/70], Val Loss: 0.4737\n"
     ]
    },
    {
     "name": "stderr",
     "output_type": "stream",
     "text": [
      "train | loss: 0.6356: 100%|██████████| 7/7 [00:00<00:00, 232.38it/s]\n"
     ]
    },
    {
     "name": "stdout",
     "output_type": "stream",
     "text": [
      "Epoch [54/70], Train Loss: 0.5752\n",
      "Epoch [54/70], Val Loss: 0.4723\n"
     ]
    },
    {
     "name": "stderr",
     "output_type": "stream",
     "text": [
      "train | loss: 0.5327: 100%|██████████| 7/7 [00:00<00:00, 190.84it/s]\n"
     ]
    },
    {
     "name": "stdout",
     "output_type": "stream",
     "text": [
      "Epoch [55/70], Train Loss: 0.5539\n",
      "Epoch [55/70], Val Loss: 0.4729\n"
     ]
    },
    {
     "name": "stderr",
     "output_type": "stream",
     "text": [
      "train | loss: 0.5003: 100%|██████████| 7/7 [00:00<00:00, 241.72it/s]\n"
     ]
    },
    {
     "name": "stdout",
     "output_type": "stream",
     "text": [
      "Epoch [56/70], Train Loss: 0.5479\n",
      "Epoch [56/70], Val Loss: 0.4717\n"
     ]
    },
    {
     "name": "stderr",
     "output_type": "stream",
     "text": [
      "train | loss: 0.5182: 100%|██████████| 7/7 [00:00<00:00, 216.66it/s]\n"
     ]
    },
    {
     "name": "stdout",
     "output_type": "stream",
     "text": [
      "Epoch [57/70], Train Loss: 0.5553\n",
      "Epoch [57/70], Val Loss: 0.4726\n"
     ]
    },
    {
     "name": "stderr",
     "output_type": "stream",
     "text": [
      "train | loss: 0.5327: 100%|██████████| 7/7 [00:00<00:00, 187.63it/s]\n"
     ]
    },
    {
     "name": "stdout",
     "output_type": "stream",
     "text": [
      "Epoch [58/70], Train Loss: 0.5575\n",
      "Epoch [58/70], Val Loss: 0.4713\n"
     ]
    },
    {
     "name": "stderr",
     "output_type": "stream",
     "text": [
      "train | loss: 0.5368: 100%|██████████| 7/7 [00:00<00:00, 169.33it/s]\n"
     ]
    },
    {
     "name": "stdout",
     "output_type": "stream",
     "text": [
      "Epoch [59/70], Train Loss: 0.5569\n",
      "Epoch [59/70], Val Loss: 0.4680\n"
     ]
    },
    {
     "name": "stderr",
     "output_type": "stream",
     "text": [
      "train | loss: 0.5076: 100%|██████████| 7/7 [00:00<00:00, 214.29it/s]\n"
     ]
    },
    {
     "name": "stdout",
     "output_type": "stream",
     "text": [
      "Epoch [60/70], Train Loss: 0.5418\n",
      "Epoch [60/70], Val Loss: 0.4682\n"
     ]
    },
    {
     "name": "stderr",
     "output_type": "stream",
     "text": [
      "train | loss: 0.5464: 100%|██████████| 7/7 [00:00<00:00, 213.57it/s]\n"
     ]
    },
    {
     "name": "stdout",
     "output_type": "stream",
     "text": [
      "Epoch [61/70], Train Loss: 0.5522\n",
      "Epoch [61/70], Val Loss: 0.4660\n"
     ]
    },
    {
     "name": "stderr",
     "output_type": "stream",
     "text": [
      "train | loss: 0.4716: 100%|██████████| 7/7 [00:00<00:00, 191.31it/s]\n"
     ]
    },
    {
     "name": "stdout",
     "output_type": "stream",
     "text": [
      "Epoch [62/70], Train Loss: 0.5483\n",
      "Epoch [62/70], Val Loss: 0.4648\n"
     ]
    },
    {
     "name": "stderr",
     "output_type": "stream",
     "text": [
      "train | loss: 0.5466: 100%|██████████| 7/7 [00:00<00:00, 207.05it/s]\n"
     ]
    },
    {
     "name": "stdout",
     "output_type": "stream",
     "text": [
      "Epoch [63/70], Train Loss: 0.5475\n",
      "Epoch [63/70], Val Loss: 0.4649\n"
     ]
    },
    {
     "name": "stderr",
     "output_type": "stream",
     "text": [
      "train | loss: 0.5672: 100%|██████████| 7/7 [00:00<00:00, 219.14it/s]\n"
     ]
    },
    {
     "name": "stdout",
     "output_type": "stream",
     "text": [
      "Epoch [64/70], Train Loss: 0.5405\n",
      "Epoch [64/70], Val Loss: 0.4634\n"
     ]
    },
    {
     "name": "stderr",
     "output_type": "stream",
     "text": [
      "train | loss: 0.5167: 100%|██████████| 7/7 [00:00<00:00, 232.60it/s]\n"
     ]
    },
    {
     "name": "stdout",
     "output_type": "stream",
     "text": [
      "Epoch [65/70], Train Loss: 0.5628\n",
      "Epoch [65/70], Val Loss: 0.4625\n"
     ]
    },
    {
     "name": "stderr",
     "output_type": "stream",
     "text": [
      "train | loss: 0.5063: 100%|██████████| 7/7 [00:00<00:00, 220.46it/s]\n"
     ]
    },
    {
     "name": "stdout",
     "output_type": "stream",
     "text": [
      "Epoch [66/70], Train Loss: 0.5461\n",
      "Epoch [66/70], Val Loss: 0.4629\n"
     ]
    },
    {
     "name": "stderr",
     "output_type": "stream",
     "text": [
      "train | loss: 0.5462: 100%|██████████| 7/7 [00:00<00:00, 143.60it/s]\n"
     ]
    },
    {
     "name": "stdout",
     "output_type": "stream",
     "text": [
      "Epoch [67/70], Train Loss: 0.5399\n",
      "Epoch [67/70], Val Loss: 0.4613\n"
     ]
    },
    {
     "name": "stderr",
     "output_type": "stream",
     "text": [
      "train | loss: 0.5638: 100%|██████████| 7/7 [00:00<00:00, 50.78it/s]\n"
     ]
    },
    {
     "name": "stdout",
     "output_type": "stream",
     "text": [
      "Epoch [68/70], Train Loss: 0.5400\n",
      "Epoch [68/70], Val Loss: 0.4615\n"
     ]
    },
    {
     "name": "stderr",
     "output_type": "stream",
     "text": [
      "train | loss: 0.4507: 100%|██████████| 7/7 [00:00<00:00, 213.17it/s]"
     ]
    },
    {
     "name": "stdout",
     "output_type": "stream",
     "text": [
      "Epoch [69/70], Train Loss: 0.5326\n"
     ]
    },
    {
     "name": "stderr",
     "output_type": "stream",
     "text": [
      "\n"
     ]
    },
    {
     "name": "stdout",
     "output_type": "stream",
     "text": [
      "Epoch [69/70], Val Loss: 0.4610\n"
     ]
    },
    {
     "name": "stderr",
     "output_type": "stream",
     "text": [
      "train | loss: 0.5104: 100%|██████████| 7/7 [00:00<00:00, 179.45it/s]\n"
     ]
    },
    {
     "name": "stdout",
     "output_type": "stream",
     "text": [
      "Epoch [70/70], Train Loss: 0.5335\n",
      "Epoch [70/70], Val Loss: 0.4592\n",
      "big loop: 7\n"
     ]
    },
    {
     "name": "stderr",
     "output_type": "stream",
     "text": [
      "train | loss: 4.2437: 100%|██████████| 7/7 [00:00<00:00, 181.68it/s]"
     ]
    },
    {
     "name": "stdout",
     "output_type": "stream",
     "text": [
      "Epoch [1/70], Train Loss: 2.5725\n"
     ]
    },
    {
     "name": "stderr",
     "output_type": "stream",
     "text": [
      "\n"
     ]
    },
    {
     "name": "stdout",
     "output_type": "stream",
     "text": [
      "Epoch [1/70], Val Loss: 1.1215\n"
     ]
    },
    {
     "name": "stderr",
     "output_type": "stream",
     "text": [
      "train | loss: 1.5535: 100%|██████████| 7/7 [00:00<00:00, 206.91it/s]\n"
     ]
    },
    {
     "name": "stdout",
     "output_type": "stream",
     "text": [
      "Epoch [2/70], Train Loss: 1.3503\n",
      "Epoch [2/70], Val Loss: 0.8913\n"
     ]
    },
    {
     "name": "stderr",
     "output_type": "stream",
     "text": [
      "train | loss: 1.3770: 100%|██████████| 7/7 [00:00<00:00, 220.47it/s]\n"
     ]
    },
    {
     "name": "stdout",
     "output_type": "stream",
     "text": [
      "Epoch [3/70], Train Loss: 1.1959\n",
      "Epoch [3/70], Val Loss: 0.8038\n"
     ]
    },
    {
     "name": "stderr",
     "output_type": "stream",
     "text": [
      "train | loss: 1.1392: 100%|██████████| 7/7 [00:00<00:00, 183.45it/s]\n"
     ]
    },
    {
     "name": "stdout",
     "output_type": "stream",
     "text": [
      "Epoch [4/70], Train Loss: 1.0985\n",
      "Epoch [4/70], Val Loss: 0.7190\n"
     ]
    },
    {
     "name": "stderr",
     "output_type": "stream",
     "text": [
      "train | loss: 1.1833: 100%|██████████| 7/7 [00:00<00:00, 224.63it/s]\n"
     ]
    },
    {
     "name": "stdout",
     "output_type": "stream",
     "text": [
      "Epoch [5/70], Train Loss: 1.0476\n",
      "Epoch [5/70], Val Loss: 0.6784\n"
     ]
    },
    {
     "name": "stderr",
     "output_type": "stream",
     "text": [
      "train | loss: 0.9945: 100%|██████████| 7/7 [00:00<00:00, 208.17it/s]\n"
     ]
    },
    {
     "name": "stdout",
     "output_type": "stream",
     "text": [
      "Epoch [6/70], Train Loss: 0.9953\n",
      "Epoch [6/70], Val Loss: 0.6515\n"
     ]
    },
    {
     "name": "stderr",
     "output_type": "stream",
     "text": [
      "train | loss: 0.9914: 100%|██████████| 7/7 [00:00<00:00, 215.58it/s]\n"
     ]
    },
    {
     "name": "stdout",
     "output_type": "stream",
     "text": [
      "Epoch [7/70], Train Loss: 0.9740\n",
      "Epoch [7/70], Val Loss: 0.6339\n"
     ]
    },
    {
     "name": "stderr",
     "output_type": "stream",
     "text": [
      "train | loss: 0.9028: 100%|██████████| 7/7 [00:00<00:00, 208.12it/s]\n"
     ]
    },
    {
     "name": "stdout",
     "output_type": "stream",
     "text": [
      "Epoch [8/70], Train Loss: 0.9265\n",
      "Epoch [8/70], Val Loss: 0.6205\n"
     ]
    },
    {
     "name": "stderr",
     "output_type": "stream",
     "text": [
      "train | loss: 0.9268: 100%|██████████| 7/7 [00:00<00:00, 203.10it/s]\n"
     ]
    },
    {
     "name": "stdout",
     "output_type": "stream",
     "text": [
      "Epoch [9/70], Train Loss: 0.9127\n",
      "Epoch [9/70], Val Loss: 0.6102\n"
     ]
    },
    {
     "name": "stderr",
     "output_type": "stream",
     "text": [
      "train | loss: 0.9770: 100%|██████████| 7/7 [00:00<00:00, 189.75it/s]\n"
     ]
    },
    {
     "name": "stdout",
     "output_type": "stream",
     "text": [
      "Epoch [10/70], Train Loss: 0.8918\n",
      "Epoch [10/70], Val Loss: 0.6027\n"
     ]
    },
    {
     "name": "stderr",
     "output_type": "stream",
     "text": [
      "train | loss: 0.8812: 100%|██████████| 7/7 [00:00<00:00, 191.70it/s]\n"
     ]
    },
    {
     "name": "stdout",
     "output_type": "stream",
     "text": [
      "Epoch [11/70], Train Loss: 0.8517\n",
      "Epoch [11/70], Val Loss: 0.5947\n"
     ]
    },
    {
     "name": "stderr",
     "output_type": "stream",
     "text": [
      "train | loss: 0.8820: 100%|██████████| 7/7 [00:00<00:00, 195.43it/s]\n"
     ]
    },
    {
     "name": "stdout",
     "output_type": "stream",
     "text": [
      "Epoch [12/70], Train Loss: 0.8562\n",
      "Epoch [12/70], Val Loss: 0.5894\n"
     ]
    },
    {
     "name": "stderr",
     "output_type": "stream",
     "text": [
      "train | loss: 0.8075: 100%|██████████| 7/7 [00:00<00:00, 159.18it/s]\n"
     ]
    },
    {
     "name": "stdout",
     "output_type": "stream",
     "text": [
      "Epoch [13/70], Train Loss: 0.8584\n",
      "Epoch [13/70], Val Loss: 0.5840\n"
     ]
    },
    {
     "name": "stderr",
     "output_type": "stream",
     "text": [
      "train | loss: 0.8282: 100%|██████████| 7/7 [00:00<00:00, 141.02it/s]\n"
     ]
    },
    {
     "name": "stdout",
     "output_type": "stream",
     "text": [
      "Epoch [14/70], Train Loss: 0.8161\n",
      "Epoch [14/70], Val Loss: 0.5794\n"
     ]
    },
    {
     "name": "stderr",
     "output_type": "stream",
     "text": [
      "train | loss: 0.7635: 100%|██████████| 7/7 [00:00<00:00, 127.93it/s]\n"
     ]
    },
    {
     "name": "stdout",
     "output_type": "stream",
     "text": [
      "Epoch [15/70], Train Loss: 0.8117\n",
      "Epoch [15/70], Val Loss: 0.5751\n"
     ]
    },
    {
     "name": "stderr",
     "output_type": "stream",
     "text": [
      "train | loss: 0.8567: 100%|██████████| 7/7 [00:00<00:00, 180.64it/s]\n"
     ]
    },
    {
     "name": "stdout",
     "output_type": "stream",
     "text": [
      "Epoch [16/70], Train Loss: 0.8094\n",
      "Epoch [16/70], Val Loss: 0.5693\n"
     ]
    },
    {
     "name": "stderr",
     "output_type": "stream",
     "text": [
      "train | loss: 0.7889: 100%|██████████| 7/7 [00:00<00:00, 197.64it/s]\n"
     ]
    },
    {
     "name": "stdout",
     "output_type": "stream",
     "text": [
      "Epoch [17/70], Train Loss: 0.7989\n",
      "Epoch [17/70], Val Loss: 0.5653\n"
     ]
    },
    {
     "name": "stderr",
     "output_type": "stream",
     "text": [
      "train | loss: 0.8188: 100%|██████████| 7/7 [00:00<00:00, 187.68it/s]\n"
     ]
    },
    {
     "name": "stdout",
     "output_type": "stream",
     "text": [
      "Epoch [18/70], Train Loss: 0.7682\n",
      "Epoch [18/70], Val Loss: 0.5616\n"
     ]
    },
    {
     "name": "stderr",
     "output_type": "stream",
     "text": [
      "train | loss: 0.7413: 100%|██████████| 7/7 [00:00<00:00, 164.66it/s]\n"
     ]
    },
    {
     "name": "stdout",
     "output_type": "stream",
     "text": [
      "Epoch [19/70], Train Loss: 0.7555\n",
      "Epoch [19/70], Val Loss: 0.5558\n"
     ]
    },
    {
     "name": "stderr",
     "output_type": "stream",
     "text": [
      "train | loss: 0.6972: 100%|██████████| 7/7 [00:00<00:00, 192.48it/s]\n"
     ]
    },
    {
     "name": "stdout",
     "output_type": "stream",
     "text": [
      "Epoch [20/70], Train Loss: 0.7620\n",
      "Epoch [20/70], Val Loss: 0.5526\n"
     ]
    },
    {
     "name": "stderr",
     "output_type": "stream",
     "text": [
      "train | loss: 0.6890: 100%|██████████| 7/7 [00:00<00:00, 206.53it/s]\n"
     ]
    },
    {
     "name": "stdout",
     "output_type": "stream",
     "text": [
      "Epoch [21/70], Train Loss: 0.7632\n",
      "Epoch [21/70], Val Loss: 0.5505\n"
     ]
    },
    {
     "name": "stderr",
     "output_type": "stream",
     "text": [
      "train | loss: 0.7388: 100%|██████████| 7/7 [00:00<00:00, 203.14it/s]\n"
     ]
    },
    {
     "name": "stdout",
     "output_type": "stream",
     "text": [
      "Epoch [22/70], Train Loss: 0.7436\n",
      "Epoch [22/70], Val Loss: 0.5465\n"
     ]
    },
    {
     "name": "stderr",
     "output_type": "stream",
     "text": [
      "train | loss: 0.6939: 100%|██████████| 7/7 [00:00<00:00, 221.10it/s]\n"
     ]
    },
    {
     "name": "stdout",
     "output_type": "stream",
     "text": [
      "Epoch [23/70], Train Loss: 0.7287\n",
      "Epoch [23/70], Val Loss: 0.5427\n"
     ]
    },
    {
     "name": "stderr",
     "output_type": "stream",
     "text": [
      "train | loss: 0.6855: 100%|██████████| 7/7 [00:00<00:00, 190.32it/s]\n"
     ]
    },
    {
     "name": "stdout",
     "output_type": "stream",
     "text": [
      "Epoch [24/70], Train Loss: 0.7107\n",
      "Epoch [24/70], Val Loss: 0.5408\n"
     ]
    },
    {
     "name": "stderr",
     "output_type": "stream",
     "text": [
      "train | loss: 0.7891: 100%|██████████| 7/7 [00:00<00:00, 196.30it/s]\n"
     ]
    },
    {
     "name": "stdout",
     "output_type": "stream",
     "text": [
      "Epoch [25/70], Train Loss: 0.7117\n",
      "Epoch [25/70], Val Loss: 0.5387\n"
     ]
    },
    {
     "name": "stderr",
     "output_type": "stream",
     "text": [
      "train | loss: 0.6918: 100%|██████████| 7/7 [00:00<00:00, 192.94it/s]\n"
     ]
    },
    {
     "name": "stdout",
     "output_type": "stream",
     "text": [
      "Epoch [26/70], Train Loss: 0.6914\n",
      "Epoch [26/70], Val Loss: 0.5356\n"
     ]
    },
    {
     "name": "stderr",
     "output_type": "stream",
     "text": [
      "train | loss: 0.7138: 100%|██████████| 7/7 [00:00<00:00, 215.93it/s]"
     ]
    },
    {
     "name": "stdout",
     "output_type": "stream",
     "text": [
      "Epoch [27/70], Train Loss: 0.6844\n"
     ]
    },
    {
     "name": "stderr",
     "output_type": "stream",
     "text": [
      "\n"
     ]
    },
    {
     "name": "stdout",
     "output_type": "stream",
     "text": [
      "Epoch [27/70], Val Loss: 0.5336\n"
     ]
    },
    {
     "name": "stderr",
     "output_type": "stream",
     "text": [
      "train | loss: 0.6451: 100%|██████████| 7/7 [00:00<00:00, 217.13it/s]\n"
     ]
    },
    {
     "name": "stdout",
     "output_type": "stream",
     "text": [
      "Epoch [28/70], Train Loss: 0.7011\n",
      "Epoch [28/70], Val Loss: 0.5307\n"
     ]
    },
    {
     "name": "stderr",
     "output_type": "stream",
     "text": [
      "train | loss: 0.7474: 100%|██████████| 7/7 [00:00<00:00, 218.66it/s]\n"
     ]
    },
    {
     "name": "stdout",
     "output_type": "stream",
     "text": [
      "Epoch [29/70], Train Loss: 0.6877\n",
      "Epoch [29/70], Val Loss: 0.5289\n"
     ]
    },
    {
     "name": "stderr",
     "output_type": "stream",
     "text": [
      "train | loss: 0.7017: 100%|██████████| 7/7 [00:00<00:00, 232.57it/s]\n"
     ]
    },
    {
     "name": "stdout",
     "output_type": "stream",
     "text": [
      "Epoch [30/70], Train Loss: 0.6677\n",
      "Epoch [30/70], Val Loss: 0.5266\n"
     ]
    },
    {
     "name": "stderr",
     "output_type": "stream",
     "text": [
      "train | loss: 0.6954: 100%|██████████| 7/7 [00:00<00:00, 235.65it/s]\n"
     ]
    },
    {
     "name": "stdout",
     "output_type": "stream",
     "text": [
      "Epoch [31/70], Train Loss: 0.6621\n",
      "Epoch [31/70], Val Loss: 0.5239\n"
     ]
    },
    {
     "name": "stderr",
     "output_type": "stream",
     "text": [
      "train | loss: 0.6753: 100%|██████████| 7/7 [00:00<00:00, 230.01it/s]\n"
     ]
    },
    {
     "name": "stdout",
     "output_type": "stream",
     "text": [
      "Epoch [32/70], Train Loss: 0.6687\n",
      "Epoch [32/70], Val Loss: 0.5213\n"
     ]
    },
    {
     "name": "stderr",
     "output_type": "stream",
     "text": [
      "train | loss: 0.6359: 100%|██████████| 7/7 [00:00<00:00, 231.29it/s]\n"
     ]
    },
    {
     "name": "stdout",
     "output_type": "stream",
     "text": [
      "Epoch [33/70], Train Loss: 0.6803\n",
      "Epoch [33/70], Val Loss: 0.5196\n"
     ]
    },
    {
     "name": "stderr",
     "output_type": "stream",
     "text": [
      "train | loss: 0.6106: 100%|██████████| 7/7 [00:00<00:00, 206.38it/s]\n"
     ]
    },
    {
     "name": "stdout",
     "output_type": "stream",
     "text": [
      "Epoch [34/70], Train Loss: 0.6784\n",
      "Epoch [34/70], Val Loss: 0.5193\n"
     ]
    },
    {
     "name": "stderr",
     "output_type": "stream",
     "text": [
      "train | loss: 0.6396: 100%|██████████| 7/7 [00:00<00:00, 229.49it/s]\n"
     ]
    },
    {
     "name": "stdout",
     "output_type": "stream",
     "text": [
      "Epoch [35/70], Train Loss: 0.6633\n",
      "Epoch [35/70], Val Loss: 0.5170\n"
     ]
    },
    {
     "name": "stderr",
     "output_type": "stream",
     "text": [
      "train | loss: 0.6947: 100%|██████████| 7/7 [00:00<00:00, 188.14it/s]\n"
     ]
    },
    {
     "name": "stdout",
     "output_type": "stream",
     "text": [
      "Epoch [36/70], Train Loss: 0.6344\n",
      "Epoch [36/70], Val Loss: 0.5127\n"
     ]
    },
    {
     "name": "stderr",
     "output_type": "stream",
     "text": [
      "train | loss: 0.7528: 100%|██████████| 7/7 [00:00<00:00, 216.02it/s]\n"
     ]
    },
    {
     "name": "stdout",
     "output_type": "stream",
     "text": [
      "Epoch [37/70], Train Loss: 0.6392\n",
      "Epoch [37/70], Val Loss: 0.5121\n"
     ]
    },
    {
     "name": "stderr",
     "output_type": "stream",
     "text": [
      "train | loss: 0.6373: 100%|██████████| 7/7 [00:00<00:00, 169.71it/s]\n"
     ]
    },
    {
     "name": "stdout",
     "output_type": "stream",
     "text": [
      "Epoch [38/70], Train Loss: 0.6279\n",
      "Epoch [38/70], Val Loss: 0.5114\n"
     ]
    },
    {
     "name": "stderr",
     "output_type": "stream",
     "text": [
      "train | loss: 0.5907: 100%|██████████| 7/7 [00:00<00:00, 221.22it/s]\n"
     ]
    },
    {
     "name": "stdout",
     "output_type": "stream",
     "text": [
      "Epoch [39/70], Train Loss: 0.6341\n",
      "Epoch [39/70], Val Loss: 0.5109\n"
     ]
    },
    {
     "name": "stderr",
     "output_type": "stream",
     "text": [
      "train | loss: 0.5685: 100%|██████████| 7/7 [00:00<00:00, 207.49it/s]\n"
     ]
    },
    {
     "name": "stdout",
     "output_type": "stream",
     "text": [
      "Epoch [40/70], Train Loss: 0.6242\n",
      "Epoch [40/70], Val Loss: 0.5075\n"
     ]
    },
    {
     "name": "stderr",
     "output_type": "stream",
     "text": [
      "train | loss: 0.5612: 100%|██████████| 7/7 [00:00<00:00, 222.36it/s]\n"
     ]
    },
    {
     "name": "stdout",
     "output_type": "stream",
     "text": [
      "Epoch [41/70], Train Loss: 0.6231\n",
      "Epoch [41/70], Val Loss: 0.5059\n"
     ]
    },
    {
     "name": "stderr",
     "output_type": "stream",
     "text": [
      "train | loss: 0.6332: 100%|██████████| 7/7 [00:00<00:00, 216.80it/s]\n"
     ]
    },
    {
     "name": "stdout",
     "output_type": "stream",
     "text": [
      "Epoch [42/70], Train Loss: 0.6268\n",
      "Epoch [42/70], Val Loss: 0.5042\n"
     ]
    },
    {
     "name": "stderr",
     "output_type": "stream",
     "text": [
      "train | loss: 0.6253: 100%|██████████| 7/7 [00:00<00:00, 222.80it/s]\n"
     ]
    },
    {
     "name": "stdout",
     "output_type": "stream",
     "text": [
      "Epoch [43/70], Train Loss: 0.6092\n",
      "Epoch [43/70], Val Loss: 0.5052\n"
     ]
    },
    {
     "name": "stderr",
     "output_type": "stream",
     "text": [
      "train | loss: 0.5872: 100%|██████████| 7/7 [00:00<00:00, 160.85it/s]\n"
     ]
    },
    {
     "name": "stdout",
     "output_type": "stream",
     "text": [
      "Epoch [44/70], Train Loss: 0.6260\n",
      "Epoch [44/70], Val Loss: 0.5033\n"
     ]
    },
    {
     "name": "stderr",
     "output_type": "stream",
     "text": [
      "train | loss: 0.5589: 100%|██████████| 7/7 [00:00<00:00, 212.12it/s]\n"
     ]
    },
    {
     "name": "stdout",
     "output_type": "stream",
     "text": [
      "Epoch [45/70], Train Loss: 0.6215\n",
      "Epoch [45/70], Val Loss: 0.5003\n"
     ]
    },
    {
     "name": "stderr",
     "output_type": "stream",
     "text": [
      "train | loss: 0.6010: 100%|██████████| 7/7 [00:00<00:00, 216.25it/s]\n"
     ]
    },
    {
     "name": "stdout",
     "output_type": "stream",
     "text": [
      "Epoch [46/70], Train Loss: 0.6174\n",
      "Epoch [46/70], Val Loss: 0.5000\n"
     ]
    },
    {
     "name": "stderr",
     "output_type": "stream",
     "text": [
      "train | loss: 0.5451: 100%|██████████| 7/7 [00:00<00:00, 233.74it/s]\n"
     ]
    },
    {
     "name": "stdout",
     "output_type": "stream",
     "text": [
      "Epoch [47/70], Train Loss: 0.6051\n",
      "Epoch [47/70], Val Loss: 0.4999\n"
     ]
    },
    {
     "name": "stderr",
     "output_type": "stream",
     "text": [
      "train | loss: 0.6558: 100%|██████████| 7/7 [00:00<00:00, 238.19it/s]\n"
     ]
    },
    {
     "name": "stdout",
     "output_type": "stream",
     "text": [
      "Epoch [48/70], Train Loss: 0.6198\n",
      "Epoch [48/70], Val Loss: 0.4979\n"
     ]
    },
    {
     "name": "stderr",
     "output_type": "stream",
     "text": [
      "train | loss: 0.6455: 100%|██████████| 7/7 [00:00<00:00, 201.52it/s]\n"
     ]
    },
    {
     "name": "stdout",
     "output_type": "stream",
     "text": [
      "Epoch [49/70], Train Loss: 0.6102\n",
      "Epoch [49/70], Val Loss: 0.4972\n"
     ]
    },
    {
     "name": "stderr",
     "output_type": "stream",
     "text": [
      "train | loss: 0.6148: 100%|██████████| 7/7 [00:00<00:00, 197.29it/s]\n"
     ]
    },
    {
     "name": "stdout",
     "output_type": "stream",
     "text": [
      "Epoch [50/70], Train Loss: 0.5838\n",
      "Epoch [50/70], Val Loss: 0.4958\n"
     ]
    },
    {
     "name": "stderr",
     "output_type": "stream",
     "text": [
      "train | loss: 0.5811: 100%|██████████| 7/7 [00:00<00:00, 189.46it/s]\n"
     ]
    },
    {
     "name": "stdout",
     "output_type": "stream",
     "text": [
      "Epoch [51/70], Train Loss: 0.5836\n",
      "Epoch [51/70], Val Loss: 0.4953\n"
     ]
    },
    {
     "name": "stderr",
     "output_type": "stream",
     "text": [
      "train | loss: 0.6154: 100%|██████████| 7/7 [00:00<00:00, 201.66it/s]\n"
     ]
    },
    {
     "name": "stdout",
     "output_type": "stream",
     "text": [
      "Epoch [52/70], Train Loss: 0.5928\n",
      "Epoch [52/70], Val Loss: 0.4955\n"
     ]
    },
    {
     "name": "stderr",
     "output_type": "stream",
     "text": [
      "train | loss: 0.5853: 100%|██████████| 7/7 [00:00<00:00, 128.04it/s]\n"
     ]
    },
    {
     "name": "stdout",
     "output_type": "stream",
     "text": [
      "Epoch [53/70], Train Loss: 0.5892\n",
      "Epoch [53/70], Val Loss: 0.4915\n"
     ]
    },
    {
     "name": "stderr",
     "output_type": "stream",
     "text": [
      "train | loss: 0.6095: 100%|██████████| 7/7 [00:00<00:00, 120.70it/s]\n"
     ]
    },
    {
     "name": "stdout",
     "output_type": "stream",
     "text": [
      "Epoch [54/70], Train Loss: 0.5852\n",
      "Epoch [54/70], Val Loss: 0.4893\n"
     ]
    },
    {
     "name": "stderr",
     "output_type": "stream",
     "text": [
      "train | loss: 0.6055: 100%|██████████| 7/7 [00:00<00:00, 136.45it/s]\n"
     ]
    },
    {
     "name": "stdout",
     "output_type": "stream",
     "text": [
      "Epoch [55/70], Train Loss: 0.5729\n",
      "Epoch [55/70], Val Loss: 0.4877\n"
     ]
    },
    {
     "name": "stderr",
     "output_type": "stream",
     "text": [
      "train | loss: 0.5375: 100%|██████████| 7/7 [00:00<00:00, 138.93it/s]\n"
     ]
    },
    {
     "name": "stdout",
     "output_type": "stream",
     "text": [
      "Epoch [56/70], Train Loss: 0.5843\n",
      "Epoch [56/70], Val Loss: 0.4876\n"
     ]
    },
    {
     "name": "stderr",
     "output_type": "stream",
     "text": [
      "train | loss: 0.5855: 100%|██████████| 7/7 [00:00<00:00, 213.29it/s]\n"
     ]
    },
    {
     "name": "stdout",
     "output_type": "stream",
     "text": [
      "Epoch [57/70], Train Loss: 0.5826\n",
      "Epoch [57/70], Val Loss: 0.4873\n"
     ]
    },
    {
     "name": "stderr",
     "output_type": "stream",
     "text": [
      "train | loss: 0.5591: 100%|██████████| 7/7 [00:00<00:00, 186.67it/s]\n"
     ]
    },
    {
     "name": "stdout",
     "output_type": "stream",
     "text": [
      "Epoch [58/70], Train Loss: 0.5919\n",
      "Epoch [58/70], Val Loss: 0.4856\n"
     ]
    },
    {
     "name": "stderr",
     "output_type": "stream",
     "text": [
      "train | loss: 0.5422: 100%|██████████| 7/7 [00:00<00:00, 186.29it/s]\n"
     ]
    },
    {
     "name": "stdout",
     "output_type": "stream",
     "text": [
      "Epoch [59/70], Train Loss: 0.5643\n",
      "Epoch [59/70], Val Loss: 0.4842\n"
     ]
    },
    {
     "name": "stderr",
     "output_type": "stream",
     "text": [
      "train | loss: 0.5838: 100%|██████████| 7/7 [00:00<00:00, 239.58it/s]\n"
     ]
    },
    {
     "name": "stdout",
     "output_type": "stream",
     "text": [
      "Epoch [60/70], Train Loss: 0.5777\n",
      "Epoch [60/70], Val Loss: 0.4837\n"
     ]
    },
    {
     "name": "stderr",
     "output_type": "stream",
     "text": [
      "train | loss: 0.5954: 100%|██████████| 7/7 [00:00<00:00, 182.11it/s]\n"
     ]
    },
    {
     "name": "stdout",
     "output_type": "stream",
     "text": [
      "Epoch [61/70], Train Loss: 0.5949\n",
      "Epoch [61/70], Val Loss: 0.4847\n"
     ]
    },
    {
     "name": "stderr",
     "output_type": "stream",
     "text": [
      "train | loss: 0.5508: 100%|██████████| 7/7 [00:00<00:00, 194.89it/s]\n"
     ]
    },
    {
     "name": "stdout",
     "output_type": "stream",
     "text": [
      "Epoch [62/70], Train Loss: 0.5737\n",
      "Epoch [62/70], Val Loss: 0.4823\n"
     ]
    },
    {
     "name": "stderr",
     "output_type": "stream",
     "text": [
      "train | loss: 0.5585: 100%|██████████| 7/7 [00:00<00:00, 203.17it/s]\n"
     ]
    },
    {
     "name": "stdout",
     "output_type": "stream",
     "text": [
      "Epoch [63/70], Train Loss: 0.5676\n",
      "Epoch [63/70], Val Loss: 0.4808\n"
     ]
    },
    {
     "name": "stderr",
     "output_type": "stream",
     "text": [
      "train | loss: 0.6064: 100%|██████████| 7/7 [00:00<00:00, 239.48it/s]\n"
     ]
    },
    {
     "name": "stdout",
     "output_type": "stream",
     "text": [
      "Epoch [64/70], Train Loss: 0.5632\n",
      "Epoch [64/70], Val Loss: 0.4800\n"
     ]
    },
    {
     "name": "stderr",
     "output_type": "stream",
     "text": [
      "train | loss: 0.5219: 100%|██████████| 7/7 [00:00<00:00, 211.33it/s]\n"
     ]
    },
    {
     "name": "stdout",
     "output_type": "stream",
     "text": [
      "Epoch [65/70], Train Loss: 0.5787\n",
      "Epoch [65/70], Val Loss: 0.4781\n"
     ]
    },
    {
     "name": "stderr",
     "output_type": "stream",
     "text": [
      "train | loss: 0.6008: 100%|██████████| 7/7 [00:00<00:00, 198.91it/s]\n"
     ]
    },
    {
     "name": "stdout",
     "output_type": "stream",
     "text": [
      "Epoch [66/70], Train Loss: 0.5574\n",
      "Epoch [66/70], Val Loss: 0.4770\n"
     ]
    },
    {
     "name": "stderr",
     "output_type": "stream",
     "text": [
      "train | loss: 0.5066: 100%|██████████| 7/7 [00:00<00:00, 224.92it/s]\n"
     ]
    },
    {
     "name": "stdout",
     "output_type": "stream",
     "text": [
      "Epoch [67/70], Train Loss: 0.5543\n",
      "Epoch [67/70], Val Loss: 0.4757\n"
     ]
    },
    {
     "name": "stderr",
     "output_type": "stream",
     "text": [
      "train | loss: 0.5653: 100%|██████████| 7/7 [00:00<00:00, 218.32it/s]\n"
     ]
    },
    {
     "name": "stdout",
     "output_type": "stream",
     "text": [
      "Epoch [68/70], Train Loss: 0.5549\n",
      "Epoch [68/70], Val Loss: 0.4753\n"
     ]
    },
    {
     "name": "stderr",
     "output_type": "stream",
     "text": [
      "train | loss: 0.5035: 100%|██████████| 7/7 [00:00<00:00, 211.40it/s]\n"
     ]
    },
    {
     "name": "stdout",
     "output_type": "stream",
     "text": [
      "Epoch [69/70], Train Loss: 0.5584\n",
      "Epoch [69/70], Val Loss: 0.4747\n"
     ]
    },
    {
     "name": "stderr",
     "output_type": "stream",
     "text": [
      "train | loss: 0.5620: 100%|██████████| 7/7 [00:00<00:00, 229.79it/s]\n"
     ]
    },
    {
     "name": "stdout",
     "output_type": "stream",
     "text": [
      "Epoch [70/70], Train Loss: 0.5477\n",
      "Epoch [70/70], Val Loss: 0.4736\n",
      "big loop: 8\n"
     ]
    },
    {
     "name": "stderr",
     "output_type": "stream",
     "text": [
      "train | loss: 3.9413: 100%|██████████| 7/7 [00:00<00:00, 237.84it/s]\n"
     ]
    },
    {
     "name": "stdout",
     "output_type": "stream",
     "text": [
      "Epoch [1/70], Train Loss: 2.3627\n",
      "Epoch [1/70], Val Loss: 1.1215\n"
     ]
    },
    {
     "name": "stderr",
     "output_type": "stream",
     "text": [
      "train | loss: 1.5115: 100%|██████████| 7/7 [00:00<00:00, 216.88it/s]\n"
     ]
    },
    {
     "name": "stdout",
     "output_type": "stream",
     "text": [
      "Epoch [2/70], Train Loss: 1.4000\n",
      "Epoch [2/70], Val Loss: 0.8690\n"
     ]
    },
    {
     "name": "stderr",
     "output_type": "stream",
     "text": [
      "train | loss: 1.2818: 100%|██████████| 7/7 [00:00<00:00, 227.91it/s]\n"
     ]
    },
    {
     "name": "stdout",
     "output_type": "stream",
     "text": [
      "Epoch [3/70], Train Loss: 1.1581\n",
      "Epoch [3/70], Val Loss: 0.7279\n"
     ]
    },
    {
     "name": "stderr",
     "output_type": "stream",
     "text": [
      "train | loss: 1.1481: 100%|██████████| 7/7 [00:00<00:00, 240.99it/s]\n"
     ]
    },
    {
     "name": "stdout",
     "output_type": "stream",
     "text": [
      "Epoch [4/70], Train Loss: 1.0213\n",
      "Epoch [4/70], Val Loss: 0.6458\n"
     ]
    },
    {
     "name": "stderr",
     "output_type": "stream",
     "text": [
      "train | loss: 0.9652: 100%|██████████| 7/7 [00:00<00:00, 224.84it/s]\n"
     ]
    },
    {
     "name": "stdout",
     "output_type": "stream",
     "text": [
      "Epoch [5/70], Train Loss: 0.9759\n",
      "Epoch [5/70], Val Loss: 0.6069\n"
     ]
    },
    {
     "name": "stderr",
     "output_type": "stream",
     "text": [
      "train | loss: 0.7983: 100%|██████████| 7/7 [00:00<00:00, 223.73it/s]\n"
     ]
    },
    {
     "name": "stdout",
     "output_type": "stream",
     "text": [
      "Epoch [6/70], Train Loss: 0.9087\n",
      "Epoch [6/70], Val Loss: 0.5862\n"
     ]
    },
    {
     "name": "stderr",
     "output_type": "stream",
     "text": [
      "train | loss: 0.9345: 100%|██████████| 7/7 [00:00<00:00, 209.97it/s]\n"
     ]
    },
    {
     "name": "stdout",
     "output_type": "stream",
     "text": [
      "Epoch [7/70], Train Loss: 0.8888\n",
      "Epoch [7/70], Val Loss: 0.5708\n"
     ]
    },
    {
     "name": "stderr",
     "output_type": "stream",
     "text": [
      "train | loss: 0.8888: 100%|██████████| 7/7 [00:00<00:00, 219.74it/s]\n"
     ]
    },
    {
     "name": "stdout",
     "output_type": "stream",
     "text": [
      "Epoch [8/70], Train Loss: 0.8626\n",
      "Epoch [8/70], Val Loss: 0.5586\n"
     ]
    },
    {
     "name": "stderr",
     "output_type": "stream",
     "text": [
      "train | loss: 0.8748: 100%|██████████| 7/7 [00:00<00:00, 196.71it/s]\n"
     ]
    },
    {
     "name": "stdout",
     "output_type": "stream",
     "text": [
      "Epoch [9/70], Train Loss: 0.8386\n",
      "Epoch [9/70], Val Loss: 0.5490\n"
     ]
    },
    {
     "name": "stderr",
     "output_type": "stream",
     "text": [
      "train | loss: 0.9017: 100%|██████████| 7/7 [00:00<00:00, 205.16it/s]\n"
     ]
    },
    {
     "name": "stdout",
     "output_type": "stream",
     "text": [
      "Epoch [10/70], Train Loss: 0.8157\n",
      "Epoch [10/70], Val Loss: 0.5409\n"
     ]
    },
    {
     "name": "stderr",
     "output_type": "stream",
     "text": [
      "train | loss: 0.8273: 100%|██████████| 7/7 [00:00<00:00, 227.37it/s]\n"
     ]
    },
    {
     "name": "stdout",
     "output_type": "stream",
     "text": [
      "Epoch [11/70], Train Loss: 0.8012\n",
      "Epoch [11/70], Val Loss: 0.5346\n"
     ]
    },
    {
     "name": "stderr",
     "output_type": "stream",
     "text": [
      "train | loss: 0.7869: 100%|██████████| 7/7 [00:00<00:00, 249.15it/s]\n"
     ]
    },
    {
     "name": "stdout",
     "output_type": "stream",
     "text": [
      "Epoch [12/70], Train Loss: 0.7905\n",
      "Epoch [12/70], Val Loss: 0.5291\n"
     ]
    },
    {
     "name": "stderr",
     "output_type": "stream",
     "text": [
      "train | loss: 0.8058: 100%|██████████| 7/7 [00:00<00:00, 230.72it/s]\n"
     ]
    },
    {
     "name": "stdout",
     "output_type": "stream",
     "text": [
      "Epoch [13/70], Train Loss: 0.7701\n",
      "Epoch [13/70], Val Loss: 0.5239\n"
     ]
    },
    {
     "name": "stderr",
     "output_type": "stream",
     "text": [
      "train | loss: 0.8271: 100%|██████████| 7/7 [00:00<00:00, 198.41it/s]\n"
     ]
    },
    {
     "name": "stdout",
     "output_type": "stream",
     "text": [
      "Epoch [14/70], Train Loss: 0.7584\n",
      "Epoch [14/70], Val Loss: 0.5200\n"
     ]
    },
    {
     "name": "stderr",
     "output_type": "stream",
     "text": [
      "train | loss: 0.6942: 100%|██████████| 7/7 [00:00<00:00, 87.74it/s]\n"
     ]
    },
    {
     "name": "stdout",
     "output_type": "stream",
     "text": [
      "Epoch [15/70], Train Loss: 0.7476\n",
      "Epoch [15/70], Val Loss: 0.5146\n"
     ]
    },
    {
     "name": "stderr",
     "output_type": "stream",
     "text": [
      "train | loss: 0.6838: 100%|██████████| 7/7 [00:00<00:00, 156.64it/s]\n"
     ]
    },
    {
     "name": "stdout",
     "output_type": "stream",
     "text": [
      "Epoch [16/70], Train Loss: 0.7347\n",
      "Epoch [16/70], Val Loss: 0.5115\n"
     ]
    },
    {
     "name": "stderr",
     "output_type": "stream",
     "text": [
      "train | loss: 0.7169: 100%|██████████| 7/7 [00:00<00:00, 194.85it/s]\n"
     ]
    },
    {
     "name": "stdout",
     "output_type": "stream",
     "text": [
      "Epoch [17/70], Train Loss: 0.7309\n",
      "Epoch [17/70], Val Loss: 0.5073\n"
     ]
    },
    {
     "name": "stderr",
     "output_type": "stream",
     "text": [
      "train | loss: 0.7415: 100%|██████████| 7/7 [00:00<00:00, 226.28it/s]\n"
     ]
    },
    {
     "name": "stdout",
     "output_type": "stream",
     "text": [
      "Epoch [18/70], Train Loss: 0.7121\n",
      "Epoch [18/70], Val Loss: 0.5040\n"
     ]
    },
    {
     "name": "stderr",
     "output_type": "stream",
     "text": [
      "train | loss: 0.7329: 100%|██████████| 7/7 [00:00<00:00, 226.39it/s]\n"
     ]
    },
    {
     "name": "stdout",
     "output_type": "stream",
     "text": [
      "Epoch [19/70], Train Loss: 0.7217\n",
      "Epoch [19/70], Val Loss: 0.5005\n"
     ]
    },
    {
     "name": "stderr",
     "output_type": "stream",
     "text": [
      "train | loss: 0.7389: 100%|██████████| 7/7 [00:00<00:00, 237.45it/s]\n"
     ]
    },
    {
     "name": "stdout",
     "output_type": "stream",
     "text": [
      "Epoch [20/70], Train Loss: 0.7060\n",
      "Epoch [20/70], Val Loss: 0.4988\n"
     ]
    },
    {
     "name": "stderr",
     "output_type": "stream",
     "text": [
      "train | loss: 0.7241: 100%|██████████| 7/7 [00:00<00:00, 246.18it/s]\n"
     ]
    },
    {
     "name": "stdout",
     "output_type": "stream",
     "text": [
      "Epoch [21/70], Train Loss: 0.7009\n",
      "Epoch [21/70], Val Loss: 0.4952\n"
     ]
    },
    {
     "name": "stderr",
     "output_type": "stream",
     "text": [
      "train | loss: 0.6618: 100%|██████████| 7/7 [00:00<00:00, 232.45it/s]\n"
     ]
    },
    {
     "name": "stdout",
     "output_type": "stream",
     "text": [
      "Epoch [22/70], Train Loss: 0.6815\n",
      "Epoch [22/70], Val Loss: 0.4916\n"
     ]
    },
    {
     "name": "stderr",
     "output_type": "stream",
     "text": [
      "train | loss: 0.6719: 100%|██████████| 7/7 [00:00<00:00, 246.48it/s]\n"
     ]
    },
    {
     "name": "stdout",
     "output_type": "stream",
     "text": [
      "Epoch [23/70], Train Loss: 0.6692\n",
      "Epoch [23/70], Val Loss: 0.4882\n"
     ]
    },
    {
     "name": "stderr",
     "output_type": "stream",
     "text": [
      "train | loss: 0.6813: 100%|██████████| 7/7 [00:00<00:00, 248.74it/s]"
     ]
    },
    {
     "name": "stdout",
     "output_type": "stream",
     "text": [
      "Epoch [24/70], Train Loss: 0.6608\n"
     ]
    },
    {
     "name": "stderr",
     "output_type": "stream",
     "text": [
      "\n"
     ]
    },
    {
     "name": "stdout",
     "output_type": "stream",
     "text": [
      "Epoch [24/70], Val Loss: 0.4855\n"
     ]
    },
    {
     "name": "stderr",
     "output_type": "stream",
     "text": [
      "train | loss: 0.7183: 100%|██████████| 7/7 [00:00<00:00, 231.20it/s]\n"
     ]
    },
    {
     "name": "stdout",
     "output_type": "stream",
     "text": [
      "Epoch [25/70], Train Loss: 0.6515\n",
      "Epoch [25/70], Val Loss: 0.4827\n"
     ]
    },
    {
     "name": "stderr",
     "output_type": "stream",
     "text": [
      "train | loss: 0.5945: 100%|██████████| 7/7 [00:00<00:00, 235.96it/s]\n"
     ]
    },
    {
     "name": "stdout",
     "output_type": "stream",
     "text": [
      "Epoch [26/70], Train Loss: 0.6423\n",
      "Epoch [26/70], Val Loss: 0.4800\n"
     ]
    },
    {
     "name": "stderr",
     "output_type": "stream",
     "text": [
      "train | loss: 0.6265: 100%|██████████| 7/7 [00:00<00:00, 237.16it/s]\n"
     ]
    },
    {
     "name": "stdout",
     "output_type": "stream",
     "text": [
      "Epoch [27/70], Train Loss: 0.6398\n",
      "Epoch [27/70], Val Loss: 0.4789\n"
     ]
    },
    {
     "name": "stderr",
     "output_type": "stream",
     "text": [
      "train | loss: 0.6229: 100%|██████████| 7/7 [00:00<00:00, 238.78it/s]\n"
     ]
    },
    {
     "name": "stdout",
     "output_type": "stream",
     "text": [
      "Epoch [28/70], Train Loss: 0.6343\n",
      "Epoch [28/70], Val Loss: 0.4766\n"
     ]
    },
    {
     "name": "stderr",
     "output_type": "stream",
     "text": [
      "train | loss: 0.5715: 100%|██████████| 7/7 [00:00<00:00, 225.96it/s]"
     ]
    },
    {
     "name": "stdout",
     "output_type": "stream",
     "text": [
      "Epoch [29/70], Train Loss: 0.6239\n"
     ]
    },
    {
     "name": "stderr",
     "output_type": "stream",
     "text": [
      "\n"
     ]
    },
    {
     "name": "stdout",
     "output_type": "stream",
     "text": [
      "Epoch [29/70], Val Loss: 0.4749\n"
     ]
    },
    {
     "name": "stderr",
     "output_type": "stream",
     "text": [
      "train | loss: 0.6029: 100%|██████████| 7/7 [00:00<00:00, 241.08it/s]\n"
     ]
    },
    {
     "name": "stdout",
     "output_type": "stream",
     "text": [
      "Epoch [30/70], Train Loss: 0.6161\n",
      "Epoch [30/70], Val Loss: 0.4728\n"
     ]
    },
    {
     "name": "stderr",
     "output_type": "stream",
     "text": [
      "train | loss: 0.6325: 100%|██████████| 7/7 [00:00<00:00, 251.62it/s]\n"
     ]
    },
    {
     "name": "stdout",
     "output_type": "stream",
     "text": [
      "Epoch [31/70], Train Loss: 0.6120\n",
      "Epoch [31/70], Val Loss: 0.4704\n"
     ]
    },
    {
     "name": "stderr",
     "output_type": "stream",
     "text": [
      "train | loss: 0.5798: 100%|██████████| 7/7 [00:00<00:00, 207.76it/s]\n"
     ]
    },
    {
     "name": "stdout",
     "output_type": "stream",
     "text": [
      "Epoch [32/70], Train Loss: 0.6187\n",
      "Epoch [32/70], Val Loss: 0.4692\n"
     ]
    },
    {
     "name": "stderr",
     "output_type": "stream",
     "text": [
      "train | loss: 0.6048: 100%|██████████| 7/7 [00:00<00:00, 235.68it/s]\n"
     ]
    },
    {
     "name": "stdout",
     "output_type": "stream",
     "text": [
      "Epoch [33/70], Train Loss: 0.5995\n",
      "Epoch [33/70], Val Loss: 0.4694\n"
     ]
    },
    {
     "name": "stderr",
     "output_type": "stream",
     "text": [
      "train | loss: 0.6195: 100%|██████████| 7/7 [00:00<00:00, 237.26it/s]\n"
     ]
    },
    {
     "name": "stdout",
     "output_type": "stream",
     "text": [
      "Epoch [34/70], Train Loss: 0.5991\n",
      "Epoch [34/70], Val Loss: 0.4660\n"
     ]
    },
    {
     "name": "stderr",
     "output_type": "stream",
     "text": [
      "train | loss: 0.5630: 100%|██████████| 7/7 [00:00<00:00, 198.51it/s]\n"
     ]
    },
    {
     "name": "stdout",
     "output_type": "stream",
     "text": [
      "Epoch [35/70], Train Loss: 0.5943\n",
      "Epoch [35/70], Val Loss: 0.4644\n"
     ]
    },
    {
     "name": "stderr",
     "output_type": "stream",
     "text": [
      "train | loss: 0.5550: 100%|██████████| 7/7 [00:00<00:00, 228.86it/s]\n"
     ]
    },
    {
     "name": "stdout",
     "output_type": "stream",
     "text": [
      "Epoch [36/70], Train Loss: 0.6062\n",
      "Epoch [36/70], Val Loss: 0.4630\n"
     ]
    },
    {
     "name": "stderr",
     "output_type": "stream",
     "text": [
      "train | loss: 0.5885: 100%|██████████| 7/7 [00:00<00:00, 213.13it/s]\n"
     ]
    },
    {
     "name": "stdout",
     "output_type": "stream",
     "text": [
      "Epoch [37/70], Train Loss: 0.5879\n",
      "Epoch [37/70], Val Loss: 0.4630\n"
     ]
    },
    {
     "name": "stderr",
     "output_type": "stream",
     "text": [
      "train | loss: 0.5319: 100%|██████████| 7/7 [00:00<00:00, 67.88it/s]\n"
     ]
    },
    {
     "name": "stdout",
     "output_type": "stream",
     "text": [
      "Epoch [38/70], Train Loss: 0.5899\n",
      "Epoch [38/70], Val Loss: 0.4607\n"
     ]
    },
    {
     "name": "stderr",
     "output_type": "stream",
     "text": [
      "train | loss: 0.5346: 100%|██████████| 7/7 [00:00<00:00, 183.76it/s]\n"
     ]
    },
    {
     "name": "stdout",
     "output_type": "stream",
     "text": [
      "Epoch [39/70], Train Loss: 0.5871\n",
      "Epoch [39/70], Val Loss: 0.4596\n"
     ]
    },
    {
     "name": "stderr",
     "output_type": "stream",
     "text": [
      "train | loss: 0.5772: 100%|██████████| 7/7 [00:00<00:00, 201.10it/s]\n"
     ]
    },
    {
     "name": "stdout",
     "output_type": "stream",
     "text": [
      "Epoch [40/70], Train Loss: 0.5645\n",
      "Epoch [40/70], Val Loss: 0.4566\n"
     ]
    },
    {
     "name": "stderr",
     "output_type": "stream",
     "text": [
      "train | loss: 0.5816: 100%|██████████| 7/7 [00:00<00:00, 193.02it/s]\n"
     ]
    },
    {
     "name": "stdout",
     "output_type": "stream",
     "text": [
      "Epoch [41/70], Train Loss: 0.5524\n",
      "Epoch [41/70], Val Loss: 0.4561\n"
     ]
    },
    {
     "name": "stderr",
     "output_type": "stream",
     "text": [
      "train | loss: 0.5475: 100%|██████████| 7/7 [00:00<00:00, 241.85it/s]\n"
     ]
    },
    {
     "name": "stdout",
     "output_type": "stream",
     "text": [
      "Epoch [42/70], Train Loss: 0.5613\n",
      "Epoch [42/70], Val Loss: 0.4528\n"
     ]
    },
    {
     "name": "stderr",
     "output_type": "stream",
     "text": [
      "train | loss: 0.5559: 100%|██████████| 7/7 [00:00<00:00, 190.47it/s]\n"
     ]
    },
    {
     "name": "stdout",
     "output_type": "stream",
     "text": [
      "Epoch [43/70], Train Loss: 0.5573\n",
      "Epoch [43/70], Val Loss: 0.4521\n"
     ]
    },
    {
     "name": "stderr",
     "output_type": "stream",
     "text": [
      "train | loss: 0.5410: 100%|██████████| 7/7 [00:00<00:00, 201.02it/s]\n"
     ]
    },
    {
     "name": "stdout",
     "output_type": "stream",
     "text": [
      "Epoch [44/70], Train Loss: 0.5605\n",
      "Epoch [44/70], Val Loss: 0.4504\n"
     ]
    },
    {
     "name": "stderr",
     "output_type": "stream",
     "text": [
      "train | loss: 0.5083: 100%|██████████| 7/7 [00:00<00:00, 205.68it/s]\n"
     ]
    },
    {
     "name": "stdout",
     "output_type": "stream",
     "text": [
      "Epoch [45/70], Train Loss: 0.5383\n",
      "Epoch [45/70], Val Loss: 0.4493\n"
     ]
    },
    {
     "name": "stderr",
     "output_type": "stream",
     "text": [
      "train | loss: 0.5321: 100%|██████████| 7/7 [00:00<00:00, 229.42it/s]\n"
     ]
    },
    {
     "name": "stdout",
     "output_type": "stream",
     "text": [
      "Epoch [46/70], Train Loss: 0.5472\n",
      "Epoch [46/70], Val Loss: 0.4480\n"
     ]
    },
    {
     "name": "stderr",
     "output_type": "stream",
     "text": [
      "train | loss: 0.5802: 100%|██████████| 7/7 [00:00<00:00, 223.07it/s]\n"
     ]
    },
    {
     "name": "stdout",
     "output_type": "stream",
     "text": [
      "Epoch [47/70], Train Loss: 0.5531\n",
      "Epoch [47/70], Val Loss: 0.4482\n"
     ]
    },
    {
     "name": "stderr",
     "output_type": "stream",
     "text": [
      "train | loss: 0.5528: 100%|██████████| 7/7 [00:00<00:00, 216.63it/s]\n"
     ]
    },
    {
     "name": "stdout",
     "output_type": "stream",
     "text": [
      "Epoch [48/70], Train Loss: 0.5462\n",
      "Epoch [48/70], Val Loss: 0.4493\n"
     ]
    },
    {
     "name": "stderr",
     "output_type": "stream",
     "text": [
      "train | loss: 0.4849: 100%|██████████| 7/7 [00:00<00:00, 216.92it/s]\n"
     ]
    },
    {
     "name": "stdout",
     "output_type": "stream",
     "text": [
      "Epoch [49/70], Train Loss: 0.5411\n",
      "Epoch [49/70], Val Loss: 0.4467\n"
     ]
    },
    {
     "name": "stderr",
     "output_type": "stream",
     "text": [
      "train | loss: 0.5116: 100%|██████████| 7/7 [00:00<00:00, 211.25it/s]\n"
     ]
    },
    {
     "name": "stdout",
     "output_type": "stream",
     "text": [
      "Epoch [50/70], Train Loss: 0.5481\n",
      "Epoch [50/70], Val Loss: 0.4448\n"
     ]
    },
    {
     "name": "stderr",
     "output_type": "stream",
     "text": [
      "train | loss: 0.4744: 100%|██████████| 7/7 [00:00<00:00, 221.73it/s]\n"
     ]
    },
    {
     "name": "stdout",
     "output_type": "stream",
     "text": [
      "Epoch [51/70], Train Loss: 0.5347\n",
      "Epoch [51/70], Val Loss: 0.4454\n"
     ]
    },
    {
     "name": "stderr",
     "output_type": "stream",
     "text": [
      "train | loss: 0.5313: 100%|██████████| 7/7 [00:00<00:00, 227.93it/s]\n"
     ]
    },
    {
     "name": "stdout",
     "output_type": "stream",
     "text": [
      "Epoch [52/70], Train Loss: 0.5335\n",
      "Epoch [52/70], Val Loss: 0.4439\n"
     ]
    },
    {
     "name": "stderr",
     "output_type": "stream",
     "text": [
      "train | loss: 0.4853: 100%|██████████| 7/7 [00:00<00:00, 226.63it/s]\n"
     ]
    },
    {
     "name": "stdout",
     "output_type": "stream",
     "text": [
      "Epoch [53/70], Train Loss: 0.5284\n",
      "Epoch [53/70], Val Loss: 0.4428\n"
     ]
    },
    {
     "name": "stderr",
     "output_type": "stream",
     "text": [
      "train | loss: 0.5683: 100%|██████████| 7/7 [00:00<00:00, 219.43it/s]\n"
     ]
    },
    {
     "name": "stdout",
     "output_type": "stream",
     "text": [
      "Epoch [54/70], Train Loss: 0.5369\n",
      "Epoch [54/70], Val Loss: 0.4398\n"
     ]
    },
    {
     "name": "stderr",
     "output_type": "stream",
     "text": [
      "train | loss: 0.5258: 100%|██████████| 7/7 [00:00<00:00, 221.99it/s]\n"
     ]
    },
    {
     "name": "stdout",
     "output_type": "stream",
     "text": [
      "Epoch [55/70], Train Loss: 0.5195\n",
      "Epoch [55/70], Val Loss: 0.4393\n"
     ]
    },
    {
     "name": "stderr",
     "output_type": "stream",
     "text": [
      "train | loss: 0.5642: 100%|██████████| 7/7 [00:00<00:00, 217.32it/s]\n"
     ]
    },
    {
     "name": "stdout",
     "output_type": "stream",
     "text": [
      "Epoch [56/70], Train Loss: 0.5161\n",
      "Epoch [56/70], Val Loss: 0.4404\n"
     ]
    },
    {
     "name": "stderr",
     "output_type": "stream",
     "text": [
      "train | loss: 0.5613: 100%|██████████| 7/7 [00:00<00:00, 173.32it/s]\n"
     ]
    },
    {
     "name": "stdout",
     "output_type": "stream",
     "text": [
      "Epoch [57/70], Train Loss: 0.5185\n",
      "Epoch [57/70], Val Loss: 0.4376\n"
     ]
    },
    {
     "name": "stderr",
     "output_type": "stream",
     "text": [
      "train | loss: 0.5070: 100%|██████████| 7/7 [00:00<00:00, 199.04it/s]\n"
     ]
    },
    {
     "name": "stdout",
     "output_type": "stream",
     "text": [
      "Epoch [58/70], Train Loss: 0.5126\n",
      "Epoch [58/70], Val Loss: 0.4368\n"
     ]
    },
    {
     "name": "stderr",
     "output_type": "stream",
     "text": [
      "train | loss: 0.5235: 100%|██████████| 7/7 [00:00<00:00, 211.08it/s]\n"
     ]
    },
    {
     "name": "stdout",
     "output_type": "stream",
     "text": [
      "Epoch [59/70], Train Loss: 0.5189\n",
      "Epoch [59/70], Val Loss: 0.4360\n"
     ]
    },
    {
     "name": "stderr",
     "output_type": "stream",
     "text": [
      "train | loss: 0.5186: 100%|██████████| 7/7 [00:00<00:00, 219.51it/s]\n"
     ]
    },
    {
     "name": "stdout",
     "output_type": "stream",
     "text": [
      "Epoch [60/70], Train Loss: 0.5220\n",
      "Epoch [60/70], Val Loss: 0.4354\n"
     ]
    },
    {
     "name": "stderr",
     "output_type": "stream",
     "text": [
      "train | loss: 0.5159: 100%|██████████| 7/7 [00:00<00:00, 213.12it/s]\n"
     ]
    },
    {
     "name": "stdout",
     "output_type": "stream",
     "text": [
      "Epoch [61/70], Train Loss: 0.5191\n",
      "Epoch [61/70], Val Loss: 0.4351\n"
     ]
    },
    {
     "name": "stderr",
     "output_type": "stream",
     "text": [
      "train | loss: 0.4621: 100%|██████████| 7/7 [00:00<00:00, 84.43it/s]"
     ]
    },
    {
     "name": "stdout",
     "output_type": "stream",
     "text": [
      "Epoch [62/70], Train Loss: 0.5059\n"
     ]
    },
    {
     "name": "stderr",
     "output_type": "stream",
     "text": [
      "\n"
     ]
    },
    {
     "name": "stdout",
     "output_type": "stream",
     "text": [
      "Epoch [62/70], Val Loss: 0.4337\n"
     ]
    },
    {
     "name": "stderr",
     "output_type": "stream",
     "text": [
      "train | loss: 0.4800: 100%|██████████| 7/7 [00:00<00:00, 202.28it/s]\n"
     ]
    },
    {
     "name": "stdout",
     "output_type": "stream",
     "text": [
      "Epoch [63/70], Train Loss: 0.5079\n",
      "Epoch [63/70], Val Loss: 0.4325\n"
     ]
    },
    {
     "name": "stderr",
     "output_type": "stream",
     "text": [
      "train | loss: 0.4942: 100%|██████████| 7/7 [00:00<00:00, 235.38it/s]"
     ]
    },
    {
     "name": "stdout",
     "output_type": "stream",
     "text": [
      "Epoch [64/70], Train Loss: 0.5078\n"
     ]
    },
    {
     "name": "stderr",
     "output_type": "stream",
     "text": [
      "\n"
     ]
    },
    {
     "name": "stdout",
     "output_type": "stream",
     "text": [
      "Epoch [64/70], Val Loss: 0.4322\n"
     ]
    },
    {
     "name": "stderr",
     "output_type": "stream",
     "text": [
      "train | loss: 0.4841: 100%|██████████| 7/7 [00:00<00:00, 211.24it/s]\n"
     ]
    },
    {
     "name": "stdout",
     "output_type": "stream",
     "text": [
      "Epoch [65/70], Train Loss: 0.5206\n",
      "Epoch [65/70], Val Loss: 0.4322\n"
     ]
    },
    {
     "name": "stderr",
     "output_type": "stream",
     "text": [
      "train | loss: 0.5099: 100%|██████████| 7/7 [00:00<00:00, 220.83it/s]\n"
     ]
    },
    {
     "name": "stdout",
     "output_type": "stream",
     "text": [
      "Epoch [66/70], Train Loss: 0.5184\n",
      "Epoch [66/70], Val Loss: 0.4323\n"
     ]
    },
    {
     "name": "stderr",
     "output_type": "stream",
     "text": [
      "train | loss: 0.5034: 100%|██████████| 7/7 [00:00<00:00, 201.51it/s]\n"
     ]
    },
    {
     "name": "stdout",
     "output_type": "stream",
     "text": [
      "Epoch [67/70], Train Loss: 0.5177\n",
      "Epoch [67/70], Val Loss: 0.4315\n"
     ]
    },
    {
     "name": "stderr",
     "output_type": "stream",
     "text": [
      "train | loss: 0.4959: 100%|██████████| 7/7 [00:00<00:00, 220.25it/s]\n"
     ]
    },
    {
     "name": "stdout",
     "output_type": "stream",
     "text": [
      "Epoch [68/70], Train Loss: 0.4991\n",
      "Epoch [68/70], Val Loss: 0.4311\n"
     ]
    },
    {
     "name": "stderr",
     "output_type": "stream",
     "text": [
      "train | loss: 0.4971: 100%|██████████| 7/7 [00:00<00:00, 208.26it/s]\n"
     ]
    },
    {
     "name": "stdout",
     "output_type": "stream",
     "text": [
      "Epoch [69/70], Train Loss: 0.5089\n",
      "Epoch [69/70], Val Loss: 0.4296\n"
     ]
    },
    {
     "name": "stderr",
     "output_type": "stream",
     "text": [
      "train | loss: 0.4820: 100%|██████████| 7/7 [00:00<00:00, 180.02it/s]\n"
     ]
    },
    {
     "name": "stdout",
     "output_type": "stream",
     "text": [
      "Epoch [70/70], Train Loss: 0.5054\n",
      "Epoch [70/70], Val Loss: 0.4293\n",
      "big loop: 9\n"
     ]
    },
    {
     "name": "stderr",
     "output_type": "stream",
     "text": [
      "train | loss: 3.9353: 100%|██████████| 7/7 [00:00<00:00, 207.02it/s]\n"
     ]
    },
    {
     "name": "stdout",
     "output_type": "stream",
     "text": [
      "Epoch [1/70], Train Loss: 2.3683\n",
      "Epoch [1/70], Val Loss: 1.0859\n"
     ]
    },
    {
     "name": "stderr",
     "output_type": "stream",
     "text": [
      "train | loss: 1.4679: 100%|██████████| 7/7 [00:00<00:00, 200.79it/s]\n"
     ]
    },
    {
     "name": "stdout",
     "output_type": "stream",
     "text": [
      "Epoch [2/70], Train Loss: 1.3437\n",
      "Epoch [2/70], Val Loss: 0.8919\n"
     ]
    },
    {
     "name": "stderr",
     "output_type": "stream",
     "text": [
      "train | loss: 1.2100: 100%|██████████| 7/7 [00:00<00:00, 210.50it/s]\n"
     ]
    },
    {
     "name": "stdout",
     "output_type": "stream",
     "text": [
      "Epoch [3/70], Train Loss: 1.1967\n",
      "Epoch [3/70], Val Loss: 0.7677\n"
     ]
    },
    {
     "name": "stderr",
     "output_type": "stream",
     "text": [
      "train | loss: 1.1266: 100%|██████████| 7/7 [00:00<00:00, 206.60it/s]\n"
     ]
    },
    {
     "name": "stdout",
     "output_type": "stream",
     "text": [
      "Epoch [4/70], Train Loss: 1.1037\n",
      "Epoch [4/70], Val Loss: 0.6942\n"
     ]
    },
    {
     "name": "stderr",
     "output_type": "stream",
     "text": [
      "train | loss: 1.0254: 100%|██████████| 7/7 [00:00<00:00, 203.94it/s]\n"
     ]
    },
    {
     "name": "stdout",
     "output_type": "stream",
     "text": [
      "Epoch [5/70], Train Loss: 1.0171\n",
      "Epoch [5/70], Val Loss: 0.6604\n"
     ]
    },
    {
     "name": "stderr",
     "output_type": "stream",
     "text": [
      "train | loss: 0.9466: 100%|██████████| 7/7 [00:00<00:00, 175.68it/s]\n"
     ]
    },
    {
     "name": "stdout",
     "output_type": "stream",
     "text": [
      "Epoch [6/70], Train Loss: 0.9570\n",
      "Epoch [6/70], Val Loss: 0.6335\n"
     ]
    },
    {
     "name": "stderr",
     "output_type": "stream",
     "text": [
      "train | loss: 0.9588: 100%|██████████| 7/7 [00:00<00:00, 212.42it/s]\n"
     ]
    },
    {
     "name": "stdout",
     "output_type": "stream",
     "text": [
      "Epoch [7/70], Train Loss: 0.9506\n",
      "Epoch [7/70], Val Loss: 0.6159\n"
     ]
    },
    {
     "name": "stderr",
     "output_type": "stream",
     "text": [
      "train | loss: 0.9547: 100%|██████████| 7/7 [00:00<00:00, 188.40it/s]\n"
     ]
    },
    {
     "name": "stdout",
     "output_type": "stream",
     "text": [
      "Epoch [8/70], Train Loss: 0.9134\n",
      "Epoch [8/70], Val Loss: 0.6036\n"
     ]
    },
    {
     "name": "stderr",
     "output_type": "stream",
     "text": [
      "train | loss: 0.8728: 100%|██████████| 7/7 [00:00<00:00, 87.47it/s]\n"
     ]
    },
    {
     "name": "stdout",
     "output_type": "stream",
     "text": [
      "Epoch [9/70], Train Loss: 0.8794\n",
      "Epoch [9/70], Val Loss: 0.5931\n"
     ]
    },
    {
     "name": "stderr",
     "output_type": "stream",
     "text": [
      "train | loss: 0.8645: 100%|██████████| 7/7 [00:00<00:00, 209.01it/s]\n"
     ]
    },
    {
     "name": "stdout",
     "output_type": "stream",
     "text": [
      "Epoch [10/70], Train Loss: 0.8639\n",
      "Epoch [10/70], Val Loss: 0.5842\n"
     ]
    },
    {
     "name": "stderr",
     "output_type": "stream",
     "text": [
      "train | loss: 0.7857: 100%|██████████| 7/7 [00:00<00:00, 226.00it/s]\n"
     ]
    },
    {
     "name": "stdout",
     "output_type": "stream",
     "text": [
      "Epoch [11/70], Train Loss: 0.8444\n",
      "Epoch [11/70], Val Loss: 0.5774\n"
     ]
    },
    {
     "name": "stderr",
     "output_type": "stream",
     "text": [
      "train | loss: 0.8153: 100%|██████████| 7/7 [00:00<00:00, 236.54it/s]\n"
     ]
    },
    {
     "name": "stdout",
     "output_type": "stream",
     "text": [
      "Epoch [12/70], Train Loss: 0.8346\n",
      "Epoch [12/70], Val Loss: 0.5721\n"
     ]
    },
    {
     "name": "stderr",
     "output_type": "stream",
     "text": [
      "train | loss: 0.8655: 100%|██████████| 7/7 [00:00<00:00, 210.56it/s]\n"
     ]
    },
    {
     "name": "stdout",
     "output_type": "stream",
     "text": [
      "Epoch [13/70], Train Loss: 0.8208\n",
      "Epoch [13/70], Val Loss: 0.5648\n"
     ]
    },
    {
     "name": "stderr",
     "output_type": "stream",
     "text": [
      "train | loss: 0.7464: 100%|██████████| 7/7 [00:00<00:00, 174.85it/s]\n"
     ]
    },
    {
     "name": "stdout",
     "output_type": "stream",
     "text": [
      "Epoch [14/70], Train Loss: 0.7982\n",
      "Epoch [14/70], Val Loss: 0.5597\n"
     ]
    },
    {
     "name": "stderr",
     "output_type": "stream",
     "text": [
      "train | loss: 0.8526: 100%|██████████| 7/7 [00:00<00:00, 185.77it/s]\n"
     ]
    },
    {
     "name": "stdout",
     "output_type": "stream",
     "text": [
      "Epoch [15/70], Train Loss: 0.7854\n",
      "Epoch [15/70], Val Loss: 0.5553\n"
     ]
    },
    {
     "name": "stderr",
     "output_type": "stream",
     "text": [
      "train | loss: 0.7335: 100%|██████████| 7/7 [00:00<00:00, 237.81it/s]\n"
     ]
    },
    {
     "name": "stdout",
     "output_type": "stream",
     "text": [
      "Epoch [16/70], Train Loss: 0.7943\n",
      "Epoch [16/70], Val Loss: 0.5508\n"
     ]
    },
    {
     "name": "stderr",
     "output_type": "stream",
     "text": [
      "train | loss: 0.7289: 100%|██████████| 7/7 [00:00<00:00, 219.53it/s]\n"
     ]
    },
    {
     "name": "stdout",
     "output_type": "stream",
     "text": [
      "Epoch [17/70], Train Loss: 0.7690\n",
      "Epoch [17/70], Val Loss: 0.5484\n"
     ]
    },
    {
     "name": "stderr",
     "output_type": "stream",
     "text": [
      "train | loss: 0.7180: 100%|██████████| 7/7 [00:00<00:00, 227.61it/s]\n"
     ]
    },
    {
     "name": "stdout",
     "output_type": "stream",
     "text": [
      "Epoch [18/70], Train Loss: 0.7585\n",
      "Epoch [18/70], Val Loss: 0.5427\n"
     ]
    },
    {
     "name": "stderr",
     "output_type": "stream",
     "text": [
      "train | loss: 0.7664: 100%|██████████| 7/7 [00:00<00:00, 217.08it/s]\n"
     ]
    },
    {
     "name": "stdout",
     "output_type": "stream",
     "text": [
      "Epoch [19/70], Train Loss: 0.7406\n",
      "Epoch [19/70], Val Loss: 0.5396\n"
     ]
    },
    {
     "name": "stderr",
     "output_type": "stream",
     "text": [
      "train | loss: 0.6862: 100%|██████████| 7/7 [00:00<00:00, 219.10it/s]\n"
     ]
    },
    {
     "name": "stdout",
     "output_type": "stream",
     "text": [
      "Epoch [20/70], Train Loss: 0.7349\n",
      "Epoch [20/70], Val Loss: 0.5354\n"
     ]
    },
    {
     "name": "stderr",
     "output_type": "stream",
     "text": [
      "train | loss: 0.7797: 100%|██████████| 7/7 [00:00<00:00, 221.27it/s]\n"
     ]
    },
    {
     "name": "stdout",
     "output_type": "stream",
     "text": [
      "Epoch [21/70], Train Loss: 0.7417\n",
      "Epoch [21/70], Val Loss: 0.5323\n"
     ]
    },
    {
     "name": "stderr",
     "output_type": "stream",
     "text": [
      "train | loss: 0.7537: 100%|██████████| 7/7 [00:00<00:00, 117.85it/s]\n"
     ]
    },
    {
     "name": "stdout",
     "output_type": "stream",
     "text": [
      "Epoch [22/70], Train Loss: 0.7160\n",
      "Epoch [22/70], Val Loss: 0.5292\n"
     ]
    },
    {
     "name": "stderr",
     "output_type": "stream",
     "text": [
      "train | loss: 0.7203: 100%|██████████| 7/7 [00:00<00:00, 126.90it/s]\n"
     ]
    },
    {
     "name": "stdout",
     "output_type": "stream",
     "text": [
      "Epoch [23/70], Train Loss: 0.7094\n",
      "Epoch [23/70], Val Loss: 0.5257\n"
     ]
    },
    {
     "name": "stderr",
     "output_type": "stream",
     "text": [
      "train | loss: 0.7140: 100%|██████████| 7/7 [00:00<00:00, 131.78it/s]\n"
     ]
    },
    {
     "name": "stdout",
     "output_type": "stream",
     "text": [
      "Epoch [24/70], Train Loss: 0.7090\n",
      "Epoch [24/70], Val Loss: 0.5231\n"
     ]
    },
    {
     "name": "stderr",
     "output_type": "stream",
     "text": [
      "train | loss: 0.7305: 100%|██████████| 7/7 [00:00<00:00, 228.05it/s]\n"
     ]
    },
    {
     "name": "stdout",
     "output_type": "stream",
     "text": [
      "Epoch [25/70], Train Loss: 0.6995\n",
      "Epoch [25/70], Val Loss: 0.5205\n"
     ]
    },
    {
     "name": "stderr",
     "output_type": "stream",
     "text": [
      "train | loss: 0.6323: 100%|██████████| 7/7 [00:00<00:00, 227.48it/s]\n"
     ]
    },
    {
     "name": "stdout",
     "output_type": "stream",
     "text": [
      "Epoch [26/70], Train Loss: 0.6782\n",
      "Epoch [26/70], Val Loss: 0.5184\n"
     ]
    },
    {
     "name": "stderr",
     "output_type": "stream",
     "text": [
      "train | loss: 0.7093: 100%|██████████| 7/7 [00:00<00:00, 193.82it/s]\n"
     ]
    },
    {
     "name": "stdout",
     "output_type": "stream",
     "text": [
      "Epoch [27/70], Train Loss: 0.6816\n",
      "Epoch [27/70], Val Loss: 0.5149\n"
     ]
    },
    {
     "name": "stderr",
     "output_type": "stream",
     "text": [
      "train | loss: 0.5811: 100%|██████████| 7/7 [00:00<00:00, 243.64it/s]\n"
     ]
    },
    {
     "name": "stdout",
     "output_type": "stream",
     "text": [
      "Epoch [28/70], Train Loss: 0.6953\n",
      "Epoch [28/70], Val Loss: 0.5133\n"
     ]
    },
    {
     "name": "stderr",
     "output_type": "stream",
     "text": [
      "train | loss: 0.6356: 100%|██████████| 7/7 [00:00<00:00, 203.57it/s]\n"
     ]
    },
    {
     "name": "stdout",
     "output_type": "stream",
     "text": [
      "Epoch [29/70], Train Loss: 0.6574\n",
      "Epoch [29/70], Val Loss: 0.5124\n"
     ]
    },
    {
     "name": "stderr",
     "output_type": "stream",
     "text": [
      "train | loss: 0.6841: 100%|██████████| 7/7 [00:00<00:00, 219.36it/s]\n"
     ]
    },
    {
     "name": "stdout",
     "output_type": "stream",
     "text": [
      "Epoch [30/70], Train Loss: 0.6517\n",
      "Epoch [30/70], Val Loss: 0.5097\n"
     ]
    },
    {
     "name": "stderr",
     "output_type": "stream",
     "text": [
      "train | loss: 0.6864: 100%|██████████| 7/7 [00:00<00:00, 245.98it/s]\n"
     ]
    },
    {
     "name": "stdout",
     "output_type": "stream",
     "text": [
      "Epoch [31/70], Train Loss: 0.6481\n",
      "Epoch [31/70], Val Loss: 0.5060\n"
     ]
    },
    {
     "name": "stderr",
     "output_type": "stream",
     "text": [
      "train | loss: 0.7233: 100%|██████████| 7/7 [00:00<00:00, 225.46it/s]\n"
     ]
    },
    {
     "name": "stdout",
     "output_type": "stream",
     "text": [
      "Epoch [32/70], Train Loss: 0.6459\n",
      "Epoch [32/70], Val Loss: 0.5037\n"
     ]
    },
    {
     "name": "stderr",
     "output_type": "stream",
     "text": [
      "train | loss: 0.6772: 100%|██████████| 7/7 [00:00<00:00, 239.15it/s]\n"
     ]
    },
    {
     "name": "stdout",
     "output_type": "stream",
     "text": [
      "Epoch [33/70], Train Loss: 0.6327\n",
      "Epoch [33/70], Val Loss: 0.5021\n"
     ]
    },
    {
     "name": "stderr",
     "output_type": "stream",
     "text": [
      "train | loss: 0.6771: 100%|██████████| 7/7 [00:00<00:00, 235.50it/s]"
     ]
    },
    {
     "name": "stdout",
     "output_type": "stream",
     "text": [
      "Epoch [34/70], Train Loss: 0.6345\n"
     ]
    },
    {
     "name": "stderr",
     "output_type": "stream",
     "text": [
      "\n"
     ]
    },
    {
     "name": "stdout",
     "output_type": "stream",
     "text": [
      "Epoch [34/70], Val Loss: 0.5004\n"
     ]
    },
    {
     "name": "stderr",
     "output_type": "stream",
     "text": [
      "train | loss: 0.6575: 100%|██████████| 7/7 [00:00<00:00, 242.13it/s]\n"
     ]
    },
    {
     "name": "stdout",
     "output_type": "stream",
     "text": [
      "Epoch [35/70], Train Loss: 0.6263\n",
      "Epoch [35/70], Val Loss: 0.4996\n"
     ]
    },
    {
     "name": "stderr",
     "output_type": "stream",
     "text": [
      "train | loss: 0.6224: 100%|██████████| 7/7 [00:00<00:00, 221.70it/s]\n"
     ]
    },
    {
     "name": "stdout",
     "output_type": "stream",
     "text": [
      "Epoch [36/70], Train Loss: 0.6280\n",
      "Epoch [36/70], Val Loss: 0.4985\n"
     ]
    },
    {
     "name": "stderr",
     "output_type": "stream",
     "text": [
      "train | loss: 0.6189: 100%|██████████| 7/7 [00:00<00:00, 230.49it/s]\n"
     ]
    },
    {
     "name": "stdout",
     "output_type": "stream",
     "text": [
      "Epoch [37/70], Train Loss: 0.6205\n",
      "Epoch [37/70], Val Loss: 0.4959\n"
     ]
    },
    {
     "name": "stderr",
     "output_type": "stream",
     "text": [
      "train | loss: 0.6168: 100%|██████████| 7/7 [00:00<00:00, 191.85it/s]\n"
     ]
    },
    {
     "name": "stdout",
     "output_type": "stream",
     "text": [
      "Epoch [38/70], Train Loss: 0.6279\n",
      "Epoch [38/70], Val Loss: 0.4955\n"
     ]
    },
    {
     "name": "stderr",
     "output_type": "stream",
     "text": [
      "train | loss: 0.5519: 100%|██████████| 7/7 [00:00<00:00, 91.71it/s]\n"
     ]
    },
    {
     "name": "stdout",
     "output_type": "stream",
     "text": [
      "Epoch [39/70], Train Loss: 0.6137\n",
      "Epoch [39/70], Val Loss: 0.4930\n"
     ]
    },
    {
     "name": "stderr",
     "output_type": "stream",
     "text": [
      "train | loss: 0.6301: 100%|██████████| 7/7 [00:00<00:00, 107.83it/s]\n"
     ]
    },
    {
     "name": "stdout",
     "output_type": "stream",
     "text": [
      "Epoch [40/70], Train Loss: 0.6106\n",
      "Epoch [40/70], Val Loss: 0.4916\n"
     ]
    },
    {
     "name": "stderr",
     "output_type": "stream",
     "text": [
      "train | loss: 0.6114: 100%|██████████| 7/7 [00:00<00:00, 200.91it/s]\n"
     ]
    },
    {
     "name": "stdout",
     "output_type": "stream",
     "text": [
      "Epoch [41/70], Train Loss: 0.6087\n",
      "Epoch [41/70], Val Loss: 0.4896\n"
     ]
    },
    {
     "name": "stderr",
     "output_type": "stream",
     "text": [
      "train | loss: 0.6058: 100%|██████████| 7/7 [00:00<00:00, 205.46it/s]\n"
     ]
    },
    {
     "name": "stdout",
     "output_type": "stream",
     "text": [
      "Epoch [42/70], Train Loss: 0.5979\n",
      "Epoch [42/70], Val Loss: 0.4892\n"
     ]
    },
    {
     "name": "stderr",
     "output_type": "stream",
     "text": [
      "train | loss: 0.6007: 100%|██████████| 7/7 [00:00<00:00, 221.15it/s]\n"
     ]
    },
    {
     "name": "stdout",
     "output_type": "stream",
     "text": [
      "Epoch [43/70], Train Loss: 0.5988\n",
      "Epoch [43/70], Val Loss: 0.4881\n"
     ]
    },
    {
     "name": "stderr",
     "output_type": "stream",
     "text": [
      "train | loss: 0.6038: 100%|██████████| 7/7 [00:00<00:00, 208.13it/s]\n"
     ]
    },
    {
     "name": "stdout",
     "output_type": "stream",
     "text": [
      "Epoch [44/70], Train Loss: 0.5995\n",
      "Epoch [44/70], Val Loss: 0.4861\n"
     ]
    },
    {
     "name": "stderr",
     "output_type": "stream",
     "text": [
      "train | loss: 0.5536: 100%|██████████| 7/7 [00:00<00:00, 223.81it/s]\n"
     ]
    },
    {
     "name": "stdout",
     "output_type": "stream",
     "text": [
      "Epoch [45/70], Train Loss: 0.5818\n",
      "Epoch [45/70], Val Loss: 0.4834\n"
     ]
    },
    {
     "name": "stderr",
     "output_type": "stream",
     "text": [
      "train | loss: 0.5933: 100%|██████████| 7/7 [00:00<00:00, 213.32it/s]\n"
     ]
    },
    {
     "name": "stdout",
     "output_type": "stream",
     "text": [
      "Epoch [46/70], Train Loss: 0.5800\n",
      "Epoch [46/70], Val Loss: 0.4822\n"
     ]
    },
    {
     "name": "stderr",
     "output_type": "stream",
     "text": [
      "train | loss: 0.5622: 100%|██████████| 7/7 [00:00<00:00, 234.80it/s]\n"
     ]
    },
    {
     "name": "stdout",
     "output_type": "stream",
     "text": [
      "Epoch [47/70], Train Loss: 0.5888\n",
      "Epoch [47/70], Val Loss: 0.4798\n"
     ]
    },
    {
     "name": "stderr",
     "output_type": "stream",
     "text": [
      "train | loss: 0.5962: 100%|██████████| 7/7 [00:00<00:00, 190.84it/s]\n"
     ]
    },
    {
     "name": "stdout",
     "output_type": "stream",
     "text": [
      "Epoch [48/70], Train Loss: 0.5795\n",
      "Epoch [48/70], Val Loss: 0.4797\n"
     ]
    },
    {
     "name": "stderr",
     "output_type": "stream",
     "text": [
      "train | loss: 0.5735: 100%|██████████| 7/7 [00:00<00:00, 251.95it/s]\n"
     ]
    },
    {
     "name": "stdout",
     "output_type": "stream",
     "text": [
      "Epoch [49/70], Train Loss: 0.5793\n",
      "Epoch [49/70], Val Loss: 0.4801\n"
     ]
    },
    {
     "name": "stderr",
     "output_type": "stream",
     "text": [
      "train | loss: 0.5930: 100%|██████████| 7/7 [00:00<00:00, 218.35it/s]\n"
     ]
    },
    {
     "name": "stdout",
     "output_type": "stream",
     "text": [
      "Epoch [50/70], Train Loss: 0.5803\n",
      "Epoch [50/70], Val Loss: 0.4776\n"
     ]
    },
    {
     "name": "stderr",
     "output_type": "stream",
     "text": [
      "train | loss: 0.5996: 100%|██████████| 7/7 [00:00<00:00, 227.96it/s]\n"
     ]
    },
    {
     "name": "stdout",
     "output_type": "stream",
     "text": [
      "Epoch [51/70], Train Loss: 0.5775\n",
      "Epoch [51/70], Val Loss: 0.4758\n"
     ]
    },
    {
     "name": "stderr",
     "output_type": "stream",
     "text": [
      "train | loss: 0.5565: 100%|██████████| 7/7 [00:00<00:00, 236.97it/s]\n"
     ]
    },
    {
     "name": "stdout",
     "output_type": "stream",
     "text": [
      "Epoch [52/70], Train Loss: 0.5648\n",
      "Epoch [52/70], Val Loss: 0.4747\n"
     ]
    },
    {
     "name": "stderr",
     "output_type": "stream",
     "text": [
      "train | loss: 0.5489: 100%|██████████| 7/7 [00:00<00:00, 228.03it/s]\n"
     ]
    },
    {
     "name": "stdout",
     "output_type": "stream",
     "text": [
      "Epoch [53/70], Train Loss: 0.5616\n",
      "Epoch [53/70], Val Loss: 0.4727\n"
     ]
    },
    {
     "name": "stderr",
     "output_type": "stream",
     "text": [
      "train | loss: 0.5383: 100%|██████████| 7/7 [00:00<00:00, 109.57it/s]\n"
     ]
    },
    {
     "name": "stdout",
     "output_type": "stream",
     "text": [
      "Epoch [54/70], Train Loss: 0.5898\n",
      "Epoch [54/70], Val Loss: 0.4725\n"
     ]
    },
    {
     "name": "stderr",
     "output_type": "stream",
     "text": [
      "train | loss: 0.5897: 100%|██████████| 7/7 [00:00<00:00, 73.26it/s]\n"
     ]
    },
    {
     "name": "stdout",
     "output_type": "stream",
     "text": [
      "Epoch [55/70], Train Loss: 0.5644\n",
      "Epoch [55/70], Val Loss: 0.4743\n"
     ]
    },
    {
     "name": "stderr",
     "output_type": "stream",
     "text": [
      "train | loss: 0.6467: 100%|██████████| 7/7 [00:00<00:00, 167.46it/s]\n"
     ]
    },
    {
     "name": "stdout",
     "output_type": "stream",
     "text": [
      "Epoch [56/70], Train Loss: 0.5759\n",
      "Epoch [56/70], Val Loss: 0.4723\n"
     ]
    },
    {
     "name": "stderr",
     "output_type": "stream",
     "text": [
      "train | loss: 0.5716: 100%|██████████| 7/7 [00:00<00:00, 185.15it/s]\n"
     ]
    },
    {
     "name": "stdout",
     "output_type": "stream",
     "text": [
      "Epoch [57/70], Train Loss: 0.5571\n",
      "Epoch [57/70], Val Loss: 0.4724\n"
     ]
    },
    {
     "name": "stderr",
     "output_type": "stream",
     "text": [
      "train | loss: 0.5647: 100%|██████████| 7/7 [00:00<00:00, 189.08it/s]\n"
     ]
    },
    {
     "name": "stdout",
     "output_type": "stream",
     "text": [
      "Epoch [58/70], Train Loss: 0.5614\n",
      "Epoch [58/70], Val Loss: 0.4703\n"
     ]
    },
    {
     "name": "stderr",
     "output_type": "stream",
     "text": [
      "train | loss: 0.6073: 100%|██████████| 7/7 [00:00<00:00, 220.62it/s]"
     ]
    },
    {
     "name": "stdout",
     "output_type": "stream",
     "text": [
      "Epoch [59/70], Train Loss: 0.5644\n"
     ]
    },
    {
     "name": "stderr",
     "output_type": "stream",
     "text": [
      "\n"
     ]
    },
    {
     "name": "stdout",
     "output_type": "stream",
     "text": [
      "Epoch [59/70], Val Loss: 0.4679\n"
     ]
    },
    {
     "name": "stderr",
     "output_type": "stream",
     "text": [
      "train | loss: 0.5770: 100%|██████████| 7/7 [00:00<00:00, 235.93it/s]\n"
     ]
    },
    {
     "name": "stdout",
     "output_type": "stream",
     "text": [
      "Epoch [60/70], Train Loss: 0.5549\n",
      "Epoch [60/70], Val Loss: 0.4678\n"
     ]
    },
    {
     "name": "stderr",
     "output_type": "stream",
     "text": [
      "train | loss: 0.5938: 100%|██████████| 7/7 [00:00<00:00, 201.05it/s]\n"
     ]
    },
    {
     "name": "stdout",
     "output_type": "stream",
     "text": [
      "Epoch [61/70], Train Loss: 0.5637\n",
      "Epoch [61/70], Val Loss: 0.4666\n"
     ]
    },
    {
     "name": "stderr",
     "output_type": "stream",
     "text": [
      "train | loss: 0.5822: 100%|██████████| 7/7 [00:00<00:00, 216.93it/s]\n"
     ]
    },
    {
     "name": "stdout",
     "output_type": "stream",
     "text": [
      "Epoch [62/70], Train Loss: 0.5506\n",
      "Epoch [62/70], Val Loss: 0.4660\n"
     ]
    },
    {
     "name": "stderr",
     "output_type": "stream",
     "text": [
      "train | loss: 0.5332: 100%|██████████| 7/7 [00:00<00:00, 222.48it/s]\n"
     ]
    },
    {
     "name": "stdout",
     "output_type": "stream",
     "text": [
      "Epoch [63/70], Train Loss: 0.5498\n",
      "Epoch [63/70], Val Loss: 0.4651\n"
     ]
    },
    {
     "name": "stderr",
     "output_type": "stream",
     "text": [
      "train | loss: 0.5640: 100%|██████████| 7/7 [00:00<00:00, 255.22it/s]\n"
     ]
    },
    {
     "name": "stdout",
     "output_type": "stream",
     "text": [
      "Epoch [64/70], Train Loss: 0.5467\n",
      "Epoch [64/70], Val Loss: 0.4640\n"
     ]
    },
    {
     "name": "stderr",
     "output_type": "stream",
     "text": [
      "train | loss: 0.5379: 100%|██████████| 7/7 [00:00<00:00, 212.20it/s]\n"
     ]
    },
    {
     "name": "stdout",
     "output_type": "stream",
     "text": [
      "Epoch [65/70], Train Loss: 0.5408\n",
      "Epoch [65/70], Val Loss: 0.4638\n"
     ]
    },
    {
     "name": "stderr",
     "output_type": "stream",
     "text": [
      "train | loss: 0.5928: 100%|██████████| 7/7 [00:00<00:00, 220.18it/s]\n"
     ]
    },
    {
     "name": "stdout",
     "output_type": "stream",
     "text": [
      "Epoch [66/70], Train Loss: 0.5443\n",
      "Epoch [66/70], Val Loss: 0.4628\n"
     ]
    },
    {
     "name": "stderr",
     "output_type": "stream",
     "text": [
      "train | loss: 0.5666: 100%|██████████| 7/7 [00:00<00:00, 221.00it/s]\n"
     ]
    },
    {
     "name": "stdout",
     "output_type": "stream",
     "text": [
      "Epoch [67/70], Train Loss: 0.5399\n",
      "Epoch [67/70], Val Loss: 0.4605\n"
     ]
    },
    {
     "name": "stderr",
     "output_type": "stream",
     "text": [
      "train | loss: 0.5757: 100%|██████████| 7/7 [00:00<00:00, 245.58it/s]\n"
     ]
    },
    {
     "name": "stdout",
     "output_type": "stream",
     "text": [
      "Epoch [68/70], Train Loss: 0.5593\n",
      "Epoch [68/70], Val Loss: 0.4602\n"
     ]
    },
    {
     "name": "stderr",
     "output_type": "stream",
     "text": [
      "train | loss: 0.4751: 100%|██████████| 7/7 [00:00<00:00, 106.10it/s]\n"
     ]
    },
    {
     "name": "stdout",
     "output_type": "stream",
     "text": [
      "Epoch [69/70], Train Loss: 0.5377\n",
      "Epoch [69/70], Val Loss: 0.4592\n"
     ]
    },
    {
     "name": "stderr",
     "output_type": "stream",
     "text": [
      "train | loss: 0.5299: 100%|██████████| 7/7 [00:00<00:00, 152.92it/s]"
     ]
    },
    {
     "name": "stdout",
     "output_type": "stream",
     "text": [
      "Epoch [70/70], Train Loss: 0.5386\n",
      "Epoch [70/70], Val Loss: 0.4599\n"
     ]
    },
    {
     "name": "stderr",
     "output_type": "stream",
     "text": [
      "\n"
     ]
    }
   ],
   "source": [
    "import torch\n",
    "import torch.nn as nn\n",
    "import torch.optim as optim\n",
    "from torch.utils.data import DataLoader, Dataset\n",
    "import numpy as np\n",
    "from taskdataset import TaskDataset\n",
    "import matplotlib.pyplot as plt\n",
    "import os\n",
    "import time\n",
    "import pickle as pkl\n",
    "from tqdm import tqdm\n",
    "import argparse\n",
    "\n",
    "from t2_functions import train, validate, l1_reg, lin_augment_affine\n",
    "\n",
    "class RepresentationsDataset(Dataset):\n",
    "    def __init__(self, x, y):\n",
    "        self.x = x\n",
    "        self.y = y\n",
    "\n",
    "    def __len__(self):\n",
    "        return len(self.x)\n",
    "\n",
    "    def __getitem__(self, idx):\n",
    "        x, y = self.x[idx], self.y[idx]\n",
    "        return torch.tensor(x), torch.tensor(y)\n",
    "\n",
    "class MLP(nn.Module):\n",
    "    def __init__(self, input_size, hidden_size, output_size):\n",
    "        super(MLP, self).__init__()\n",
    "        self.fc1 = nn.Linear(input_size, hidden_size)\n",
    "        self.fc2 = nn.Linear(hidden_size, output_size)\n",
    "    \n",
    "    def forward(self, x):\n",
    "        x = torch.relu(self.fc1(x))\n",
    "        x = self.fc2(x)\n",
    "        return x\n",
    "    \n",
    "class Linear(nn.Module):\n",
    "    def __init__(self, input_size, output_size):\n",
    "        super(Linear, self).__init__()\n",
    "        self.fc1 = nn.Linear(input_size, output_size)\n",
    "    \n",
    "    def forward(self, x):\n",
    "        x = self.fc1(x)\n",
    "        return x\n",
    "\n",
    "\n",
    "criterion = nn.MSELoss()\n",
    "batch_size = 32\n",
    "epochs = 70\n",
    "lr = 0.001\n",
    "\n",
    "preds = []\n",
    "ids = []\n",
    "\n",
    "for i in range(10):\n",
    "    print(f\"big loop: {i}\")\n",
    "    folder = os.path.join('./data', 'test', 'affine', str(3), f'partition_{i}')\n",
    "    with open(f'{folder}/A_train', 'rb') as f:\n",
    "        A_train_reps = pkl.load(f)\n",
    "    with open(f'{folder}/B_train', 'rb') as f:\n",
    "        B_train_reps = pkl.load(f)\n",
    "    with open(f'{folder}/B_test', 'rb') as f:\n",
    "        B_test_reps = pkl.load(f)\n",
    "    with open(f'{folder}/ids_train', 'rb') as f:\n",
    "        ids_train = pkl.load(f)\n",
    "    with open(f'{folder}/ids_test', 'rb') as f:\n",
    "        ids_test = pkl.load(f)\n",
    "\n",
    "    A_train_aug = torch.tensor(A_train_reps, dtype=torch.float32)\n",
    "    B_train_aug = torch.tensor(B_train_reps, dtype=torch.float32)\n",
    "    # A_train_aug, B_train_aug = lin_augment_affine(A_train_aug, B_train_aug, new_for_each_pair=1)\n",
    "\n",
    "    train_dataset = RepresentationsDataset(x=A_train_aug, y=B_train_aug)\n",
    "    train_loader = DataLoader(train_dataset, batch_size=batch_size, shuffle=True)\n",
    "\n",
    "    lin_net = Linear(384, 384)\n",
    "    lin_empty_net = Linear(384, 384)\n",
    "\n",
    "    optim = torch.optim.Adam(lr=lr, params=lin_net.parameters())\n",
    "\n",
    "    lin_last_net, lin_best_net = train(epochs, optim, criterion, l1_reg, train_loader, train_loader, lin_net, lin_empty_net, reg_lambda=0.0001)\n",
    "\n",
    "    B_reps = np.concatenate([B_train_reps, B_test_reps], axis=0)\n",
    "    B_reps = torch.tensor(B_reps, dtype=torch.float32)\n",
    "\n",
    "    A_preds = lin_last_net(B_reps)\n",
    "    A_preds = A_preds.detach().numpy()\n",
    "    A_preds[:200] = np.array(A_train_reps)\n",
    "    \n",
    "    preds.append(A_preds)\n",
    "\n",
    "    # to delete\n",
    "    # ids_train = np.arange(B_train_reps.shape[0])\n",
    "    # ids_test = np.arange(B_test_reps.shape[0])\n",
    "\n",
    "    ids_iter = np.concatenate([ids_train, ids_test], axis=0)\n",
    "    ids.append(ids_iter)\n",
    "\n",
    "    # Convert the concatenated tensor to a NumPy array\n",
    "\n",
    "preds = np.concatenate(preds, axis=0)\n",
    "ids = np.concatenate(ids, axis=0)\n",
    "\n",
    "# id_rep_map = {id: rep for id, rep in zip(ids, preds)}\n",
    "\n",
    "dataset = torch.load(\"./data/SybilAttack.pt\")\n",
    "# representations = [id_rep_map[id] for id in dataset.ids]\n",
    "\n",
    "# np.savez(\"./task2_submission.npz\", ids=dataset.ids, representations=representations)\n",
    "    \n"
   ]
  },
  {
   "cell_type": "code",
   "execution_count": null,
   "metadata": {},
   "outputs": [],
   "source": []
  },
  {
   "cell_type": "code",
   "execution_count": 16,
   "metadata": {},
   "outputs": [],
   "source": [
    "representations = []\n",
    "for i, id in enumerate(dataset.ids):\n",
    "    if id in id_rep_map:\n",
    "        representations.append(id_rep_map[id])\n",
    "    else:\n",
    "        representations.append(preds[i])\n",
    "\n",
    "np.savez(\"./task2_submission60.npz\", ids=dataset.ids, representations=representations)"
   ]
  },
  {
   "cell_type": "code",
   "execution_count": 17,
   "metadata": {},
   "outputs": [
    {
     "name": "stdout",
     "output_type": "stream",
     "text": [
      "17991\n"
     ]
    }
   ],
   "source": [
    "set1 = set(id_rep_map.keys())\n",
    "set2 = set(dataset.ids)\n",
    "\n",
    "print(len(set2 - set1))\n"
   ]
  },
  {
   "cell_type": "code",
   "execution_count": null,
   "metadata": {},
   "outputs": [],
   "source": []
  }
 ],
 "metadata": {
  "kernelspec": {
   "display_name": "dnn",
   "language": "python",
   "name": "python3"
  },
  "language_info": {
   "codemirror_mode": {
    "name": "ipython",
    "version": 3
   },
   "file_extension": ".py",
   "mimetype": "text/x-python",
   "name": "python",
   "nbconvert_exporter": "python",
   "pygments_lexer": "ipython3",
   "version": "3.11.7"
  }
 },
 "nbformat": 4,
 "nbformat_minor": 2
}
