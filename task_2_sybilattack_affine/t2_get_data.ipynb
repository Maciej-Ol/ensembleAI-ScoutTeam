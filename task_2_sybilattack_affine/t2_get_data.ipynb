{
 "cells": [
  {
   "cell_type": "code",
   "execution_count": 17,
   "metadata": {},
   "outputs": [
    {
     "name": "stdout",
     "output_type": "stream",
     "text": [
      "/home/janek/Documents/Hackaton/ensembleAI-ScoutTeam/task_2_sybilattack_affine\n",
      "Request ok\n",
      "{'msg': 'Successful sybil affine reset home'}\n",
      "Request ok\n",
      "{'msg': 'Successful sybil affine reset defense'}\n"
     ]
    }
   ],
   "source": [
    "import torch\n",
    "import torch.nn as nn\n",
    "import torch.optim as optim\n",
    "from torch.utils.data import DataLoader, Dataset\n",
    "import numpy as np\n",
    "from taskdataset import TaskDataset\n",
    "import matplotlib.pyplot as plt\n",
    "import os\n",
    "import time\n",
    "import pickle as pkl\n",
    "import argparse\n",
    "\n",
    "from t2_functions import partition_ids, partition_ids2, find_independent_set\n",
    "\n",
    "import sys\n",
    "\n",
    "sys.path.append(os.path.join(os.getcwd(), \"task_2_sybilattack/\"))\n",
    "\n",
    "from endpoints.requests import sybil, sybil_reset\n",
    "\n",
    "print(os.getcwd())\n",
    "dataset = torch.load(\"data/SybilAttack.pt\")\n",
    "\n",
    "ids = np.array(dataset.ids)\n",
    "binned_ids = partition_ids(ids, main_bin_num=10)\n",
    "\n",
    "#binned_ids2 = partition_ids2(ids, dataset.imgs, main_bin_num=10)\n",
    "\n",
    "task = 'affine'\n",
    "\n",
    "sybil_reset(home_or_defense='home', binary_or_affine=task)\n",
    "sybil_reset(home_or_defense='defense', binary_or_affine=task)\n",
    "time.sleep(10)"
   ]
  },
  {
   "cell_type": "code",
   "execution_count": 24,
   "metadata": {},
   "outputs": [
    {
     "name": "stdout",
     "output_type": "stream",
     "text": [
      "main loop: 9\n",
      "Request ok\n",
      "{'msg': 'Successful sybil affine reset defense'}\n",
      "2000\n",
      "A train reps: 200\n"
     ]
    }
   ],
   "source": [
    "for i in range(9, 10):\n",
    "    print(f'main loop: {i}')\n",
    "    sybil_reset(home_or_defense='defense', binary_or_affine=task)\n",
    "    time.sleep(10)\n",
    "    ids = binned_ids[i]\n",
    "    print(len(ids))\n",
    "    B_reps = sybil(ids=ids,\n",
    "                home_or_defense='defense',\n",
    "                binary_or_affine=task)\n",
    "    '''\n",
    "    B_indep, indexes, success = find_independent_set(B_reps, k=200)\n",
    "    print(f\"success: {success}\")\n",
    "\n",
    "    ids_train = ids[indexes]\n",
    "    mask = np.ones(len(ids), dtype=bool)\n",
    "    mask[indexes] = False\n",
    "    ids_test = ids[mask]'''\n",
    "\n",
    "    B_reps = np.array(B_reps)\n",
    "    B_train_reps = B_reps[:200]\n",
    "    B_test_reps = B_reps[200:]\n",
    "\n",
    "    A_train_reps = sybil(ids=ids[:200],\n",
    "                    home_or_defense='home',\n",
    "                    binary_or_affine=task)\n",
    "    print(f\"A train reps: {len(A_train_reps)}\")\n",
    "\n",
    "    folder = os.path.join('data', 'test', task, str(3), f'partition_{i}')\n",
    "    os.makedirs(folder, exist_ok=True)\n",
    "\n",
    "    with open(f'{folder}/A_train', 'wb') as f:\n",
    "        pkl.dump(A_train_reps, f)\n",
    "    with open(f'{folder}/B_train', 'wb') as f:\n",
    "        pkl.dump(B_train_reps, f)\n",
    "    with open(f'{folder}/B_test', 'wb') as f:\n",
    "        pkl.dump(B_test_reps, f)\n",
    "    with open(f'{folder}/ids_train', 'wb') as f:\n",
    "        pkl.dump(ids[:200], f)\n",
    "    with open(f'{folder}/ids_test', 'wb') as f:\n",
    "        pkl.dump(ids[200:], f)\n"
   ]
  },
  {
   "cell_type": "code",
   "execution_count": null,
   "metadata": {},
   "outputs": [],
   "source": []
  }
 ],
 "metadata": {
  "kernelspec": {
   "display_name": "dnn",
   "language": "python",
   "name": "python3"
  },
  "language_info": {
   "codemirror_mode": {
    "name": "ipython",
    "version": 3
   },
   "file_extension": ".py",
   "mimetype": "text/x-python",
   "name": "python",
   "nbconvert_exporter": "python",
   "pygments_lexer": "ipython3",
   "version": "3.11.7"
  }
 },
 "nbformat": 4,
 "nbformat_minor": 2
}
